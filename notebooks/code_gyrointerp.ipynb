{
 "cells": [
  {
   "cell_type": "markdown",
   "id": "d560b0b5-32a2-4c33-9ef2-25de0688a014",
   "metadata": {},
   "source": [
    "# gyrochronology fitting using gyro-interp\n",
    "* https://gyro-interp.readthedocs.io/en/latest/examples.html"
   ]
  },
  {
   "cell_type": "markdown",
   "id": "f5d1f929-4a2e-41ff-ae3d-39a4e2b6a503",
   "metadata": {},
   "source": [
    "gyro-interp needs rotation period and Teff of the star to estimate its age. \n",
    "\n",
    "Using `Target.query_vizier_param()`, I compiled useful parameters into a table."
   ]
  },
  {
   "cell_type": "code",
   "execution_count": 1,
   "id": "1fc93c31-015e-4d29-99eb-b23959f5dc63",
   "metadata": {},
   "outputs": [],
   "source": [
    "import sys\n",
    "\n",
    "# make sure you are using `gyrointerp` environment\n",
    "assert sys.executable.split('/')[5]=='gyrointerp'"
   ]
  },
  {
   "cell_type": "code",
   "execution_count": 2,
   "id": "c36c769c-af1d-492a-b6d0-142bc7de07fb",
   "metadata": {},
   "outputs": [],
   "source": [
    "# Inside this jupyter lab, do not use `pip install xxx`, instead use:\n",
    "# import sys\n",
    "# !{sys.executable} -m pip install xxx"
   ]
  },
  {
   "cell_type": "code",
   "execution_count": 3,
   "id": "0ca21867-530c-4af2-8371-ab3bba8e4980",
   "metadata": {},
   "outputs": [
    {
     "name": "stdout",
     "output_type": "stream",
     "text": [
      "Name: gyrointerp\n",
      "Version: 0.5\n",
      "Summary: Gyrochronology via interpolation of open cluster rotation sequences.\n",
      "Home-page: https://github.com/lgbouma/gyro-interp\n",
      "Author: Luke Bouma\n",
      "Author-email: bouma.luke@gmail.com\n",
      "License: MIT\n",
      "Location: /mnt_ut3/raid_ut3/home/jerome/github/research/project/ext_tools/gyro-interp\n",
      "Editable project location: /mnt_ut3/raid_ut3/home/jerome/github/research/project/ext_tools/gyro-interp\n",
      "Requires: astropy, matplotlib, numpy, pandas, scipy\n",
      "Required-by: \n"
     ]
    }
   ],
   "source": [
    "# check if package is installed\n",
    "!{sys.executable} -m pip show gyrointerp"
   ]
  },
  {
   "cell_type": "markdown",
   "id": "3314ebe3-b954-489b-9f56-c337b155227e",
   "metadata": {},
   "source": [
    "## Bouma+2024b data"
   ]
  },
  {
   "cell_type": "code",
   "execution_count": 4,
   "id": "f77c1a26-a436-4620-bc16-018d1259ff63",
   "metadata": {},
   "outputs": [
    {
     "data": {
      "text/html": [
       "<div><i>Table length=3</i>\n",
       "<table id=\"table140635378276896\" class=\"table-striped table-bordered table-condensed\">\n",
       "<thead><tr><th>KIC</th><th>KOI</th><th>Kepler</th><th>Disp</th><th>Teff</th><th>e_Teff</th><th>r_Teff</th><th>Prot</th><th>e_Prot</th><th>r_Prot</th><th>EW</th><th>e_EW</th><th>tGyro</th><th>E_tGyro</th><th>e_tGyro</th><th>2Up-tGyro</th><th>2Lo-tGyro</th><th>tLi</th><th>E_tLi</th><th>e_tLi</th><th>Rp</th><th>r_Rp</th><th>Per</th><th>StarFlag</th><th>PlanetFlag</th><th>HiRes</th><th>Consist</th><th>f_tGyro</th><th>f_tLi</th></tr></thead>\n",
       "<thead><tr><th></th><th></th><th></th><th></th><th>K</th><th>K</th><th></th><th>d</th><th>d</th><th></th><th>1e-13 m</th><th>1e-13 m</th><th>Myr</th><th>Myr</th><th>Myr</th><th>Myr</th><th>Myr</th><th>1e-13 m</th><th>1e-13 m</th><th>1e-13 m</th><th>Rgeo</th><th></th><th>d</th><th></th><th></th><th></th><th></th><th></th><th></th></tr></thead>\n",
       "<thead><tr><th>int64</th><th>str9</th><th>str14</th><th>str9</th><th>int64</th><th>int64</th><th>str19</th><th>str5</th><th>str5</th><th>str19</th><th>int64</th><th>int64</th><th>int64</th><th>int64</th><th>int64</th><th>int64</th><th>int64</th><th>int64</th><th>int64</th><th>int64</th><th>float64</th><th>str19</th><th>float64</th><th>int64</th><th>int64</th><th>int64</th><th>str5</th><th>str6</th><th>str5</th></tr></thead>\n",
       "<tr><td>6184894</td><td>K05245.01</td><td>Kepler-1627 b</td><td>CONFIRMED</td><td>5357</td><td>95</td><td>2020AJ....159..280B</td><td>2.620</td><td>0.026</td><td>2021ApJS..255...17S</td><td>225</td><td>7</td><td>81</td><td>158</td><td>55</td><td>413</td><td>77</td><td>51</td><td>38</td><td>27</td><td>3.79</td><td>2022AJ....163..121B</td><td>7.2</td><td>2176</td><td>0</td><td>1</td><td>Yes</td><td>--</td><td>--</td></tr>\n",
       "<tr><td>10736489</td><td>K07368.01</td><td>Kepler-1974 b</td><td>CONFIRMED</td><td>5068</td><td>76</td><td>2020AJ....159..280B</td><td>2.560</td><td>0.026</td><td>2021ApJS..255...17S</td><td>248</td><td>4</td><td>88</td><td>183</td><td>60</td><td>420</td><td>84</td><td>54</td><td>47</td><td>25</td><td>2.22</td><td>2022AJ....164..215B</td><td>6.84</td><td>2560</td><td>0</td><td>1</td><td>Yes</td><td>--</td><td>--</td></tr>\n",
       "<tr><td>10717220</td><td>K06228.01</td><td>Kepler-1644 b</td><td>CONFIRMED</td><td>5521</td><td>109</td><td>2020AJ....159..280B</td><td>1.430</td><td>0.014</td><td>2021ApJS..255...17S</td><td>-2</td><td>13</td><td>77</td><td>144</td><td>53</td><td>409</td><td>74</td><td>--</td><td>--</td><td>--</td><td>1.88</td><td>10.26133/NEA4</td><td>21.09</td><td>2690</td><td>4</td><td>1</td><td>No</td><td>--</td><td>&gt; 767</td></tr>\n",
       "</table></div>"
      ],
      "text/plain": [
       "<Table length=3>\n",
       "  KIC       KOI        Kepler       Disp    Teff ... HiRes Consist f_tGyro f_tLi\n",
       "                                             K   ...                            \n",
       " int64      str9       str14        str9   int64 ... int64   str5    str6   str5\n",
       "-------- --------- ------------- --------- ----- ... ----- ------- ------- -----\n",
       " 6184894 K05245.01 Kepler-1627 b CONFIRMED  5357 ...     1     Yes      --    --\n",
       "10736489 K07368.01 Kepler-1974 b CONFIRMED  5068 ...     1     Yes      --    --\n",
       "10717220 K06228.01 Kepler-1644 b CONFIRMED  5521 ...     1      No      -- > 767"
      ]
     },
     "execution_count": 4,
     "metadata": {},
     "output_type": "execute_result"
    }
   ],
   "source": [
    "from astropy.io import ascii\n",
    "\n",
    "url = \"https://content.cld.iop.org/journals/0004-637X/976/2/234/revision1/apjad855ft1_mrt.txt\"\n",
    "tab = ascii.read(url)\n",
    "tab[:3]"
   ]
  },
  {
   "cell_type": "code",
   "execution_count": 5,
   "id": "7c0ec2e9-a78a-45f1-aba7-3793b2d940c3",
   "metadata": {},
   "outputs": [
    {
     "data": {
      "text/plain": [
       "(2461, 29)"
      ]
     },
     "execution_count": 5,
     "metadata": {},
     "output_type": "execute_result"
    }
   ],
   "source": [
    "df = tab.to_pandas()\n",
    "df.shape"
   ]
  },
  {
   "cell_type": "code",
   "execution_count": 6,
   "id": "71a76420-e3aa-4168-b604-712621781dfc",
   "metadata": {},
   "outputs": [
    {
     "data": {
      "text/html": [
       "<div>\n",
       "<style scoped>\n",
       "    .dataframe tbody tr th:only-of-type {\n",
       "        vertical-align: middle;\n",
       "    }\n",
       "\n",
       "    .dataframe tbody tr th {\n",
       "        vertical-align: top;\n",
       "    }\n",
       "\n",
       "    .dataframe thead th {\n",
       "        text-align: right;\n",
       "    }\n",
       "</style>\n",
       "<table border=\"1\" class=\"dataframe\">\n",
       "  <thead>\n",
       "    <tr style=\"text-align: right;\">\n",
       "      <th></th>\n",
       "      <th>KIC</th>\n",
       "      <th>KOI</th>\n",
       "      <th>Kepler</th>\n",
       "      <th>Disp</th>\n",
       "      <th>Teff</th>\n",
       "      <th>e_Teff</th>\n",
       "      <th>r_Teff</th>\n",
       "      <th>Prot</th>\n",
       "      <th>e_Prot</th>\n",
       "      <th>r_Prot</th>\n",
       "      <th>...</th>\n",
       "      <th>e_tLi</th>\n",
       "      <th>Rp</th>\n",
       "      <th>r_Rp</th>\n",
       "      <th>Per</th>\n",
       "      <th>StarFlag</th>\n",
       "      <th>PlanetFlag</th>\n",
       "      <th>HiRes</th>\n",
       "      <th>Consist</th>\n",
       "      <th>f_tGyro</th>\n",
       "      <th>f_tLi</th>\n",
       "    </tr>\n",
       "  </thead>\n",
       "  <tbody>\n",
       "    <tr>\n",
       "      <th>0</th>\n",
       "      <td>6184894</td>\n",
       "      <td>K05245.01</td>\n",
       "      <td>Kepler-1627 b</td>\n",
       "      <td>CONFIRMED</td>\n",
       "      <td>5357</td>\n",
       "      <td>95</td>\n",
       "      <td>2020AJ....159..280B</td>\n",
       "      <td>2.620</td>\n",
       "      <td>0.026</td>\n",
       "      <td>2021ApJS..255...17S</td>\n",
       "      <td>...</td>\n",
       "      <td>27</td>\n",
       "      <td>3.79</td>\n",
       "      <td>2022AJ....163..121B</td>\n",
       "      <td>7.20</td>\n",
       "      <td>2176</td>\n",
       "      <td>0</td>\n",
       "      <td>1</td>\n",
       "      <td>Yes</td>\n",
       "      <td>NaN</td>\n",
       "      <td>NaN</td>\n",
       "    </tr>\n",
       "    <tr>\n",
       "      <th>1</th>\n",
       "      <td>10736489</td>\n",
       "      <td>K07368.01</td>\n",
       "      <td>Kepler-1974 b</td>\n",
       "      <td>CONFIRMED</td>\n",
       "      <td>5068</td>\n",
       "      <td>76</td>\n",
       "      <td>2020AJ....159..280B</td>\n",
       "      <td>2.560</td>\n",
       "      <td>0.026</td>\n",
       "      <td>2021ApJS..255...17S</td>\n",
       "      <td>...</td>\n",
       "      <td>25</td>\n",
       "      <td>2.22</td>\n",
       "      <td>2022AJ....164..215B</td>\n",
       "      <td>6.84</td>\n",
       "      <td>2560</td>\n",
       "      <td>0</td>\n",
       "      <td>1</td>\n",
       "      <td>Yes</td>\n",
       "      <td>NaN</td>\n",
       "      <td>NaN</td>\n",
       "    </tr>\n",
       "    <tr>\n",
       "      <th>2</th>\n",
       "      <td>10717220</td>\n",
       "      <td>K06228.01</td>\n",
       "      <td>Kepler-1644 b</td>\n",
       "      <td>CONFIRMED</td>\n",
       "      <td>5521</td>\n",
       "      <td>109</td>\n",
       "      <td>2020AJ....159..280B</td>\n",
       "      <td>1.430</td>\n",
       "      <td>0.014</td>\n",
       "      <td>2021ApJS..255...17S</td>\n",
       "      <td>...</td>\n",
       "      <td>&lt;NA&gt;</td>\n",
       "      <td>1.88</td>\n",
       "      <td>10.26133/NEA4</td>\n",
       "      <td>21.09</td>\n",
       "      <td>2690</td>\n",
       "      <td>4</td>\n",
       "      <td>1</td>\n",
       "      <td>No</td>\n",
       "      <td>NaN</td>\n",
       "      <td>&gt; 767</td>\n",
       "    </tr>\n",
       "    <tr>\n",
       "      <th>3</th>\n",
       "      <td>8653134</td>\n",
       "      <td>K06186.01</td>\n",
       "      <td>Kepler-1643 b</td>\n",
       "      <td>CONFIRMED</td>\n",
       "      <td>4918</td>\n",
       "      <td>83</td>\n",
       "      <td>2020AJ....159..280B</td>\n",
       "      <td>5.05</td>\n",
       "      <td>0.05</td>\n",
       "      <td>SantosPrivComm</td>\n",
       "      <td>...</td>\n",
       "      <td>76</td>\n",
       "      <td>2.11</td>\n",
       "      <td>2022AJ....163..179P</td>\n",
       "      <td>5.34</td>\n",
       "      <td>0</td>\n",
       "      <td>0</td>\n",
       "      <td>1</td>\n",
       "      <td>Yes</td>\n",
       "      <td>NaN</td>\n",
       "      <td>NaN</td>\n",
       "    </tr>\n",
       "    <tr>\n",
       "      <th>4</th>\n",
       "      <td>11244682</td>\n",
       "      <td>K03933.01</td>\n",
       "      <td>Kepler-1699 b</td>\n",
       "      <td>CONFIRMED</td>\n",
       "      <td>5496</td>\n",
       "      <td>163</td>\n",
       "      <td>2021ApJS..255...17S</td>\n",
       "      <td>4.160</td>\n",
       "      <td>0.042</td>\n",
       "      <td>2021ApJS..255...17S</td>\n",
       "      <td>...</td>\n",
       "      <td>&lt;NA&gt;</td>\n",
       "      <td>1.32</td>\n",
       "      <td>10.26133/NEA4</td>\n",
       "      <td>3.49</td>\n",
       "      <td>2688</td>\n",
       "      <td>0</td>\n",
       "      <td>1</td>\n",
       "      <td>No</td>\n",
       "      <td>NaN</td>\n",
       "      <td>&gt; 889</td>\n",
       "    </tr>\n",
       "  </tbody>\n",
       "</table>\n",
       "<p>5 rows × 29 columns</p>\n",
       "</div>"
      ],
      "text/plain": [
       "        KIC        KOI         Kepler       Disp  Teff  e_Teff  \\\n",
       "0   6184894  K05245.01  Kepler-1627 b  CONFIRMED  5357      95   \n",
       "1  10736489  K07368.01  Kepler-1974 b  CONFIRMED  5068      76   \n",
       "2  10717220  K06228.01  Kepler-1644 b  CONFIRMED  5521     109   \n",
       "3   8653134  K06186.01  Kepler-1643 b  CONFIRMED  4918      83   \n",
       "4  11244682  K03933.01  Kepler-1699 b  CONFIRMED  5496     163   \n",
       "\n",
       "                r_Teff   Prot e_Prot               r_Prot  ...  e_tLi    Rp  \\\n",
       "0  2020AJ....159..280B  2.620  0.026  2021ApJS..255...17S  ...     27  3.79   \n",
       "1  2020AJ....159..280B  2.560  0.026  2021ApJS..255...17S  ...     25  2.22   \n",
       "2  2020AJ....159..280B  1.430  0.014  2021ApJS..255...17S  ...   <NA>  1.88   \n",
       "3  2020AJ....159..280B   5.05   0.05       SantosPrivComm  ...     76  2.11   \n",
       "4  2021ApJS..255...17S  4.160  0.042  2021ApJS..255...17S  ...   <NA>  1.32   \n",
       "\n",
       "                  r_Rp    Per  StarFlag  PlanetFlag  HiRes  Consist  f_tGyro  \\\n",
       "0  2022AJ....163..121B   7.20      2176           0      1      Yes      NaN   \n",
       "1  2022AJ....164..215B   6.84      2560           0      1      Yes      NaN   \n",
       "2        10.26133/NEA4  21.09      2690           4      1       No      NaN   \n",
       "3  2022AJ....163..179P   5.34         0           0      1      Yes      NaN   \n",
       "4        10.26133/NEA4   3.49      2688           0      1       No      NaN   \n",
       "\n",
       "   f_tLi  \n",
       "0    NaN  \n",
       "1    NaN  \n",
       "2  > 767  \n",
       "3    NaN  \n",
       "4  > 889  \n",
       "\n",
       "[5 rows x 29 columns]"
      ]
     },
     "execution_count": 6,
     "metadata": {},
     "output_type": "execute_result"
    }
   ],
   "source": [
    "df.head()"
   ]
  },
  {
   "cell_type": "code",
   "execution_count": 7,
   "id": "8f16456b-289d-4d76-84c4-cb9ab9198ce7",
   "metadata": {},
   "outputs": [],
   "source": [
    "cols = ['Prot','Teff','e_Prot','e_Teff', 'tGyro','E_tGyro','e_tGyro']\n",
    "df[cols] = df[cols].astype(float)"
   ]
  },
  {
   "cell_type": "markdown",
   "id": "c7b7c48f-be82-4a12-8d4d-da96eb40065c",
   "metadata": {
    "tags": []
   },
   "source": [
    "## setup and run gyro-interp"
   ]
  },
  {
   "cell_type": "code",
   "execution_count": 8,
   "id": "e6040595-f5fb-4ba2-9ed4-6fd28c437b1c",
   "metadata": {},
   "outputs": [
    {
     "data": {
      "text/plain": [
       "KIC                      11017901\n",
       "KOI                     K01800.01\n",
       "Kepler               Kepler-447 b\n",
       "Disp                    CONFIRMED\n",
       "Teff                       5648.0\n",
       "e_Teff                       89.0\n",
       "r_Teff        2020AJ....159..280B\n",
       "Prot                          6.4\n",
       "e_Prot                       0.06\n",
       "r_Prot        2021ApJS..255...17S\n",
       "EW                            103\n",
       "e_EW                            3\n",
       "tGyro                       420.0\n",
       "E_tGyro                      64.0\n",
       "e_tGyro                      78.0\n",
       "2Up-tGyro                     128\n",
       "2Lo-tGyro                     202\n",
       "tLi                           405\n",
       "E_tLi                         355\n",
       "e_tLi                         203\n",
       "Rp                           18.5\n",
       "r_Rp          2022AJ....163..179P\n",
       "Per                          7.79\n",
       "StarFlag                     2048\n",
       "PlanetFlag                      4\n",
       "HiRes                           1\n",
       "Consist                       Yes\n",
       "f_tGyro                       NaN\n",
       "f_tLi                         NaN\n",
       "Name: 33, dtype: object"
      ]
     },
     "execution_count": 8,
     "metadata": {},
     "output_type": "execute_result"
    }
   ],
   "source": [
    "# name = \"Kepler-1627 b\" # age<0.1Gy\n",
    "name = 'Kepler-447 b' # 0.1<age<1Gy\n",
    "d = df.query(\"Kepler==@name\").squeeze()\n",
    "d"
   ]
  },
  {
   "cell_type": "raw",
   "id": "6a1e8a06-af93-4f3c-806a-ba860d79afe0",
   "metadata": {},
   "source": [
    "from gyrointerp import gyro_age_posterior\n",
    "\n",
    "gyro_age_posterior??"
   ]
  },
  {
   "cell_type": "markdown",
   "id": "8bee42e3-f030-445b-bb3d-00e3194b7716",
   "metadata": {},
   "source": [
    "`interp_method='pchip_m67'`: Piecewise Cubic Hermite Interpolating Polynomials (PCHIP) to interpolate over not only 0.08-2.6 Gyr, but also sets the gradient in Prot vs Time in the 1-2.6 Gyr interval based on the observations of M67 from `Barnes+20163\n",
    "\n",
    "`bounds_error='4gyrlimit'`: \"nan\", \"limit\", \"4gyrlimit\", and \"4gyrextrap\". Default\n",
    "            \"4gyrlimit\" behavior at the old end is to not extrapolate at all, which\n",
    "            means that this choice yields biased uncertainties at >~3.5 Gyr.\n",
    "            If \"4gyrextrap\" is instead used, this will extrapolate by returning\n",
    "            the rotation period linearly extrapolated from the Prot vs time\n",
    "            slope at any temperature at 4 Gyr.  At the young end, the ansatz\n",
    "            for both methods is that the period does not change.  In detail,\n",
    "            this is physically wrong; the posterior in this regime is formally\n",
    "            an age upper limit.  Finally, if \"nan\", ages above or below the\n",
    "            minimum reference age return NaNs.\n"
   ]
  },
  {
   "cell_type": "code",
   "execution_count": 9,
   "id": "ad138111-b1a3-4cc3-a92f-b303680d376a",
   "metadata": {},
   "outputs": [],
   "source": [
    "Prot = d.Prot\n",
    "Teff = d.Teff\n",
    "Prot_err = d.e_Prot\n",
    "Teff_err = d.e_Teff"
   ]
  },
  {
   "cell_type": "code",
   "execution_count": 10,
   "id": "f5e3ebac-4365-4aef-b227-02915887a49d",
   "metadata": {},
   "outputs": [
    {
     "data": {
      "text/plain": [
       "(np.float64(6.4), np.float64(0.06), np.float64(5648.0), np.float64(89.0))"
      ]
     },
     "execution_count": 10,
     "metadata": {},
     "output_type": "execute_result"
    }
   ],
   "source": [
    "Prot, Prot_err, Teff, Teff_err"
   ]
  },
  {
   "cell_type": "code",
   "execution_count": 11,
   "id": "f91fdd90-5d55-4885-93d6-023e009015d0",
   "metadata": {},
   "outputs": [
    {
     "name": "stdout",
     "output_type": "stream",
     "text": [
      "Age = 420.21 +64.08 -77.92 Myr.\n"
     ]
    }
   ],
   "source": [
    "import numpy as np\n",
    "from gyrointerp import gyro_age_posterior\n",
    "from gyrointerp import get_summary_statistics\n",
    "\n",
    "# typically, Prot<17 has age < 1 Gy\n",
    "# uniformly spaced grid between 0 and 2600 megayears\n",
    "age_grid = np.linspace(0, 2600, 500)\n",
    "\n",
    "# calculate the age posterior - takes ~30 seconds\n",
    "age_posterior = gyro_age_posterior(Prot, \n",
    "                                   Teff, \n",
    "                                   Prot_err=Prot_err, \n",
    "                                   Teff_err=Teff_err, \n",
    "                                   age_grid=age_grid,\n",
    "                                   bounds_error='4gyrlimit',\n",
    "                                   interp_method='pchip_m67'\n",
    ")\n",
    "\n",
    "# calculate dictionary of summary statistics\n",
    "result = get_summary_statistics(age_grid, age_posterior)\n",
    "print(f\"Age = {result['median']} +{result['+1sigma']} -{result['-1sigma']} Myr.\")"
   ]
  },
  {
   "cell_type": "code",
   "execution_count": 12,
   "id": "2ce5facf-1ce4-4803-b8ad-37495b6ac8c6",
   "metadata": {},
   "outputs": [],
   "source": [
    "# import custom code from the `code` directory\n",
    "import sys\n",
    "sys.path.insert(0, '../code')\n",
    "\n",
    "from kenmon import plot_age_posterior"
   ]
  },
  {
   "cell_type": "code",
   "execution_count": 13,
   "id": "27ed3897-9360-4467-91e8-e6446d5641c4",
   "metadata": {},
   "outputs": [
    {
     "data": {
      "image/png": "[encoded data removed]",
      "text/plain": [
       "<Figure size 640x480 with 1 Axes>"
      ]
     },
     "metadata": {},
     "output_type": "display_data"
    }
   ],
   "source": [
    "fig = plot_age_posterior(name, Prot, Teff, age_posterior, result, age_grid)\n",
    "\n",
    "# fp = name.replace(' ','')+'_age_gyro.png'\n",
    "# fig.savefig(fp, bbox_inches='tight')"
   ]
  },
  {
   "cell_type": "code",
   "execution_count": 14,
   "id": "48f23ac1-3809-4251-9d9a-6243af215ae0",
   "metadata": {},
   "outputs": [
    {
     "name": "stdout",
     "output_type": "stream",
     "text": [
      "age of Kepler-447 b = 420.0-78.0+64.0 Myr\n"
     ]
    }
   ],
   "source": [
    "#compare with published results\n",
    "print(f\"age of {name} = {d['tGyro']}-{d['e_tGyro']}+{d['E_tGyro']} Myr\")"
   ]
  },
  {
   "cell_type": "markdown",
   "id": "a9a77eed-4bc5-48f6-8451-c21c9e60fb59",
   "metadata": {},
   "source": [
    "## impact of changing age grid"
   ]
  },
  {
   "cell_type": "code",
   "execution_count": 15,
   "id": "04f1ffb3-6f2e-461f-8489-9e736a05b56d",
   "metadata": {},
   "outputs": [
    {
     "name": "stdout",
     "output_type": "stream",
     "text": [
      "Age = 420.19 +64.26 -78.01 Myr.\n"
     ]
    }
   ],
   "source": [
    "# wider than default grid\n",
    "age_grid = np.linspace(0, 4000, 500)\n",
    "\n",
    "age_posterior = gyro_age_posterior(Prot, \n",
    "                                   Teff, \n",
    "                                   Prot_err=Prot_err, \n",
    "                                   Teff_err=Teff_err, \n",
    "                                   age_grid=age_grid,\n",
    "                                   bounds_error='4gyrlimit',\n",
    "                                   interp_method='pchip_m67'\n",
    ")\n",
    "\n",
    "# calculate dictionary of summary statistics\n",
    "result = get_summary_statistics(age_grid, age_posterior)\n",
    "print(f\"Age = {result['median']} +{result['+1sigma']} -{result['-1sigma']} Myr.\")"
   ]
  },
  {
   "cell_type": "code",
   "execution_count": 16,
   "id": "cda9a3a6-eddf-4c10-a0f1-2fa77d66cabf",
   "metadata": {},
   "outputs": [
    {
     "data": {
      "image/png": "[encoded data removed]",
      "text/plain": [
       "<Figure size 640x480 with 1 Axes>"
      ]
     },
     "metadata": {},
     "output_type": "display_data"
    }
   ],
   "source": [
    "fig = plot_age_posterior(name, Prot, Teff, age_posterior, result, age_grid)\n",
    "\n",
    "# fp = name.replace(' ','')+'_age_gyro.png'\n",
    "# fig.savefig(fp, bbox_inches='tight')"
   ]
  },
  {
   "cell_type": "markdown",
   "id": "3048b672-4aea-4212-8a1d-8f308037732c",
   "metadata": {},
   "source": [
    "> Basically identical results."
   ]
  },
  {
   "cell_type": "code",
   "execution_count": 17,
   "id": "9a1c0ddf-b4a7-4930-80f6-1f7d5a3d932c",
   "metadata": {},
   "outputs": [
    {
     "name": "stdout",
     "output_type": "stream",
     "text": [
      "Age = 420.19 +64.37 -78.06 Myr.\n"
     ]
    }
   ],
   "source": [
    "# widest grid beyond m67 age\n",
    "age_grid = np.linspace(0, 5000, 500)\n",
    "\n",
    "age_posterior = gyro_age_posterior(Prot, \n",
    "                                   Teff, \n",
    "                                   Prot_err=Prot_err, \n",
    "                                   Teff_err=Teff_err, \n",
    "                                   age_grid=age_grid,\n",
    "                                   bounds_error='4gyrextrap',\n",
    ")\n",
    "\n",
    "# calculate dictionary of summary statistics\n",
    "result = get_summary_statistics(age_grid, age_posterior)\n",
    "print(f\"Age = {result['median']} +{result['+1sigma']} -{result['-1sigma']} Myr.\")"
   ]
  },
  {
   "cell_type": "code",
   "execution_count": 18,
   "id": "20edb1d4-ef95-4434-82c4-71baa123e416",
   "metadata": {},
   "outputs": [
    {
     "data": {
      "image/png": "[encoded data removed]",
      "text/plain": [
       "<Figure size 640x480 with 1 Axes>"
      ]
     },
     "metadata": {},
     "output_type": "display_data"
    }
   ],
   "source": [
    "fig = plot_age_posterior(name, Prot, Teff, age_posterior, result, age_grid)\n",
    "\n",
    "# fp = name.replace(' ','')+'_age_gyro.png'\n",
    "# fig.savefig(fp, bbox_inches='tight')"
   ]
  },
  {
   "cell_type": "markdown",
   "id": "f070c4b5-5b44-45de-a746-01937e2b67df",
   "metadata": {},
   "source": [
    "> Again identical results."
   ]
  },
  {
   "cell_type": "markdown",
   "id": "10236210-6861-48aa-a252-f5facd933fb3",
   "metadata": {},
   "source": [
    "## Summary"
   ]
  },
  {
   "cell_type": "markdown",
   "id": "85c6e1a4-cc92-4e88-8368-6527022e1399",
   "metadata": {},
   "source": [
    "To avoid results biased towards younger ages, use a wide `age_grid` up to 5Gy and use `bounds_error='4gyrextrap'`:\n",
    "```\n",
    "age_grid = np.linspace(0, 4000, 500)\n",
    "age_posterior = gyro_age_posterior(Prot, \n",
    "                                   Teff, \n",
    "                                   Prot_err=Prot_err, \n",
    "                                   Teff_err=Teff_err, \n",
    "                                   age_grid=age_grid,\n",
    "                                   bounds_error='4gyrextrap',\n",
    ")\n",
    "```"
   ]
  },
  {
   "cell_type": "markdown",
   "id": "a65e7f44-b405-4a5f-9f39-bb42f5f1566e",
   "metadata": {
    "tags": []
   },
   "source": [
    "## Exercise\n",
    "* Run gyro-interp in all TOI and known host stars in NExSci (see `youth_indicators_nexsci.csv`) \n",
    "* Update the TOI and nexsci tables using data from previous research"
   ]
  },
  {
   "cell_type": "markdown",
   "id": "a1af5349-402a-46df-a012-6c64a0aa7a30",
   "metadata": {},
   "source": [
    "Hint: see [documentation](https://gyro-interp.readthedocs.io/en/latest/examples.html#ages-for-many-stars)"
   ]
  }
 ],
 "metadata": {
  "kernelspec": {
   "display_name": "gyrointerp",
   "language": "python",
   "name": "gyrointerp"
  },
  "language_info": {
   "codemirror_mode": {
    "name": "ipython",
    "version": 3
   },
   "file_extension": ".py",
   "mimetype": "text/x-python",
   "name": "python",
   "nbconvert_exporter": "python",
   "pygments_lexer": "ipython3",
   "version": "3.10.14"
  }
 },
 "nbformat": 4,
 "nbformat_minor": 5
}
