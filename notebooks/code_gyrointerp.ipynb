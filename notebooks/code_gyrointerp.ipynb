{
 "cells": [
  {
   "cell_type": "markdown",
   "id": "d560b0b5-32a2-4c33-9ef2-25de0688a014",
   "metadata": {},
   "source": [
    "# gyrochronology fitting using gyro-interp\n",
    "* https://gyro-interp.readthedocs.io/en/latest/examples.html"
   ]
  },
  {
   "cell_type": "markdown",
   "id": "f5d1f929-4a2e-41ff-ae3d-39a4e2b6a503",
   "metadata": {},
   "source": [
    "gyro-interp needs rotation period and Teff of the star to estimate its age. \n",
    "\n",
    "Using `Target.query_vizier_param()`, I compiled useful parameters into a table."
   ]
  },
  {
   "cell_type": "code",
   "execution_count": 1,
   "id": "c53fbdd5-9905-47ca-94a6-f1340d6c6e06",
   "metadata": {},
   "outputs": [
    {
     "data": {
      "text/html": [
       "<div>\n",
       "<style scoped>\n",
       "    .dataframe tbody tr th:only-of-type {\n",
       "        vertical-align: middle;\n",
       "    }\n",
       "\n",
       "    .dataframe tbody tr th {\n",
       "        vertical-align: top;\n",
       "    }\n",
       "\n",
       "    .dataframe thead th {\n",
       "        text-align: right;\n",
       "    }\n",
       "</style>\n",
       "<table border=\"1\" class=\"dataframe\">\n",
       "  <thead>\n",
       "    <tr style=\"text-align: right;\">\n",
       "      <th></th>\n",
       "      <th>TOI</th>\n",
       "      <th>bv</th>\n",
       "      <th>bv_err</th>\n",
       "      <th>li</th>\n",
       "      <th>prot</th>\n",
       "      <th>rhk</th>\n",
       "      <th>teff</th>\n",
       "    </tr>\n",
       "  </thead>\n",
       "  <tbody>\n",
       "    <tr>\n",
       "      <th>0</th>\n",
       "      <td>101.01</td>\n",
       "      <td>0.656000</td>\n",
       "      <td>0.1</td>\n",
       "      <td>NaN</td>\n",
       "      <td>1.430321</td>\n",
       "      <td>NaN</td>\n",
       "      <td>5648.642857</td>\n",
       "    </tr>\n",
       "    <tr>\n",
       "      <th>1</th>\n",
       "      <td>102.01</td>\n",
       "      <td>0.507667</td>\n",
       "      <td>0.1</td>\n",
       "      <td>NaN</td>\n",
       "      <td>4.410011</td>\n",
       "      <td>NaN</td>\n",
       "      <td>6257.270417</td>\n",
       "    </tr>\n",
       "    <tr>\n",
       "      <th>2</th>\n",
       "      <td>103.01</td>\n",
       "      <td>0.291000</td>\n",
       "      <td>0.1</td>\n",
       "      <td>NaN</td>\n",
       "      <td>3.554638</td>\n",
       "      <td>NaN</td>\n",
       "      <td>6086.159167</td>\n",
       "    </tr>\n",
       "    <tr>\n",
       "      <th>3</th>\n",
       "      <td>104.01</td>\n",
       "      <td>0.545667</td>\n",
       "      <td>0.1</td>\n",
       "      <td>NaN</td>\n",
       "      <td>4.090360</td>\n",
       "      <td>NaN</td>\n",
       "      <td>6046.516250</td>\n",
       "    </tr>\n",
       "    <tr>\n",
       "      <th>4</th>\n",
       "      <td>105.01</td>\n",
       "      <td>0.687667</td>\n",
       "      <td>0.1</td>\n",
       "      <td>NaN</td>\n",
       "      <td>2.187803</td>\n",
       "      <td>NaN</td>\n",
       "      <td>5741.285333</td>\n",
       "    </tr>\n",
       "    <tr>\n",
       "      <th>...</th>\n",
       "      <td>...</td>\n",
       "      <td>...</td>\n",
       "      <td>...</td>\n",
       "      <td>...</td>\n",
       "      <td>...</td>\n",
       "      <td>...</td>\n",
       "      <td>...</td>\n",
       "    </tr>\n",
       "    <tr>\n",
       "      <th>4312</th>\n",
       "      <td>5023.01</td>\n",
       "      <td>NaN</td>\n",
       "      <td>NaN</td>\n",
       "      <td>NaN</td>\n",
       "      <td>NaN</td>\n",
       "      <td>NaN</td>\n",
       "      <td>3720.494840</td>\n",
       "    </tr>\n",
       "    <tr>\n",
       "      <th>4313</th>\n",
       "      <td>5024.01</td>\n",
       "      <td>0.612000</td>\n",
       "      <td>NaN</td>\n",
       "      <td>NaN</td>\n",
       "      <td>NaN</td>\n",
       "      <td>NaN</td>\n",
       "      <td>5985.393333</td>\n",
       "    </tr>\n",
       "    <tr>\n",
       "      <th>4314</th>\n",
       "      <td>5025.01</td>\n",
       "      <td>0.313000</td>\n",
       "      <td>NaN</td>\n",
       "      <td>NaN</td>\n",
       "      <td>NaN</td>\n",
       "      <td>NaN</td>\n",
       "      <td>8132.166667</td>\n",
       "    </tr>\n",
       "    <tr>\n",
       "      <th>4315</th>\n",
       "      <td>5026.01</td>\n",
       "      <td>0.700000</td>\n",
       "      <td>NaN</td>\n",
       "      <td>NaN</td>\n",
       "      <td>NaN</td>\n",
       "      <td>NaN</td>\n",
       "      <td>6444.962144</td>\n",
       "    </tr>\n",
       "    <tr>\n",
       "      <th>4316</th>\n",
       "      <td>5027.01</td>\n",
       "      <td>0.582000</td>\n",
       "      <td>NaN</td>\n",
       "      <td>NaN</td>\n",
       "      <td>NaN</td>\n",
       "      <td>NaN</td>\n",
       "      <td>5805.528337</td>\n",
       "    </tr>\n",
       "  </tbody>\n",
       "</table>\n",
       "<p>4317 rows × 7 columns</p>\n",
       "</div>"
      ],
      "text/plain": [
       "          TOI        bv  bv_err  li      prot  rhk         teff\n",
       "0      101.01  0.656000     0.1 NaN  1.430321  NaN  5648.642857\n",
       "1      102.01  0.507667     0.1 NaN  4.410011  NaN  6257.270417\n",
       "2      103.01  0.291000     0.1 NaN  3.554638  NaN  6086.159167\n",
       "3      104.01  0.545667     0.1 NaN  4.090360  NaN  6046.516250\n",
       "4      105.01  0.687667     0.1 NaN  2.187803  NaN  5741.285333\n",
       "...       ...       ...     ...  ..       ...  ...          ...\n",
       "4312  5023.01       NaN     NaN NaN       NaN  NaN  3720.494840\n",
       "4313  5024.01  0.612000     NaN NaN       NaN  NaN  5985.393333\n",
       "4314  5025.01  0.313000     NaN NaN       NaN  NaN  8132.166667\n",
       "4315  5026.01  0.700000     NaN NaN       NaN  NaN  6444.962144\n",
       "4316  5027.01  0.582000     NaN NaN       NaN  NaN  5805.528337\n",
       "\n",
       "[4317 rows x 7 columns]"
      ]
     },
     "execution_count": 1,
     "metadata": {},
     "output_type": "execute_result"
    }
   ],
   "source": [
    "import pandas as pd\n",
    "\n",
    "# see youth_indicators_tois.ipynb\n",
    "data = pd.read_csv('../data/youth_indicators_tois.csv')\n",
    "data"
   ]
  },
  {
   "cell_type": "code",
   "execution_count": 2,
   "id": "fc3ba1c6-c25f-48ab-bc85-23c432e6a55d",
   "metadata": {},
   "outputs": [
    {
     "data": {
      "text/plain": [
       "TOI        200.010000\n",
       "bv           0.735647\n",
       "bv_err       0.048146\n",
       "li         108.107498\n",
       "prot         5.475000\n",
       "rhk         -4.090000\n",
       "teff      5482.444615\n",
       "Name: 98, dtype: float64"
      ]
     },
     "execution_count": 2,
     "metadata": {},
     "output_type": "execute_result"
    }
   ],
   "source": [
    "# see information for target\n",
    "d=data.query(\"TOI==200.01\").squeeze()\n",
    "d"
   ]
  },
  {
   "cell_type": "code",
   "execution_count": 3,
   "id": "02cba9f9-a8d9-4d75-bb75-fbaa8270ce0e",
   "metadata": {},
   "outputs": [],
   "source": [
    "Prot = d.prot \n",
    "Teff = d.teff\n",
    "# there is no information on errors so let us assume values\n",
    "Prot_err = 0.1\n",
    "Teff_err = 100"
   ]
  },
  {
   "cell_type": "markdown",
   "id": "1f972ccd-8df3-4ff2-9466-d6a8419913ce",
   "metadata": {},
   "source": [
    "## setup and run gyro-interp"
   ]
  },
  {
   "cell_type": "code",
   "execution_count": 4,
   "id": "f91fdd90-5d55-4885-93d6-023e009015d0",
   "metadata": {},
   "outputs": [
    {
     "name": "stdout",
     "output_type": "stream",
     "text": [
      "Age = 221.13 +101.35 -95.34 Myr.\n"
     ]
    }
   ],
   "source": [
    "import numpy as np\n",
    "from gyrointerp import gyro_age_posterior\n",
    "from gyrointerp import get_summary_statistics\n",
    "\n",
    "# uniformly spaced grid between 0 and 2600 megayears\n",
    "age_grid = np.linspace(0, 2600, 500)\n",
    "\n",
    "# calculate the age posterior - takes ~30 seconds\n",
    "age_posterior = gyro_age_posterior(Prot, \n",
    "                                   Teff, \n",
    "                                   Prot_err=Prot_err, \n",
    "                                   Teff_err=Teff_err, \n",
    "                                   age_grid=age_grid\n",
    ")\n",
    "\n",
    "# calculate dictionary of summary statistics\n",
    "result = get_summary_statistics(age_grid, age_posterior)\n",
    "print(f\"Age = {result['median']} +{result['+1sigma']} -{result['-1sigma']} Myr.\")"
   ]
  },
  {
   "cell_type": "markdown",
   "id": "41d91538-b2f9-4617-af29-934f03456cca",
   "metadata": {},
   "source": [
    "## Exercise\n",
    "* Run gyro-interp in all TOI and known host stars in NExSci (see `youth_indicators_nexsci.csv`) \n",
    "* Update the TOI and nexsci tables using data from previous research"
   ]
  },
  {
   "cell_type": "code",
   "execution_count": null,
   "id": "bbeec016-907b-48b1-8703-95c37a492986",
   "metadata": {},
   "outputs": [],
   "source": []
  }
 ],
 "metadata": {
  "kernelspec": {
   "display_name": "gyrointerp",
   "language": "python",
   "name": "gyrointerp"
  },
  "language_info": {
   "codemirror_mode": {
    "name": "ipython",
    "version": 3
   },
   "file_extension": ".py",
   "mimetype": "text/x-python",
   "name": "python",
   "nbconvert_exporter": "python",
   "pygments_lexer": "ipython3",
   "version": "3.10.14"
  }
 },
 "nbformat": 4,
 "nbformat_minor": 5
}
