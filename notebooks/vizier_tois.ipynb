{
 "cells": [
  {
   "cell_type": "markdown",
   "id": "97558c29-d318-44af-821a-de9caf68411e",
   "metadata": {},
   "source": [
    "## TOI data from vizier"
   ]
  },
  {
   "cell_type": "code",
   "execution_count": 40,
   "id": "d680f645-33ec-495d-b0a8-5d3afa1a4eb2",
   "metadata": {
    "ExecuteTime": {
     "end_time": "2023-04-07T04:36:21.926239Z",
     "start_time": "2023-04-07T04:34:02.876963Z"
    }
   },
   "outputs": [],
   "source": [
    "#so just import from another directory\n",
    "import sys\n",
    "sys.path.insert(0, '../code')"
   ]
  },
  {
   "cell_type": "code",
   "execution_count": 42,
   "id": "b64ba9fa-e558-461d-9baa-9703727d6107",
   "metadata": {},
   "outputs": [
    {
     "data": {
      "text/plain": [
       "(6262, 64)"
      ]
     },
     "execution_count": 42,
     "metadata": {},
     "output_type": "execute_result"
    }
   ],
   "source": [
    "from kenmon import get_tois_data\n",
    "\n",
    "df = get_tois_data()\n",
    "df.shape"
   ]
  },
  {
   "cell_type": "code",
   "execution_count": 43,
   "id": "aa9b6a8a-c81e-4634-97c7-86bb3eb7cf70",
   "metadata": {},
   "outputs": [
    {
     "data": {
      "text/plain": [
       "TIC ID                              410214986\n",
       "TOI                                    200.01\n",
       "Previous CTOI                             NaN\n",
       "Master                                      3\n",
       "SG1A                                        5\n",
       "                                 ...         \n",
       "Date TOI Updated (UTC)             2024-09-05\n",
       "Date Modified             2024-10-01 12:15:24\n",
       "Comments                           DS Tuc A b\n",
       "ra_deg                             354.915458\n",
       "dec_deg                            -69.196042\n",
       "Name: 100, Length: 64, dtype: object"
      ]
     },
     "execution_count": 43,
     "metadata": {},
     "output_type": "execute_result"
    }
   ],
   "source": [
    "d = df.query(\"TOI==200.01\").squeeze()\n",
    "d"
   ]
  },
  {
   "cell_type": "code",
   "execution_count": 44,
   "id": "f00ebca2-cac7-4492-8b07-8f6ee3a0d1aa",
   "metadata": {},
   "outputs": [
    {
     "data": {
      "text/plain": [
       "(354.9154583333333, -69.19604166666667)"
      ]
     },
     "execution_count": 44,
     "metadata": {},
     "output_type": "execute_result"
    }
   ],
   "source": [
    "d.ra_deg, d.dec_deg"
   ]
  },
  {
   "cell_type": "code",
   "execution_count": 47,
   "id": "a09b1cca-ef33-4ff0-bd8b-36057c5ef2c3",
   "metadata": {},
   "outputs": [
    {
     "name": "stderr",
     "output_type": "stream",
     "text": [
      "WARNING: UnitsWarning: Unit 'pct' not supported by the VOUnit standard. Did you mean PC, PT, Pct, pC, pT or pc? [astropy.units.format.vounit]\n",
      "WARNING: UnitsWarning: Unit 'x' not supported by the VOUnit standard.  [astropy.units.format.vounit]\n",
      "WARNING: UnitsWarning: Unit 'al' not supported by the VOUnit standard. Did you mean alm or alx? [astropy.units.format.vounit]\n",
      "WARNING: UnitsWarning: Unit 'Earth' not supported by the VOUnit standard.  [astropy.units.format.vounit]\n"
     ]
    },
    {
     "name": "stdout",
     "output_type": "stream",
     "text": [
      "Found 2 references in Vizier using `log_R_HK_`.\n"
     ]
    },
    {
     "data": {
      "text/plain": [
       "{'J/A+A/537/A147/table4:log_R_HK_': -4.09,\n",
       " 'J/A+A/537/A147/table4:e_log_R_HK_': 0.05}"
      ]
     },
     "execution_count": 47,
     "metadata": {},
     "output_type": "execute_result"
    }
   ],
   "source": [
    "from kenmon import Target\n",
    "\n",
    "param = \"log_R_HK_\"\n",
    "t = Target(ra_deg=d.ra_deg, dec_deg=d.dec_deg)\n",
    "t.query_vizier_param(param, use_regex=True)"
   ]
  },
  {
   "cell_type": "code",
   "execution_count": 49,
   "id": "6b9f3278-18db-4d15-b992-832da5202cac",
   "metadata": {},
   "outputs": [
    {
     "name": "stdout",
     "output_type": "stream",
     "text": [
      "Found 1 references in Vizier using `log_R_HK_`.\n"
     ]
    },
    {
     "data": {
      "text/plain": [
       "{'J/A+A/537/A147/table4:log_R_HK_': -4.09}"
      ]
     },
     "execution_count": 49,
     "metadata": {},
     "output_type": "execute_result"
    }
   ],
   "source": [
    "t.query_vizier_param(param, use_regex=False)"
   ]
  },
  {
   "cell_type": "markdown",
   "id": "97d98fd3-b4ea-40bb-9f77-b4ab1ad0db31",
   "metadata": {},
   "source": [
    "Cannot just use mean of all measurements!"
   ]
  },
  {
   "cell_type": "markdown",
   "id": "2b0136d4-6036-49cc-9983-107360be444c",
   "metadata": {},
   "source": [
    "## search vizier param on all TOI"
   ]
  },
  {
   "cell_type": "code",
   "execution_count": null,
   "id": "8937813f-bffe-44b5-ab29-f496913ff24b",
   "metadata": {},
   "outputs": [],
   "source": [
    "import pandas as pd\n",
    "import numpy as np\n",
    "from tqdm import tqdm\n",
    "from concurrent.futures import ProcessPoolExecutor, as_completed\n",
    "from kenmon import Target\n",
    "import time\n",
    "import random\n",
    "\n",
    "regex_query = \"log_R_HK_\"\n",
    "\n",
    "def process_row(row, max_retries=3, timeout=30):\n",
    "    \"\"\"Process each row to query Vizier with retries, rate limiting, and timeouts.\"\"\"\n",
    "    t = Target(ra_deg=row.ra_deg, dec_deg=row.dec_deg, verbose=False)\n",
    "    \n",
    "    for attempt in range(max_retries):\n",
    "        try:\n",
    "            # Apply rate limiting with random sleep to prevent server overload\n",
    "            time.sleep(random.uniform(0.5, 2.0))  \n",
    "            \n",
    "            p = t.query_vizier_param(param=regex_query, use_regex=True)\n",
    "            return row.TOI, p\n",
    "        except Exception as e:\n",
    "            print(f\"Attempt {attempt+1} failed for TOI {row.TOI}: {e}\")\n",
    "            time.sleep(2 ** attempt)  # Exponential backoff\n",
    "    return row.TOI, f\"Failed after {max_retries} retries\"\n",
    "\n",
    "# Parallel execution with limited workers\n",
    "data = {}\n",
    "max_workers = min(4, len(df))  # Adjust based on server limits\n",
    "\n",
    "with ProcessPoolExecutor(max_workers=max_workers) as executor:\n",
    "    futures = {executor.submit(process_row, row): row for _, row in df.iterrows()}\n",
    "    \n",
    "    for future in tqdm(as_completed(futures), total=len(futures)):\n",
    "        toi, result = future.result()\n",
    "        data[toi] = result"
   ]
  },
  {
   "cell_type": "code",
   "execution_count": 51,
   "id": "90b99536-87b2-4b0c-b1b5-3bb88c8323f2",
   "metadata": {},
   "outputs": [
    {
     "data": {
      "text/plain": [
       "Index(['J/A+A/531/A8/table4:log_R_HK_', 'J/A+A/537/A147/table4:log_R_HK_',\n",
       "       'J/A+A/537/A147/table4:e_log_R_HK_', 'J/A+A/682/A136/table2:log_R_HK_N',\n",
       "       'J/A+A/682/A136/table2:e_log_R_HK_N',\n",
       "       'J/A+A/682/A136/table2:log_R_HK_M',\n",
       "       'J/A+A/682/A136/table2:e_log_R_HK_M',\n",
       "       'J/ApJS/152/261/table2:log_R_HK_'],\n",
       "      dtype='object')"
      ]
     },
     "execution_count": 51,
     "metadata": {},
     "output_type": "execute_result"
    }
   ],
   "source": [
    "import pandas as pd\n",
    "\n",
    "data_df = pd.DataFrame(data)\n",
    "data_df.index.unique()"
   ]
  },
  {
   "cell_type": "code",
   "execution_count": 52,
   "id": "42246b5d-a30b-443b-8f06-78da60972083",
   "metadata": {},
   "outputs": [],
   "source": [
    "param_name = 'rhk'\n",
    "data_df.to_csv(f'../data/TOI_{param_name}_vizier.csv')"
   ]
  },
  {
   "cell_type": "code",
   "execution_count": 53,
   "id": "26a811f3-a5d2-4964-b986-adcddf322a03",
   "metadata": {},
   "outputs": [
    {
     "data": {
      "text/html": [
       "<div>\n",
       "<style scoped>\n",
       "    .dataframe tbody tr th:only-of-type {\n",
       "        vertical-align: middle;\n",
       "    }\n",
       "\n",
       "    .dataframe tbody tr th {\n",
       "        vertical-align: top;\n",
       "    }\n",
       "\n",
       "    .dataframe thead th {\n",
       "        text-align: right;\n",
       "    }\n",
       "</style>\n",
       "<table border=\"1\" class=\"dataframe\">\n",
       "  <thead>\n",
       "    <tr style=\"text-align: right;\">\n",
       "      <th></th>\n",
       "      <th>101.01</th>\n",
       "      <th>103.01</th>\n",
       "      <th>104.01</th>\n",
       "      <th>105.01</th>\n",
       "      <th>102.01</th>\n",
       "      <th>106.01</th>\n",
       "      <th>107.01</th>\n",
       "      <th>109.01</th>\n",
       "      <th>108.01</th>\n",
       "      <th>110.01</th>\n",
       "      <th>...</th>\n",
       "      <th>7175.01</th>\n",
       "      <th>7177.01</th>\n",
       "      <th>7180.01</th>\n",
       "      <th>7178.01</th>\n",
       "      <th>7179.01</th>\n",
       "      <th>7182.01</th>\n",
       "      <th>7181.01</th>\n",
       "      <th>7183.01</th>\n",
       "      <th>7185.01</th>\n",
       "      <th>7184.01</th>\n",
       "    </tr>\n",
       "  </thead>\n",
       "  <tbody>\n",
       "    <tr>\n",
       "      <th>J/A+A/531/A8/table4:log_R_HK_</th>\n",
       "      <td>NaN</td>\n",
       "      <td>NaN</td>\n",
       "      <td>NaN</td>\n",
       "      <td>NaN</td>\n",
       "      <td>NaN</td>\n",
       "      <td>NaN</td>\n",
       "      <td>NaN</td>\n",
       "      <td>NaN</td>\n",
       "      <td>NaN</td>\n",
       "      <td>NaN</td>\n",
       "      <td>...</td>\n",
       "      <td>NaN</td>\n",
       "      <td>NaN</td>\n",
       "      <td>NaN</td>\n",
       "      <td>NaN</td>\n",
       "      <td>NaN</td>\n",
       "      <td>NaN</td>\n",
       "      <td>NaN</td>\n",
       "      <td>NaN</td>\n",
       "      <td>NaN</td>\n",
       "      <td>NaN</td>\n",
       "    </tr>\n",
       "    <tr>\n",
       "      <th>J/A+A/537/A147/table4:log_R_HK_</th>\n",
       "      <td>NaN</td>\n",
       "      <td>NaN</td>\n",
       "      <td>NaN</td>\n",
       "      <td>NaN</td>\n",
       "      <td>NaN</td>\n",
       "      <td>NaN</td>\n",
       "      <td>NaN</td>\n",
       "      <td>NaN</td>\n",
       "      <td>NaN</td>\n",
       "      <td>NaN</td>\n",
       "      <td>...</td>\n",
       "      <td>NaN</td>\n",
       "      <td>NaN</td>\n",
       "      <td>NaN</td>\n",
       "      <td>NaN</td>\n",
       "      <td>NaN</td>\n",
       "      <td>NaN</td>\n",
       "      <td>NaN</td>\n",
       "      <td>NaN</td>\n",
       "      <td>NaN</td>\n",
       "      <td>NaN</td>\n",
       "    </tr>\n",
       "    <tr>\n",
       "      <th>J/A+A/537/A147/table4:e_log_R_HK_</th>\n",
       "      <td>NaN</td>\n",
       "      <td>NaN</td>\n",
       "      <td>NaN</td>\n",
       "      <td>NaN</td>\n",
       "      <td>NaN</td>\n",
       "      <td>NaN</td>\n",
       "      <td>NaN</td>\n",
       "      <td>NaN</td>\n",
       "      <td>NaN</td>\n",
       "      <td>NaN</td>\n",
       "      <td>...</td>\n",
       "      <td>NaN</td>\n",
       "      <td>NaN</td>\n",
       "      <td>NaN</td>\n",
       "      <td>NaN</td>\n",
       "      <td>NaN</td>\n",
       "      <td>NaN</td>\n",
       "      <td>NaN</td>\n",
       "      <td>NaN</td>\n",
       "      <td>NaN</td>\n",
       "      <td>NaN</td>\n",
       "    </tr>\n",
       "    <tr>\n",
       "      <th>J/A+A/682/A136/table2:log_R_HK_N</th>\n",
       "      <td>NaN</td>\n",
       "      <td>NaN</td>\n",
       "      <td>NaN</td>\n",
       "      <td>NaN</td>\n",
       "      <td>NaN</td>\n",
       "      <td>NaN</td>\n",
       "      <td>NaN</td>\n",
       "      <td>NaN</td>\n",
       "      <td>NaN</td>\n",
       "      <td>NaN</td>\n",
       "      <td>...</td>\n",
       "      <td>NaN</td>\n",
       "      <td>NaN</td>\n",
       "      <td>NaN</td>\n",
       "      <td>NaN</td>\n",
       "      <td>NaN</td>\n",
       "      <td>NaN</td>\n",
       "      <td>NaN</td>\n",
       "      <td>NaN</td>\n",
       "      <td>NaN</td>\n",
       "      <td>NaN</td>\n",
       "    </tr>\n",
       "    <tr>\n",
       "      <th>J/A+A/682/A136/table2:e_log_R_HK_N</th>\n",
       "      <td>NaN</td>\n",
       "      <td>NaN</td>\n",
       "      <td>NaN</td>\n",
       "      <td>NaN</td>\n",
       "      <td>NaN</td>\n",
       "      <td>NaN</td>\n",
       "      <td>NaN</td>\n",
       "      <td>NaN</td>\n",
       "      <td>NaN</td>\n",
       "      <td>NaN</td>\n",
       "      <td>...</td>\n",
       "      <td>NaN</td>\n",
       "      <td>NaN</td>\n",
       "      <td>NaN</td>\n",
       "      <td>NaN</td>\n",
       "      <td>NaN</td>\n",
       "      <td>NaN</td>\n",
       "      <td>NaN</td>\n",
       "      <td>NaN</td>\n",
       "      <td>NaN</td>\n",
       "      <td>NaN</td>\n",
       "    </tr>\n",
       "    <tr>\n",
       "      <th>J/A+A/682/A136/table2:log_R_HK_M</th>\n",
       "      <td>NaN</td>\n",
       "      <td>NaN</td>\n",
       "      <td>NaN</td>\n",
       "      <td>NaN</td>\n",
       "      <td>NaN</td>\n",
       "      <td>NaN</td>\n",
       "      <td>NaN</td>\n",
       "      <td>NaN</td>\n",
       "      <td>NaN</td>\n",
       "      <td>NaN</td>\n",
       "      <td>...</td>\n",
       "      <td>NaN</td>\n",
       "      <td>NaN</td>\n",
       "      <td>NaN</td>\n",
       "      <td>NaN</td>\n",
       "      <td>NaN</td>\n",
       "      <td>NaN</td>\n",
       "      <td>NaN</td>\n",
       "      <td>NaN</td>\n",
       "      <td>NaN</td>\n",
       "      <td>NaN</td>\n",
       "    </tr>\n",
       "    <tr>\n",
       "      <th>J/A+A/682/A136/table2:e_log_R_HK_M</th>\n",
       "      <td>NaN</td>\n",
       "      <td>NaN</td>\n",
       "      <td>NaN</td>\n",
       "      <td>NaN</td>\n",
       "      <td>NaN</td>\n",
       "      <td>NaN</td>\n",
       "      <td>NaN</td>\n",
       "      <td>NaN</td>\n",
       "      <td>NaN</td>\n",
       "      <td>NaN</td>\n",
       "      <td>...</td>\n",
       "      <td>NaN</td>\n",
       "      <td>NaN</td>\n",
       "      <td>NaN</td>\n",
       "      <td>NaN</td>\n",
       "      <td>NaN</td>\n",
       "      <td>NaN</td>\n",
       "      <td>NaN</td>\n",
       "      <td>NaN</td>\n",
       "      <td>NaN</td>\n",
       "      <td>NaN</td>\n",
       "    </tr>\n",
       "    <tr>\n",
       "      <th>J/ApJS/152/261/table2:log_R_HK_</th>\n",
       "      <td>NaN</td>\n",
       "      <td>NaN</td>\n",
       "      <td>NaN</td>\n",
       "      <td>NaN</td>\n",
       "      <td>NaN</td>\n",
       "      <td>NaN</td>\n",
       "      <td>NaN</td>\n",
       "      <td>NaN</td>\n",
       "      <td>NaN</td>\n",
       "      <td>NaN</td>\n",
       "      <td>...</td>\n",
       "      <td>NaN</td>\n",
       "      <td>NaN</td>\n",
       "      <td>NaN</td>\n",
       "      <td>NaN</td>\n",
       "      <td>NaN</td>\n",
       "      <td>NaN</td>\n",
       "      <td>NaN</td>\n",
       "      <td>NaN</td>\n",
       "      <td>NaN</td>\n",
       "      <td>NaN</td>\n",
       "    </tr>\n",
       "  </tbody>\n",
       "</table>\n",
       "<p>8 rows × 6262 columns</p>\n",
       "</div>"
      ],
      "text/plain": [
       "                                    101.01  103.01  104.01  105.01  102.01  \\\n",
       "J/A+A/531/A8/table4:log_R_HK_          NaN     NaN     NaN     NaN     NaN   \n",
       "J/A+A/537/A147/table4:log_R_HK_        NaN     NaN     NaN     NaN     NaN   \n",
       "J/A+A/537/A147/table4:e_log_R_HK_      NaN     NaN     NaN     NaN     NaN   \n",
       "J/A+A/682/A136/table2:log_R_HK_N       NaN     NaN     NaN     NaN     NaN   \n",
       "J/A+A/682/A136/table2:e_log_R_HK_N     NaN     NaN     NaN     NaN     NaN   \n",
       "J/A+A/682/A136/table2:log_R_HK_M       NaN     NaN     NaN     NaN     NaN   \n",
       "J/A+A/682/A136/table2:e_log_R_HK_M     NaN     NaN     NaN     NaN     NaN   \n",
       "J/ApJS/152/261/table2:log_R_HK_        NaN     NaN     NaN     NaN     NaN   \n",
       "\n",
       "                                    106.01  107.01  109.01  108.01  110.01  \\\n",
       "J/A+A/531/A8/table4:log_R_HK_          NaN     NaN     NaN     NaN     NaN   \n",
       "J/A+A/537/A147/table4:log_R_HK_        NaN     NaN     NaN     NaN     NaN   \n",
       "J/A+A/537/A147/table4:e_log_R_HK_      NaN     NaN     NaN     NaN     NaN   \n",
       "J/A+A/682/A136/table2:log_R_HK_N       NaN     NaN     NaN     NaN     NaN   \n",
       "J/A+A/682/A136/table2:e_log_R_HK_N     NaN     NaN     NaN     NaN     NaN   \n",
       "J/A+A/682/A136/table2:log_R_HK_M       NaN     NaN     NaN     NaN     NaN   \n",
       "J/A+A/682/A136/table2:e_log_R_HK_M     NaN     NaN     NaN     NaN     NaN   \n",
       "J/ApJS/152/261/table2:log_R_HK_        NaN     NaN     NaN     NaN     NaN   \n",
       "\n",
       "                                    ...  7175.01  7177.01  7180.01  7178.01  \\\n",
       "J/A+A/531/A8/table4:log_R_HK_       ...      NaN      NaN      NaN      NaN   \n",
       "J/A+A/537/A147/table4:log_R_HK_     ...      NaN      NaN      NaN      NaN   \n",
       "J/A+A/537/A147/table4:e_log_R_HK_   ...      NaN      NaN      NaN      NaN   \n",
       "J/A+A/682/A136/table2:log_R_HK_N    ...      NaN      NaN      NaN      NaN   \n",
       "J/A+A/682/A136/table2:e_log_R_HK_N  ...      NaN      NaN      NaN      NaN   \n",
       "J/A+A/682/A136/table2:log_R_HK_M    ...      NaN      NaN      NaN      NaN   \n",
       "J/A+A/682/A136/table2:e_log_R_HK_M  ...      NaN      NaN      NaN      NaN   \n",
       "J/ApJS/152/261/table2:log_R_HK_     ...      NaN      NaN      NaN      NaN   \n",
       "\n",
       "                                    7179.01  7182.01  7181.01  7183.01  \\\n",
       "J/A+A/531/A8/table4:log_R_HK_           NaN      NaN      NaN      NaN   \n",
       "J/A+A/537/A147/table4:log_R_HK_         NaN      NaN      NaN      NaN   \n",
       "J/A+A/537/A147/table4:e_log_R_HK_       NaN      NaN      NaN      NaN   \n",
       "J/A+A/682/A136/table2:log_R_HK_N        NaN      NaN      NaN      NaN   \n",
       "J/A+A/682/A136/table2:e_log_R_HK_N      NaN      NaN      NaN      NaN   \n",
       "J/A+A/682/A136/table2:log_R_HK_M        NaN      NaN      NaN      NaN   \n",
       "J/A+A/682/A136/table2:e_log_R_HK_M      NaN      NaN      NaN      NaN   \n",
       "J/ApJS/152/261/table2:log_R_HK_         NaN      NaN      NaN      NaN   \n",
       "\n",
       "                                    7185.01  7184.01  \n",
       "J/A+A/531/A8/table4:log_R_HK_           NaN      NaN  \n",
       "J/A+A/537/A147/table4:log_R_HK_         NaN      NaN  \n",
       "J/A+A/537/A147/table4:e_log_R_HK_       NaN      NaN  \n",
       "J/A+A/682/A136/table2:log_R_HK_N        NaN      NaN  \n",
       "J/A+A/682/A136/table2:e_log_R_HK_N      NaN      NaN  \n",
       "J/A+A/682/A136/table2:log_R_HK_M        NaN      NaN  \n",
       "J/A+A/682/A136/table2:e_log_R_HK_M      NaN      NaN  \n",
       "J/ApJS/152/261/table2:log_R_HK_         NaN      NaN  \n",
       "\n",
       "[8 rows x 6262 columns]"
      ]
     },
     "execution_count": 53,
     "metadata": {},
     "output_type": "execute_result"
    }
   ],
   "source": [
    "import pandas as pd\n",
    "\n",
    "data_df = pd.read_csv(f'../data/TOI_{param_name}_vizier.csv', index_col=0)\n",
    "data_df"
   ]
  },
  {
   "cell_type": "code",
   "execution_count": 15,
   "id": "26787ab6-3dc9-4ffc-9087-6298fe3dc278",
   "metadata": {},
   "outputs": [],
   "source": [
    "refs = {}\n",
    "for i in data_df.index:\n",
    "    count=data_df.loc[i].dropna().shape\n",
    "    refs[i] = count"
   ]
  },
  {
   "cell_type": "code",
   "execution_count": 16,
   "id": "596f7073-1c8f-418d-92e5-6e5f2cecb46e",
   "metadata": {},
   "outputs": [
    {
     "data": {
      "text/plain": [
       "J/A+A/460/695/stars:EWLi           (7,)\n",
       "J/A+A/664/A163/tableb1:e_EWLi      (4,)\n",
       "J/A+A/664/A163/tableb1:EWLi        (4,)\n",
       "J/A+A/676/A129/catalog:EWLi        (3,)\n",
       "J/AJ/163/156/table5:EWLi           (2,)\n",
       "J/AJ/163/156/table5:r_EWLi         (2,)\n",
       "J/AJ/133/2524/table1:u_EWLi        (2,)\n",
       "J/AJ/133/2524/table1:EWLi          (2,)\n",
       "J/A+A/612/A99/ngc2451:f_EWLi       (2,)\n",
       "J/A+A/612/A99/ngc2451:EWLi         (2,)\n",
       "J/A+A/612/A99/ngc2451:l_EWLi       (2,)\n",
       "J/A+A/480/735/stars:EWLi           (1,)\n",
       "J/AJ/164/115/table7:e_EWLi         (1,)\n",
       "J/AJ/165/205/stars:EWLi            (1,)\n",
       "J/A+A/685/A83/tablec1:f_EWLiunv    (1,)\n",
       "J/A+A/685/A83/tablec1:EWLiunv      (1,)\n",
       "J/A+A/573/A126/sample:EWLi         (1,)\n",
       "J/AJ/164/115/table7:EWLi           (1,)\n",
       "J/MNRAS/494/2429/table1:EWLi       (1,)\n",
       "J/AJ/161/171/table7:r_EWLi         (1,)\n",
       "dtype: object"
      ]
     },
     "execution_count": 16,
     "metadata": {},
     "output_type": "execute_result"
    }
   ],
   "source": [
    "refs = pd.Series(refs).sort_values(ascending=False)\n",
    "refs.head(20)"
   ]
  },
  {
   "cell_type": "markdown",
   "id": "ffcbdd72-d11c-4ebb-91bd-b131df5f6402",
   "metadata": {},
   "source": [
    "https://cdsarc.cds.unistra.fr/viz-bin/cat/J/A%2BA/460/695"
   ]
  },
  {
   "cell_type": "code",
   "execution_count": 23,
   "id": "f60a659d-26fd-45a3-aed4-95a7331db4df",
   "metadata": {},
   "outputs": [
    {
     "data": {
      "text/plain": [
       "200.01     216.0\n",
       "831.01     160.0\n",
       "833.01       0.0\n",
       "865.01       0.0\n",
       "2383.01      0.0\n",
       "4399.01    165.0\n",
       "6551.01    220.0\n",
       "Name: J/A+A/460/695/stars:EWLi, dtype: object"
      ]
     },
     "execution_count": 23,
     "metadata": {},
     "output_type": "execute_result"
    }
   ],
   "source": [
    "# in mA; Search for Associations Containing Young stars (2006)\n",
    "data_df.T['J/A+A/460/695/stars:EWLi'].dropna()"
   ]
  },
  {
   "cell_type": "markdown",
   "id": "c1b73ecd-26c0-4bc6-89ba-b876f68d5e20",
   "metadata": {},
   "source": [
    "https://cdsarc.cds.unistra.fr/viz-bin/cat/J/A+A/676/A129"
   ]
  },
  {
   "cell_type": "code",
   "execution_count": 20,
   "id": "8ed99d2e-1ee7-40e6-8557-d9205434aa98",
   "metadata": {},
   "outputs": [
    {
     "data": {
      "text/plain": [
       "1807.01        104.0\n",
       "2076.01    89.400002\n",
       "2076.02    89.400002\n",
       "2076.03    89.400002\n",
       "Name: J/A+A/664/A163/tableb1:EWLi, dtype: object"
      ]
     },
     "execution_count": 20,
     "metadata": {},
     "output_type": "execute_result"
    }
   ],
   "source": [
    "# in mA\n",
    "data_df.T['J/A+A/676/A129/catalog:EWLi'].dropna()"
   ]
  },
  {
   "cell_type": "code",
   "execution_count": 39,
   "id": "834cd0e8-9ccc-4e98-acb3-688aa1528da2",
   "metadata": {},
   "outputs": [
    {
     "name": "stdout",
     "output_type": "stream",
     "text": [
      "200.01     216.0\n",
      "831.01     160.0\n",
      "833.01       0.0\n",
      "865.01       0.0\n",
      "2383.01      0.0\n",
      "4399.01    165.0\n",
      "6551.01    220.0\n",
      "Name: J/A+A/460/695/stars:EWLi, dtype: object\n",
      "1807.01        104.0\n",
      "2076.01    89.400002\n",
      "2076.02    89.400002\n",
      "2076.03    89.400002\n",
      "Name: J/A+A/664/A163/tableb1:EWLi, dtype: object\n",
      "1227.01    513\n",
      "1880.01    515\n",
      "Name: J/AJ/163/156/table5:EWLi, dtype: object\n",
      "could not convert string to float: 'Goodman'\n",
      "could not convert string to float: '<'\n",
      "4399.01    165.0\n",
      "Name: J/A+A/573/A126/sample:EWLi, dtype: object\n",
      "2048.01    53.099998\n",
      "Name: J/AJ/164/115/table7:EWLi, dtype: object\n",
      "200.01    216.0\n",
      "Name: J/MNRAS/494/2429/table1:EWLi, dtype: object\n"
     ]
    }
   ],
   "source": [
    "for ref in refs.index:\n",
    "    x = data_df.T[ref].dropna()\n",
    "    try:\n",
    "        if (x.astype(float)>50).any():\n",
    "            print(data_df.T[ref].dropna())\n",
    "    except Exception as e:\n",
    "        print(e)"
   ]
  },
  {
   "cell_type": "markdown",
   "id": "e8b3779c-0776-4842-a277-98bb0bd53d48",
   "metadata": {},
   "source": [
    "## load data"
   ]
  },
  {
   "cell_type": "code",
   "execution_count": 35,
   "id": "76113413-f181-4d59-94ba-35ef79011ec1",
   "metadata": {},
   "outputs": [
    {
     "data": {
      "text/html": [
       "<div>\n",
       "<style scoped>\n",
       "    .dataframe tbody tr th:only-of-type {\n",
       "        vertical-align: middle;\n",
       "    }\n",
       "\n",
       "    .dataframe tbody tr th {\n",
       "        vertical-align: top;\n",
       "    }\n",
       "\n",
       "    .dataframe thead th {\n",
       "        text-align: right;\n",
       "    }\n",
       "</style>\n",
       "<table border=\"1\" class=\"dataframe\">\n",
       "  <thead>\n",
       "    <tr style=\"text-align: right;\">\n",
       "      <th></th>\n",
       "      <th>TOI</th>\n",
       "      <th>bv</th>\n",
       "      <th>bv_err</th>\n",
       "      <th>li</th>\n",
       "      <th>prot</th>\n",
       "      <th>rhk</th>\n",
       "      <th>teff</th>\n",
       "      <th>ruwe</th>\n",
       "    </tr>\n",
       "  </thead>\n",
       "  <tbody>\n",
       "    <tr>\n",
       "      <th>0</th>\n",
       "      <td>101.01</td>\n",
       "      <td>0.656000</td>\n",
       "      <td>0.1</td>\n",
       "      <td>NaN</td>\n",
       "      <td>1.430321</td>\n",
       "      <td>NaN</td>\n",
       "      <td>5648.642857</td>\n",
       "      <td>NaN</td>\n",
       "    </tr>\n",
       "    <tr>\n",
       "      <th>1</th>\n",
       "      <td>102.01</td>\n",
       "      <td>0.507667</td>\n",
       "      <td>0.1</td>\n",
       "      <td>NaN</td>\n",
       "      <td>4.410011</td>\n",
       "      <td>NaN</td>\n",
       "      <td>6257.270417</td>\n",
       "      <td>NaN</td>\n",
       "    </tr>\n",
       "    <tr>\n",
       "      <th>2</th>\n",
       "      <td>103.01</td>\n",
       "      <td>0.291000</td>\n",
       "      <td>0.1</td>\n",
       "      <td>NaN</td>\n",
       "      <td>3.554638</td>\n",
       "      <td>NaN</td>\n",
       "      <td>6086.159167</td>\n",
       "      <td>NaN</td>\n",
       "    </tr>\n",
       "    <tr>\n",
       "      <th>3</th>\n",
       "      <td>104.01</td>\n",
       "      <td>0.545667</td>\n",
       "      <td>0.1</td>\n",
       "      <td>NaN</td>\n",
       "      <td>4.090360</td>\n",
       "      <td>NaN</td>\n",
       "      <td>6046.516250</td>\n",
       "      <td>NaN</td>\n",
       "    </tr>\n",
       "    <tr>\n",
       "      <th>4</th>\n",
       "      <td>105.01</td>\n",
       "      <td>0.687667</td>\n",
       "      <td>0.1</td>\n",
       "      <td>NaN</td>\n",
       "      <td>2.187803</td>\n",
       "      <td>NaN</td>\n",
       "      <td>5741.285333</td>\n",
       "      <td>NaN</td>\n",
       "    </tr>\n",
       "    <tr>\n",
       "      <th>...</th>\n",
       "      <td>...</td>\n",
       "      <td>...</td>\n",
       "      <td>...</td>\n",
       "      <td>...</td>\n",
       "      <td>...</td>\n",
       "      <td>...</td>\n",
       "      <td>...</td>\n",
       "      <td>...</td>\n",
       "    </tr>\n",
       "    <tr>\n",
       "      <th>4646</th>\n",
       "      <td>5378.01</td>\n",
       "      <td>1.174000</td>\n",
       "      <td>NaN</td>\n",
       "      <td>NaN</td>\n",
       "      <td>NaN</td>\n",
       "      <td>NaN</td>\n",
       "      <td>4676.843750</td>\n",
       "      <td>0.955114</td>\n",
       "    </tr>\n",
       "    <tr>\n",
       "      <th>4647</th>\n",
       "      <td>5379.01</td>\n",
       "      <td>0.458667</td>\n",
       "      <td>NaN</td>\n",
       "      <td>NaN</td>\n",
       "      <td>NaN</td>\n",
       "      <td>NaN</td>\n",
       "      <td>6316.347805</td>\n",
       "      <td>1.046806</td>\n",
       "    </tr>\n",
       "    <tr>\n",
       "      <th>4648</th>\n",
       "      <td>5380.01</td>\n",
       "      <td>0.461000</td>\n",
       "      <td>NaN</td>\n",
       "      <td>NaN</td>\n",
       "      <td>NaN</td>\n",
       "      <td>NaN</td>\n",
       "      <td>6420.325168</td>\n",
       "      <td>1.042541</td>\n",
       "    </tr>\n",
       "    <tr>\n",
       "      <th>4649</th>\n",
       "      <td>5382.01</td>\n",
       "      <td>0.560000</td>\n",
       "      <td>NaN</td>\n",
       "      <td>NaN</td>\n",
       "      <td>NaN</td>\n",
       "      <td>NaN</td>\n",
       "      <td>6263.408975</td>\n",
       "      <td>1.233940</td>\n",
       "    </tr>\n",
       "    <tr>\n",
       "      <th>4650</th>\n",
       "      <td>5383.01</td>\n",
       "      <td>0.441625</td>\n",
       "      <td>NaN</td>\n",
       "      <td>NaN</td>\n",
       "      <td>0.850000</td>\n",
       "      <td>NaN</td>\n",
       "      <td>6700.580612</td>\n",
       "      <td>1.735051</td>\n",
       "    </tr>\n",
       "  </tbody>\n",
       "</table>\n",
       "<p>4651 rows × 8 columns</p>\n",
       "</div>"
      ],
      "text/plain": [
       "          TOI        bv  bv_err  li      prot  rhk         teff      ruwe\n",
       "0      101.01  0.656000     0.1 NaN  1.430321  NaN  5648.642857       NaN\n",
       "1      102.01  0.507667     0.1 NaN  4.410011  NaN  6257.270417       NaN\n",
       "2      103.01  0.291000     0.1 NaN  3.554638  NaN  6086.159167       NaN\n",
       "3      104.01  0.545667     0.1 NaN  4.090360  NaN  6046.516250       NaN\n",
       "4      105.01  0.687667     0.1 NaN  2.187803  NaN  5741.285333       NaN\n",
       "...       ...       ...     ...  ..       ...  ...          ...       ...\n",
       "4646  5378.01  1.174000     NaN NaN       NaN  NaN  4676.843750  0.955114\n",
       "4647  5379.01  0.458667     NaN NaN       NaN  NaN  6316.347805  1.046806\n",
       "4648  5380.01  0.461000     NaN NaN       NaN  NaN  6420.325168  1.042541\n",
       "4649  5382.01  0.560000     NaN NaN       NaN  NaN  6263.408975  1.233940\n",
       "4650  5383.01  0.441625     NaN NaN  0.850000  NaN  6700.580612  1.735051\n",
       "\n",
       "[4651 rows x 8 columns]"
      ]
     },
     "execution_count": 35,
     "metadata": {},
     "output_type": "execute_result"
    }
   ],
   "source": [
    "import pandas as pd\n",
    "\n",
    "data = pd.read_csv('../data/youth_indicators_tois.csv')\n",
    "data"
   ]
  },
  {
   "cell_type": "code",
   "execution_count": 36,
   "id": "0738c5e4-e0a7-44c9-883a-95cea2a3f012",
   "metadata": {},
   "outputs": [
    {
     "data": {
      "text/plain": [
       "100     108.107498\n",
       "654     160.000000\n",
       "655       0.000000\n",
       "682       0.000000\n",
       "1217      0.015000\n",
       "1394      0.166000\n",
       "1857      0.000000\n",
       "2291     35.200000\n",
       "3706    165.000000\n",
       "4115      7.361100\n",
       "Name: li, dtype: float64"
      ]
     },
     "execution_count": 36,
     "metadata": {},
     "output_type": "execute_result"
    }
   ],
   "source": [
    "data.li.dropna()"
   ]
  },
  {
   "cell_type": "raw",
   "id": "6dad2e9e-2259-4925-87bb-90dd79509a43",
   "metadata": {},
   "source": [
    "# name = 5082.01\n",
    "# name = 6902.01\n",
    "name = 2666.01\n",
    "data.query(\"TOI==@name\").squeeze()"
   ]
  },
  {
   "cell_type": "code",
   "execution_count": null,
   "id": "0288c550-1d28-4b5e-8180-4690eada080d",
   "metadata": {
    "ExecuteTime": {
     "end_time": "2023-04-07T10:36:09.049271Z",
     "start_time": "2023-04-07T10:15:10.881818Z"
    }
   },
   "outputs": [],
   "source": [
    "import pandas as pd\n",
    "import numpy as np\n",
    "from tqdm import tqdm\n",
    "from kenmon import Target\n",
    "\n",
    "params = [\"B-V\", \"log_R_HK_\", \"EWLi\", \"Teff\", \"Prot\", \"ruwe\"]\n",
    "\n",
    "for i,row in tqdm(df.iterrows()):\n",
    "    if data.TOI.isin([row.TOI]).sum()==0:\n",
    "        d = {}\n",
    "        d['TOI'] = row.TOI\n",
    "        t = Target(ra_deg=row.ra_deg, dec_deg=row.dec_deg, verbose=False)\n",
    "\n",
    "        for param in params:\n",
    "            p = t.query_vizier_param(param, use_regex=False)\n",
    "            v = np.nanmean(list(map(float, p.values())))\n",
    "            d[param] = v\n",
    "        s = pd.Series(d).rename({\"B-V\": \"bv\", \n",
    "                                 \"log_R_HK_\": \"rhk\", \n",
    "                                 \"EWLi\": \"li\", \n",
    "                                 \"Teff\": \"teff\", \n",
    "                                 \"Prot\": \"prot\",\n",
    "                                 #ruwe\n",
    "                                }).to_frame().T\n",
    "        data = pd.concat([data,s], ignore_index=True) \n",
    "        # break"
   ]
  },
  {
   "cell_type": "code",
   "execution_count": 21,
   "id": "64d8e4c2-4f91-423a-850d-6092e8efdd7f",
   "metadata": {},
   "outputs": [
    {
     "data": {
      "text/html": [
       "<div>\n",
       "<style scoped>\n",
       "    .dataframe tbody tr th:only-of-type {\n",
       "        vertical-align: middle;\n",
       "    }\n",
       "\n",
       "    .dataframe tbody tr th {\n",
       "        vertical-align: top;\n",
       "    }\n",
       "\n",
       "    .dataframe thead th {\n",
       "        text-align: right;\n",
       "    }\n",
       "</style>\n",
       "<table border=\"1\" class=\"dataframe\">\n",
       "  <thead>\n",
       "    <tr style=\"text-align: right;\">\n",
       "      <th></th>\n",
       "      <th>TOI</th>\n",
       "      <th>bv</th>\n",
       "      <th>bv_err</th>\n",
       "      <th>li</th>\n",
       "      <th>prot</th>\n",
       "      <th>rhk</th>\n",
       "      <th>teff</th>\n",
       "      <th>ruwe</th>\n",
       "    </tr>\n",
       "  </thead>\n",
       "  <tbody>\n",
       "    <tr>\n",
       "      <th>4646</th>\n",
       "      <td>5378.01</td>\n",
       "      <td>1.174000</td>\n",
       "      <td>NaN</td>\n",
       "      <td>NaN</td>\n",
       "      <td>NaN</td>\n",
       "      <td>NaN</td>\n",
       "      <td>4676.843750</td>\n",
       "      <td>0.955114</td>\n",
       "    </tr>\n",
       "    <tr>\n",
       "      <th>4647</th>\n",
       "      <td>5379.01</td>\n",
       "      <td>0.458667</td>\n",
       "      <td>NaN</td>\n",
       "      <td>NaN</td>\n",
       "      <td>NaN</td>\n",
       "      <td>NaN</td>\n",
       "      <td>6316.347805</td>\n",
       "      <td>1.046806</td>\n",
       "    </tr>\n",
       "    <tr>\n",
       "      <th>4648</th>\n",
       "      <td>5380.01</td>\n",
       "      <td>0.461000</td>\n",
       "      <td>NaN</td>\n",
       "      <td>NaN</td>\n",
       "      <td>NaN</td>\n",
       "      <td>NaN</td>\n",
       "      <td>6420.325168</td>\n",
       "      <td>1.042541</td>\n",
       "    </tr>\n",
       "    <tr>\n",
       "      <th>4649</th>\n",
       "      <td>5382.01</td>\n",
       "      <td>0.560000</td>\n",
       "      <td>NaN</td>\n",
       "      <td>NaN</td>\n",
       "      <td>NaN</td>\n",
       "      <td>NaN</td>\n",
       "      <td>6263.408975</td>\n",
       "      <td>1.233940</td>\n",
       "    </tr>\n",
       "    <tr>\n",
       "      <th>4650</th>\n",
       "      <td>5383.01</td>\n",
       "      <td>0.441625</td>\n",
       "      <td>NaN</td>\n",
       "      <td>NaN</td>\n",
       "      <td>0.85</td>\n",
       "      <td>NaN</td>\n",
       "      <td>6700.580612</td>\n",
       "      <td>1.735051</td>\n",
       "    </tr>\n",
       "  </tbody>\n",
       "</table>\n",
       "</div>"
      ],
      "text/plain": [
       "          TOI        bv  bv_err  li  prot  rhk         teff      ruwe\n",
       "4646  5378.01  1.174000     NaN NaN   NaN  NaN  4676.843750  0.955114\n",
       "4647  5379.01  0.458667     NaN NaN   NaN  NaN  6316.347805  1.046806\n",
       "4648  5380.01  0.461000     NaN NaN   NaN  NaN  6420.325168  1.042541\n",
       "4649  5382.01  0.560000     NaN NaN   NaN  NaN  6263.408975  1.233940\n",
       "4650  5383.01  0.441625     NaN NaN  0.85  NaN  6700.580612  1.735051"
      ]
     },
     "execution_count": 21,
     "metadata": {},
     "output_type": "execute_result"
    }
   ],
   "source": [
    "data = data.sort_values(by='TOI')\n",
    "data.tail()"
   ]
  },
  {
   "cell_type": "code",
   "execution_count": 22,
   "id": "c2d282e1-01d5-413c-9bf0-bc349f56cf28",
   "metadata": {},
   "outputs": [
    {
     "data": {
      "text/html": [
       "<div>\n",
       "<style scoped>\n",
       "    .dataframe tbody tr th:only-of-type {\n",
       "        vertical-align: middle;\n",
       "    }\n",
       "\n",
       "    .dataframe tbody tr th {\n",
       "        vertical-align: top;\n",
       "    }\n",
       "\n",
       "    .dataframe thead th {\n",
       "        text-align: right;\n",
       "    }\n",
       "</style>\n",
       "<table border=\"1\" class=\"dataframe\">\n",
       "  <thead>\n",
       "    <tr style=\"text-align: right;\">\n",
       "      <th></th>\n",
       "      <th>TOI</th>\n",
       "      <th>bv</th>\n",
       "      <th>bv_err</th>\n",
       "      <th>li</th>\n",
       "      <th>prot</th>\n",
       "      <th>rhk</th>\n",
       "      <th>teff</th>\n",
       "      <th>ruwe</th>\n",
       "    </tr>\n",
       "  </thead>\n",
       "  <tbody>\n",
       "  </tbody>\n",
       "</table>\n",
       "</div>"
      ],
      "text/plain": [
       "Empty DataFrame\n",
       "Columns: [TOI, bv, bv_err, li, prot, rhk, teff, ruwe]\n",
       "Index: []"
      ]
     },
     "execution_count": 22,
     "metadata": {},
     "output_type": "execute_result"
    }
   ],
   "source": [
    "data.dropna(how='any')"
   ]
  },
  {
   "cell_type": "code",
   "execution_count": 23,
   "id": "b48ff5c4-ed83-4f3b-9fd3-e1f7e394b1fc",
   "metadata": {},
   "outputs": [
    {
     "name": "stdout",
     "output_type": "stream",
     "text": [
      "TOI 4651\n",
      "bv 4290\n",
      "bv_err 4000\n",
      "li 10\n",
      "prot 613\n",
      "rhk 17\n",
      "teff 4643\n",
      "ruwe 332\n"
     ]
    }
   ],
   "source": [
    "for c in data.columns:\n",
    "    print(c,len(data[c].dropna()))"
   ]
  },
  {
   "cell_type": "code",
   "execution_count": 25,
   "id": "0949462c-780d-4802-a386-222d6e7603ee",
   "metadata": {
    "ExecuteTime": {
     "end_time": "2023-04-07T10:36:43.554482Z",
     "start_time": "2023-04-07T10:36:43.535786Z"
    }
   },
   "outputs": [],
   "source": [
    "data.to_csv('../data/youth_indicators_tois.csv', index=False)"
   ]
  },
  {
   "cell_type": "code",
   "execution_count": null,
   "id": "e55500f4-90b1-4306-87b8-81e45f631aae",
   "metadata": {},
   "outputs": [],
   "source": []
  }
 ],
 "metadata": {
  "kernelspec": {
   "display_name": "wakai",
   "language": "python",
   "name": "wakai"
  },
  "language_info": {
   "codemirror_mode": {
    "name": "ipython",
    "version": 3
   },
   "file_extension": ".py",
   "mimetype": "text/x-python",
   "name": "python",
   "nbconvert_exporter": "python",
   "pygments_lexer": "ipython3",
   "version": "3.12.4"
  },
  "toc": {
   "base_numbering": 1,
   "nav_menu": {},
   "number_sections": true,
   "sideBar": true,
   "skip_h1_title": false,
   "title_cell": "Table of Contents",
   "title_sidebar": "Contents",
   "toc_cell": false,
   "toc_position": {},
   "toc_section_display": true,
   "toc_window_display": false
  }
 },
 "nbformat": 4,
 "nbformat_minor": 5
}
