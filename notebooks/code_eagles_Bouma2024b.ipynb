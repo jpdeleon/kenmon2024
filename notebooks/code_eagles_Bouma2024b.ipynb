{
 "cells": [
  {
   "cell_type": "markdown",
   "id": "d560b0b5-32a2-4c33-9ef2-25de0688a014",
   "metadata": {},
   "source": [
    "# Confirm publised ages in Bouma+2024b\n",
    "* https://ui.adsabs.harvard.edu/abs/2024ApJ...976..234B/abstract"
   ]
  },
  {
   "cell_type": "raw",
   "id": "762c846f-0b36-4e63-be52-c85957a42c3a",
   "metadata": {},
   "source": [
    "import sys\n",
    "\n",
    "# make sure you are using `gyrointerp` environment\n",
    "assert sys.executable.split('/')[5]=='baffles'"
   ]
  },
  {
   "cell_type": "code",
   "execution_count": 2,
   "id": "c36c769c-af1d-492a-b6d0-142bc7de07fb",
   "metadata": {},
   "outputs": [],
   "source": [
    "# Inside this jupyter lab, do not use `pip install xxx`, instead use:\n",
    "# import sys\n",
    "# !{sys.executable} -m pip install xxx"
   ]
  },
  {
   "cell_type": "raw",
   "id": "97158f77-0a72-4104-a694-5d0723e1d593",
   "metadata": {},
   "source": [
    "# check if package is installed\n",
    "!{sys.executable} -m pip show baffles"
   ]
  },
  {
   "cell_type": "code",
   "execution_count": 2,
   "id": "6b43506f-e741-4afd-bad6-ddfbe43319a6",
   "metadata": {},
   "outputs": [],
   "source": [
    "#so just import from another directory\n",
    "import sys\n",
    "sys.path.insert(0, '../EAGLES/')"
   ]
  },
  {
   "cell_type": "markdown",
   "id": "00021423-4bbf-4a1a-80b4-fbdfca8a58e0",
   "metadata": {},
   "source": [
    "## Table 1 in Bouma+2024b"
   ]
  },
  {
   "cell_type": "code",
   "execution_count": 1,
   "id": "fea4c1e8-7d75-4404-b41e-8a9978f20fae",
   "metadata": {},
   "outputs": [
    {
     "data": {
      "text/html": [
       "<div><i>Table length=3</i>\n",
       "<table id=\"table140306203355376\" class=\"table-striped table-bordered table-condensed\">\n",
       "<thead><tr><th>KIC</th><th>KOI</th><th>Kepler</th><th>Disp</th><th>Teff</th><th>e_Teff</th><th>r_Teff</th><th>Prot</th><th>e_Prot</th><th>r_Prot</th><th>EW</th><th>e_EW</th><th>tGyro</th><th>E_tGyro</th><th>e_tGyro</th><th>2Up-tGyro</th><th>2Lo-tGyro</th><th>tLi</th><th>E_tLi</th><th>e_tLi</th><th>Rp</th><th>r_Rp</th><th>Per</th><th>StarFlag</th><th>PlanetFlag</th><th>HiRes</th><th>Consist</th><th>f_tGyro</th><th>f_tLi</th></tr></thead>\n",
       "<thead><tr><th></th><th></th><th></th><th></th><th>K</th><th>K</th><th></th><th>d</th><th>d</th><th></th><th>1e-13 m</th><th>1e-13 m</th><th>Myr</th><th>Myr</th><th>Myr</th><th>Myr</th><th>Myr</th><th>1e-13 m</th><th>1e-13 m</th><th>1e-13 m</th><th>Rgeo</th><th></th><th>d</th><th></th><th></th><th></th><th></th><th></th><th></th></tr></thead>\n",
       "<thead><tr><th>int64</th><th>str9</th><th>str14</th><th>str9</th><th>int64</th><th>int64</th><th>str19</th><th>str5</th><th>str5</th><th>str19</th><th>int64</th><th>int64</th><th>int64</th><th>int64</th><th>int64</th><th>int64</th><th>int64</th><th>int64</th><th>int64</th><th>int64</th><th>float64</th><th>str19</th><th>float64</th><th>int64</th><th>int64</th><th>int64</th><th>str5</th><th>str6</th><th>str5</th></tr></thead>\n",
       "<tr><td>6184894</td><td>K05245.01</td><td>Kepler-1627 b</td><td>CONFIRMED</td><td>5357</td><td>95</td><td>2020AJ....159..280B</td><td>2.620</td><td>0.026</td><td>2021ApJS..255...17S</td><td>225</td><td>7</td><td>81</td><td>158</td><td>55</td><td>413</td><td>77</td><td>51</td><td>38</td><td>27</td><td>3.79</td><td>2022AJ....163..121B</td><td>7.2</td><td>2176</td><td>0</td><td>1</td><td>Yes</td><td>--</td><td>--</td></tr>\n",
       "<tr><td>10736489</td><td>K07368.01</td><td>Kepler-1974 b</td><td>CONFIRMED</td><td>5068</td><td>76</td><td>2020AJ....159..280B</td><td>2.560</td><td>0.026</td><td>2021ApJS..255...17S</td><td>248</td><td>4</td><td>88</td><td>183</td><td>60</td><td>420</td><td>84</td><td>54</td><td>47</td><td>25</td><td>2.22</td><td>2022AJ....164..215B</td><td>6.84</td><td>2560</td><td>0</td><td>1</td><td>Yes</td><td>--</td><td>--</td></tr>\n",
       "<tr><td>10717220</td><td>K06228.01</td><td>Kepler-1644 b</td><td>CONFIRMED</td><td>5521</td><td>109</td><td>2020AJ....159..280B</td><td>1.430</td><td>0.014</td><td>2021ApJS..255...17S</td><td>-2</td><td>13</td><td>77</td><td>144</td><td>53</td><td>409</td><td>74</td><td>--</td><td>--</td><td>--</td><td>1.88</td><td>10.26133/NEA4</td><td>21.09</td><td>2690</td><td>4</td><td>1</td><td>No</td><td>--</td><td>&gt; 767</td></tr>\n",
       "</table></div>"
      ],
      "text/plain": [
       "<Table length=3>\n",
       "  KIC       KOI        Kepler       Disp    Teff ... HiRes Consist f_tGyro f_tLi\n",
       "                                             K   ...                            \n",
       " int64      str9       str14        str9   int64 ... int64   str5    str6   str5\n",
       "-------- --------- ------------- --------- ----- ... ----- ------- ------- -----\n",
       " 6184894 K05245.01 Kepler-1627 b CONFIRMED  5357 ...     1     Yes      --    --\n",
       "10736489 K07368.01 Kepler-1974 b CONFIRMED  5068 ...     1     Yes      --    --\n",
       "10717220 K06228.01 Kepler-1644 b CONFIRMED  5521 ...     1      No      -- > 767"
      ]
     },
     "execution_count": 1,
     "metadata": {},
     "output_type": "execute_result"
    }
   ],
   "source": [
    "from astropy.io import ascii\n",
    "\n",
    "url = \"https://content.cld.iop.org/journals/0004-637X/976/2/234/revision1/apjad855ft1_mrt.txt\"\n",
    "tab = ascii.read(url)\n",
    "tab[:3]"
   ]
  },
  {
   "cell_type": "code",
   "execution_count": 9,
   "id": "5c74d2af-daa0-4def-98c9-e6d28a7fa856",
   "metadata": {},
   "outputs": [
    {
     "data": {
      "text/plain": [
       "(2461, 29)"
      ]
     },
     "execution_count": 9,
     "metadata": {},
     "output_type": "execute_result"
    }
   ],
   "source": [
    "df = tab.to_pandas()\n",
    "df.shape"
   ]
  },
  {
   "cell_type": "code",
   "execution_count": 10,
   "id": "ba5a1644-4cc6-4414-a365-f8e6b2d704ce",
   "metadata": {},
   "outputs": [],
   "source": [
    "# filter only confirmed planets (exclude Kepler candidates)\n",
    "\n",
    "idx = df.Disp=='CONFIRMED' #& \\\n",
    "      # df.StarFlag==0 & \\\n",
    "      # df.PlanetFlag==0 &\\"
   ]
  },
  {
   "cell_type": "code",
   "execution_count": 11,
   "id": "b4491b39-8d4f-4472-922d-3e3e38607487",
   "metadata": {},
   "outputs": [
    {
     "data": {
      "text/plain": [
       "(2107, 29)"
      ]
     },
     "execution_count": 11,
     "metadata": {},
     "output_type": "execute_result"
    }
   ],
   "source": [
    "# filter\n",
    "df = df[idx]\n",
    "df.shape"
   ]
  },
  {
   "cell_type": "code",
   "execution_count": 12,
   "id": "9dd418ea-9e3d-4913-aaa5-26617283f0ef",
   "metadata": {},
   "outputs": [
    {
     "data": {
      "text/plain": [
       "Index(['KIC', 'KOI', 'Kepler', 'Disp', 'Teff', 'e_Teff', 'r_Teff', 'Prot',\n",
       "       'e_Prot', 'r_Prot', 'EW', 'e_EW', 'tGyro', 'E_tGyro', 'e_tGyro',\n",
       "       '2Up-tGyro', '2Lo-tGyro', 'tLi', 'E_tLi', 'e_tLi', 'Rp', 'r_Rp', 'Per',\n",
       "       'StarFlag', 'PlanetFlag', 'HiRes', 'Consist', 'f_tGyro', 'f_tLi'],\n",
       "      dtype='object')"
      ]
     },
     "execution_count": 12,
     "metadata": {},
     "output_type": "execute_result"
    }
   ],
   "source": [
    "df.columns"
   ]
  },
  {
   "cell_type": "code",
   "execution_count": 13,
   "id": "8c27fa85-889c-4ae7-968b-6d1e1a140e1a",
   "metadata": {},
   "outputs": [],
   "source": [
    "# convert to float\n",
    "cols = ['Kepler','Prot','Teff','e_Prot','e_Teff', 'tGyro','E_tGyro','e_tGyro','EW','e_EW','tLi','E_tLi','e_tLi']\n",
    "df[cols[1:]] = df[cols[1:]].astype(float)"
   ]
  },
  {
   "cell_type": "markdown",
   "id": "77cc0e02-14c1-46b0-a36a-1cad42dbe0f3",
   "metadata": {},
   "source": [
    "## fit"
   ]
  },
  {
   "cell_type": "code",
   "execution_count": 36,
   "id": "c6386daa-3319-48e5-a9b4-e17b230ca06c",
   "metadata": {},
   "outputs": [],
   "source": [
    "import os\n",
    "\n",
    "# need to change directory for EAGLES to work\n",
    "os.chdir('../EAGLES/')"
   ]
  },
  {
   "cell_type": "code",
   "execution_count": 37,
   "id": "3cd22d6a-2135-4fe5-9c24-3a483f9a2c40",
   "metadata": {},
   "outputs": [
    {
     "data": {
      "text/plain": [
       "Kepler     Kepler-1627 b\n",
       "Prot                2.62\n",
       "Teff              5357.0\n",
       "e_Prot             0.026\n",
       "e_Teff              95.0\n",
       "tGyro               81.0\n",
       "E_tGyro            158.0\n",
       "e_tGyro             55.0\n",
       "EW                 225.0\n",
       "e_EW                 7.0\n",
       "tLi                 51.0\n",
       "E_tLi               38.0\n",
       "e_tLi               27.0\n",
       "Name: 0, dtype: object"
      ]
     },
     "execution_count": 37,
     "metadata": {},
     "output_type": "execute_result"
    }
   ],
   "source": [
    "name = \"Kepler-1627 b\"\n",
    "d = df.query(\"Kepler==@name\").squeeze()\n",
    "d"
   ]
  },
  {
   "cell_type": "code",
   "execution_count": 52,
   "id": "65418775-6c93-47f2-bc03-bf35fcd531a1",
   "metadata": {},
   "outputs": [],
   "source": [
    "# for some reason, eagles wants inputs as array\n",
    "LiEW = np.array([d.EW])\n",
    "Teff = np.array([d.Teff])\n",
    "eLiEW = d.e_EW\n",
    "eTeff = d.e_Teff"
   ]
  },
  {
   "cell_type": "raw",
   "id": "7b85eb31-a512-45bb-a33f-93eb68fad1e1",
   "metadata": {},
   "source": [
    "get_li_age??"
   ]
  },
  {
   "cell_type": "code",
   "execution_count": 125,
   "id": "8c43f8e5-c265-469f-9903-ca2a8e73f2da",
   "metadata": {},
   "outputs": [],
   "source": [
    "from eagles import get_li_age\n",
    "\n",
    "lagesmin=6.0\n",
    "lagesmax=9.0\n",
    "nAge=820\n",
    "lAges, llike, lprob, p, chisq = get_li_age(LiEW, eLiEW, Teff, eTeff,\n",
    "                                           lagesmin, lagesmax, \n",
    "                                           lApkmin=6.699, \n",
    "                                           nAge=nAge, z=1.0e-12, nTeff=21, prior=None)"
   ]
  },
  {
   "cell_type": "code",
   "execution_count": 126,
   "id": "5297dfb1-b11e-4d79-bdfc-f55933e22e41",
   "metadata": {},
   "outputs": [
    {
     "data": {
      "text/plain": [
       "-1"
      ]
     },
     "execution_count": 126,
     "metadata": {},
     "output_type": "execute_result"
    }
   ],
   "source": [
    "chisq"
   ]
  },
  {
   "cell_type": "code",
   "execution_count": 127,
   "id": "fd73aa02-7fdb-43ba-a231-5481f8f2e268",
   "metadata": {},
   "outputs": [
    {
     "data": {
      "image/png": "[encoded data removed]",
      "text/plain": [
       "<Figure size 640x480 with 1 Axes>"
      ]
     },
     "metadata": {},
     "output_type": "display_data"
    }
   ],
   "source": [
    "from eagles import make_plots\n",
    "\n",
    "ID=None\n",
    "filename=None\n",
    "\n",
    "make_plots(lAges, lprob, p, chisq, lagesmin, lagesmax,\n",
    "           ID, LiEW, eLiEW, Teff, filename, is_cluster=False, savefig=False)"
   ]
  },
  {
   "cell_type": "code",
   "execution_count": 128,
   "id": "9a2cdc94-a17b-4ed2-a734-b696fdf130c5",
   "metadata": {},
   "outputs": [
    {
     "name": "stdout",
     "output_type": "stream",
     "text": [
      "age of Kepler-1627 b = 51.0 +38.0 -27.0Myr\n"
     ]
    }
   ],
   "source": [
    "#compare with published results\n",
    "print(f\"age of {name} = {d['tLi']} +{d['E_tLi']} -{d['e_tLi']}Myr\")"
   ]
  },
  {
   "cell_type": "code",
   "execution_count": 129,
   "id": "497affa1-5fa4-4794-8908-ad7a929ec0b6",
   "metadata": {},
   "outputs": [
    {
     "data": {
      "text/plain": [
       "(np.float64(1.0042209290348338), np.float64(995.7968123220747))"
      ]
     },
     "execution_count": 129,
     "metadata": {},
     "output_type": "execute_result"
    }
   ],
   "source": [
    "# percentiles change depending on the age_grid\n",
    "\n",
    "age_grid = lagesmin+(np.arange(nAge)+0.5)*(lagesmax-lagesmin)/float(nAge)\n",
    "age_grid = (10**age_grid)/1e6\n",
    "min(age_grid), max(age_grid)"
   ]
  },
  {
   "cell_type": "code",
   "execution_count": 130,
   "id": "57c6b3c0-2f4f-49ca-a9ed-f61bfa32328b",
   "metadata": {},
   "outputs": [
    {
     "name": "stdout",
     "output_type": "stream",
     "text": [
      "Age = 687.4 +213.13 -282.01 Myr.\n"
     ]
    }
   ],
   "source": [
    "from gyrointerp import get_summary_statistics\n",
    "\n",
    "# calculate dictionary of summary statistics\n",
    "result = get_summary_statistics(age_grid, lprob)\n",
    "print(f\"Age = {result['median']} +{result['+1sigma']} -{result['-1sigma']} Myr.\")"
   ]
  },
  {
   "cell_type": "raw",
   "id": "3133073e-061b-41d5-ba90-e340e50426d6",
   "metadata": {},
   "source": [
    "import matplotlib.pyplot as plt\n",
    "\n",
    "def plot_age_posterior(name, Prot, Teff, age_posterior, age_stat, age_grid):\n",
    "    fig, ax = plt.subplots()\n",
    "    \n",
    "    # add vertical lines\n",
    "    x1 = int(age_stat['-1sigma'])\n",
    "    med = int(age_stat['median'])\n",
    "    x2 = int(age_stat['+1sigma'])\n",
    "    lbl = f\"Age = {med} + {x2} - {x1} Myr\"\n",
    "    \n",
    "    ax.plot(age_grid, 1e3*age_posterior, c='k', lw=1, marker='.',label=lbl)\n",
    "    ax.update({\n",
    "        'xlabel': 'Age [Myr]',\n",
    "        'ylabel': 'Probability ($10^{-3}\\,$Myr$^{-1}$)',\n",
    "        'title': f'{name} (Prot = {Prot}d, Teff = {Teff}K)',\n",
    "        'xlim': [0,1000]\n",
    "    })\n",
    "    \n",
    "    for i,v in zip(['-1sigma','median','+1sigma'],[med-x1,med,med+x2]):\n",
    "        ls = '-' if i=='median' else '--'\n",
    "        ax.axvline(v, ls=ls)\n",
    "    ax.legend()\n",
    "    return fig"
   ]
  },
  {
   "cell_type": "markdown",
   "id": "c189600d-7007-4261-b25b-65818e569a4c",
   "metadata": {},
   "source": [
    "## plot data"
   ]
  },
  {
   "cell_type": "code",
   "execution_count": 17,
   "id": "5918b70d-3eea-4d1e-8d5c-37414efff515",
   "metadata": {},
   "outputs": [
    {
     "data": {
      "image/png": "[encoded data removed]",
      "text/plain": [
       "<Figure size 640x480 with 2 Axes>"
      ]
     },
     "metadata": {},
     "output_type": "display_data"
    }
   ],
   "source": [
    "import matplotlib.pyplot as plt\n",
    "\n",
    "fig, ax = plt.subplots()\n",
    "s = ax.scatter(df.Teff, df.EW, marker='.', c=df.tLi)\n",
    "fig.colorbar(s, label='Age [Myr]')\n",
    "ax.xaxis.set_inverted(True)\n",
    "ax.update({\n",
    "    'xlabel': 'Teff [K]',\n",
    "    'ylabel': 'Li EW [mA]',\n",
    "    'title': 'Ages of Host Stars in the Kepler Field (Bouma+2024b)'\n",
    "    });"
   ]
  },
  {
   "cell_type": "markdown",
   "id": "efe9c369-0537-47ec-abf3-d03a18190bec",
   "metadata": {},
   "source": [
    "## plot also models from eagles"
   ]
  },
  {
   "cell_type": "code",
   "execution_count": null,
   "id": "880ba4e5-3f73-4f0c-982c-b18cdb298123",
   "metadata": {},
   "outputs": [
    {
     "data": {
      "text/plain": [
       "<matplotlib.legend.Legend at 0x7f9adf23f0a0>"
      ]
     },
     "execution_count": 131,
     "metadata": {},
     "output_type": "execute_result"
    }
   ],
   "source": [
    "import numpy as np\n",
    "import matplotlib.pyplot as plt\n",
    "# import the EWLi prediction model from the main EAGLES code\n",
    "from eagles import AT2EWm\n",
    "from eagles import eAT2EWm\n",
    "from matplotlib.colors import ListedColormap\n",
    "\n",
    "# Modify the list below for the isochrones you want to produce (units are Myr)\n",
    "ages = [100, 500, 1000]\n",
    "Nages = len(ages)\n",
    "tmin, tmax = df.tLi.min(), df.tLi.max()\n",
    "colors = ListedColormap(plt.cm.viridis(np.linspace(tmin/tmax, 1, Nages))).colors\n",
    "\n",
    "# e.g. for fewer isochrones\n",
    "#ages = [10, 100, 1000]\n",
    "\n",
    "# Modify this flag to true if you want the plot to include the dispersion\n",
    "# look smessy if there are many closely spaced isochrones\n",
    "plot_dispersion = True\n",
    "\n",
    "# The step in logarithmic temperature\n",
    "tstep = 0.002\n",
    "\n",
    "# parameters for the plot\n",
    "\n",
    "fig, ax = plt.subplots()\n",
    "plt.xlabel('Teff (K)')\n",
    "plt.ylabel('LiEW (mA)')\n",
    "ax.set_xlim(6500, 3000)\n",
    "\n",
    "# set up a an equally spaced set of log temperatures between 3000 and 6500 K\n",
    "lteff = np.arange(3.4772, 3.8130, tstep)\n",
    "\n",
    "# loop over the ages\n",
    "for c,t in zip(colors,ages):\n",
    "\n",
    "    lAge = np.log10(t)+6  # log age in years\n",
    "    ewm = AT2EWm(lteff, lAge)\n",
    "    eewm = eAT2EWm(lteff, lAge)\n",
    "\n",
    "    # save the results as a simple .txt file    \n",
    "    # name = 'iso_'+str(t)+'.txt'\n",
    "    # np.savetxt(name, np.column_stack((10**lteff, ewm, eewm)), fmt='%.1f %.1f %.1f', delimiter=' ', header = \"Teff(K) EWLim(mA) eEWLi(mA)\")\n",
    " \n",
    "    ax.plot(10**lteff, ewm, label=f'{t} Myr', c=c)\n",
    "\n",
    "    # if the plot_dispersion flag then shade the dispersion region\n",
    "    # looks quite messy if there are lots of isochrones because of the overlap\n",
    "    if plot_dispersion :\n",
    "        plt.fill_between(10**lteff, ewm-eewm, ewm+eewm, alpha=0.3,color=c)\n",
    "\n",
    "# For the default list of ages and plot_dispersion = False, this is Fig.2 from the paper    \n",
    "\n",
    "if len(ages) <6 :\n",
    "    plt.legend()\n",
    "else :\n",
    "    ax.text(0.01,0.95, str(ages)+\" Myr\", transform=ax.transAxes)\n",
    "\n",
    "# kepler data\n",
    "s = ax.scatter(df.Teff, df.EW, marker='.', c=df.tLi)\n",
    "# fig.colorbar(s, label='Age [Myr]')\n",
    "ax.xaxis.set_inverted(True)\n",
    "ax.update({\n",
    "    'xlabel': 'Teff [K]',\n",
    "    'ylabel': 'Lithium EW [mA]',\n",
    "    'title': 'Li Ages of Host Stars in the Kepler Field (Bouma+2024b)'\n",
    "    });\n",
    "ax.legend(title='Age [Myr]', loc='upper left')"
   ]
  },
  {
   "cell_type": "markdown",
   "id": "40421e22-60a5-4e77-a126-055ab3991a56",
   "metadata": {},
   "source": [
    "## top candidates (age from gyro & lithium < 1 Gyr)"
   ]
  },
  {
   "cell_type": "code",
   "execution_count": 31,
   "id": "aa5a003b-ce07-4645-841a-813b950f1de4",
   "metadata": {},
   "outputs": [
    {
     "data": {
      "text/plain": [
       "(60, 13)"
      ]
     },
     "execution_count": 31,
     "metadata": {},
     "output_type": "execute_result"
    }
   ],
   "source": [
    "# get consistent tGyro and tLi\n",
    "idx = df['Consist']=='Yes'\n",
    "# remove columns with NaN\n",
    "df = df.loc[idx,cols].dropna()\n",
    "df.shape"
   ]
  },
  {
   "cell_type": "code",
   "execution_count": 32,
   "id": "880a20bb-2b99-4fc0-af34-34448b07ddb9",
   "metadata": {},
   "outputs": [
    {
     "data": {
      "text/html": [
       "<div>\n",
       "<style scoped>\n",
       "    .dataframe tbody tr th:only-of-type {\n",
       "        vertical-align: middle;\n",
       "    }\n",
       "\n",
       "    .dataframe tbody tr th {\n",
       "        vertical-align: top;\n",
       "    }\n",
       "\n",
       "    .dataframe thead th {\n",
       "        text-align: right;\n",
       "    }\n",
       "</style>\n",
       "<table border=\"1\" class=\"dataframe\">\n",
       "  <thead>\n",
       "    <tr style=\"text-align: right;\">\n",
       "      <th></th>\n",
       "      <th>E_tGyro</th>\n",
       "      <th>E_tLi</th>\n",
       "    </tr>\n",
       "  </thead>\n",
       "  <tbody>\n",
       "    <tr>\n",
       "      <th>0</th>\n",
       "      <td>True</td>\n",
       "      <td>True</td>\n",
       "    </tr>\n",
       "    <tr>\n",
       "      <th>1</th>\n",
       "      <td>True</td>\n",
       "      <td>True</td>\n",
       "    </tr>\n",
       "    <tr>\n",
       "      <th>3</th>\n",
       "      <td>True</td>\n",
       "      <td>True</td>\n",
       "    </tr>\n",
       "    <tr>\n",
       "      <th>5</th>\n",
       "      <td>True</td>\n",
       "      <td>True</td>\n",
       "    </tr>\n",
       "    <tr>\n",
       "      <th>8</th>\n",
       "      <td>True</td>\n",
       "      <td>True</td>\n",
       "    </tr>\n",
       "  </tbody>\n",
       "</table>\n",
       "</div>"
      ],
      "text/plain": [
       "   E_tGyro  E_tLi\n",
       "0     True   True\n",
       "1     True   True\n",
       "3     True   True\n",
       "5     True   True\n",
       "8     True   True"
      ]
     },
     "execution_count": 32,
     "metadata": {},
     "output_type": "execute_result"
    }
   ],
   "source": [
    "#filter main results: host stars with age<1Gyr (E_age = age upper limit)\n",
    "idx = df[['E_tGyro','E_tLi']]<1000\n",
    "idx.head()"
   ]
  },
  {
   "cell_type": "code",
   "execution_count": 33,
   "id": "6bc34a23-35e9-44e3-8afd-22848d3ccc46",
   "metadata": {},
   "outputs": [
    {
     "data": {
      "text/plain": [
       "0       True\n",
       "1       True\n",
       "3       True\n",
       "5       True\n",
       "8       True\n",
       "9       True\n",
       "11      True\n",
       "12      True\n",
       "13      True\n",
       "15      True\n",
       "17      True\n",
       "19      True\n",
       "23      True\n",
       "24      True\n",
       "28      True\n",
       "31      True\n",
       "32      True\n",
       "33      True\n",
       "44      True\n",
       "53     False\n",
       "54     False\n",
       "58     False\n",
       "59     False\n",
       "60     False\n",
       "79     False\n",
       "80     False\n",
       "105    False\n",
       "129    False\n",
       "143    False\n",
       "160    False\n",
       "174    False\n",
       "190    False\n",
       "216    False\n",
       "223    False\n",
       "225    False\n",
       "226    False\n",
       "227    False\n",
       "251    False\n",
       "263    False\n",
       "294    False\n",
       "295    False\n",
       "301    False\n",
       "302    False\n",
       "303    False\n",
       "345    False\n",
       "346    False\n",
       "347    False\n",
       "352    False\n",
       "353    False\n",
       "381    False\n",
       "385    False\n",
       "418    False\n",
       "419    False\n",
       "420    False\n",
       "421    False\n",
       "469    False\n",
       "493    False\n",
       "545    False\n",
       "578    False\n",
       "639    False\n",
       "dtype: bool"
      ]
     },
     "execution_count": 33,
     "metadata": {},
     "output_type": "execute_result"
    }
   ],
   "source": [
    "#make sure idx is True when both columns are True\n",
    "idx.all(axis=1)"
   ]
  },
  {
   "cell_type": "code",
   "execution_count": 34,
   "id": "8f2a8d64-379b-4f3c-8501-33d062202395",
   "metadata": {},
   "outputs": [
    {
     "data": {
      "text/html": [
       "<div>\n",
       "<style scoped>\n",
       "    .dataframe tbody tr th:only-of-type {\n",
       "        vertical-align: middle;\n",
       "    }\n",
       "\n",
       "    .dataframe tbody tr th {\n",
       "        vertical-align: top;\n",
       "    }\n",
       "\n",
       "    .dataframe thead th {\n",
       "        text-align: right;\n",
       "    }\n",
       "</style>\n",
       "<table border=\"1\" class=\"dataframe\">\n",
       "  <thead>\n",
       "    <tr style=\"text-align: right;\">\n",
       "      <th></th>\n",
       "      <th>Kepler</th>\n",
       "      <th>Prot</th>\n",
       "      <th>Teff</th>\n",
       "      <th>e_Prot</th>\n",
       "      <th>e_Teff</th>\n",
       "      <th>tGyro</th>\n",
       "      <th>E_tGyro</th>\n",
       "      <th>e_tGyro</th>\n",
       "      <th>EW</th>\n",
       "      <th>e_EW</th>\n",
       "      <th>tLi</th>\n",
       "      <th>E_tLi</th>\n",
       "      <th>e_tLi</th>\n",
       "    </tr>\n",
       "  </thead>\n",
       "  <tbody>\n",
       "    <tr>\n",
       "      <th>0</th>\n",
       "      <td>Kepler-1627 b</td>\n",
       "      <td>2.62</td>\n",
       "      <td>5357.0</td>\n",
       "      <td>0.026</td>\n",
       "      <td>95.0</td>\n",
       "      <td>81.0</td>\n",
       "      <td>158.0</td>\n",
       "      <td>55.0</td>\n",
       "      <td>225.0</td>\n",
       "      <td>7.0</td>\n",
       "      <td>51.0</td>\n",
       "      <td>38.0</td>\n",
       "      <td>27.0</td>\n",
       "    </tr>\n",
       "    <tr>\n",
       "      <th>1</th>\n",
       "      <td>Kepler-1974 b</td>\n",
       "      <td>2.56</td>\n",
       "      <td>5068.0</td>\n",
       "      <td>0.026</td>\n",
       "      <td>76.0</td>\n",
       "      <td>88.0</td>\n",
       "      <td>183.0</td>\n",
       "      <td>60.0</td>\n",
       "      <td>248.0</td>\n",
       "      <td>4.0</td>\n",
       "      <td>54.0</td>\n",
       "      <td>47.0</td>\n",
       "      <td>25.0</td>\n",
       "    </tr>\n",
       "    <tr>\n",
       "      <th>3</th>\n",
       "      <td>Kepler-1643 b</td>\n",
       "      <td>5.05</td>\n",
       "      <td>4918.0</td>\n",
       "      <td>0.050</td>\n",
       "      <td>83.0</td>\n",
       "      <td>79.0</td>\n",
       "      <td>182.0</td>\n",
       "      <td>54.0</td>\n",
       "      <td>120.0</td>\n",
       "      <td>6.0</td>\n",
       "      <td>191.0</td>\n",
       "      <td>92.0</td>\n",
       "      <td>76.0</td>\n",
       "    </tr>\n",
       "    <tr>\n",
       "      <th>5</th>\n",
       "      <td>Kepler-1529 b</td>\n",
       "      <td>6.43</td>\n",
       "      <td>4974.0</td>\n",
       "      <td>0.060</td>\n",
       "      <td>99.0</td>\n",
       "      <td>109.0</td>\n",
       "      <td>117.0</td>\n",
       "      <td>71.0</td>\n",
       "      <td>200.0</td>\n",
       "      <td>6.0</td>\n",
       "      <td>90.0</td>\n",
       "      <td>53.0</td>\n",
       "      <td>39.0</td>\n",
       "    </tr>\n",
       "    <tr>\n",
       "      <th>8</th>\n",
       "      <td>Kepler-1930 b</td>\n",
       "      <td>7.10</td>\n",
       "      <td>4906.0</td>\n",
       "      <td>0.070</td>\n",
       "      <td>89.0</td>\n",
       "      <td>174.0</td>\n",
       "      <td>106.0</td>\n",
       "      <td>65.0</td>\n",
       "      <td>170.0</td>\n",
       "      <td>4.0</td>\n",
       "      <td>115.0</td>\n",
       "      <td>55.0</td>\n",
       "      <td>49.0</td>\n",
       "    </tr>\n",
       "    <tr>\n",
       "      <th>9</th>\n",
       "      <td>Kepler-1928 b</td>\n",
       "      <td>4.64</td>\n",
       "      <td>5577.0</td>\n",
       "      <td>0.046</td>\n",
       "      <td>86.0</td>\n",
       "      <td>148.0</td>\n",
       "      <td>102.0</td>\n",
       "      <td>87.0</td>\n",
       "      <td>137.0</td>\n",
       "      <td>4.0</td>\n",
       "      <td>189.0</td>\n",
       "      <td>150.0</td>\n",
       "      <td>94.0</td>\n",
       "    </tr>\n",
       "    <tr>\n",
       "      <th>11</th>\n",
       "      <td>Kepler-1313 b</td>\n",
       "      <td>6.13</td>\n",
       "      <td>5236.0</td>\n",
       "      <td>0.060</td>\n",
       "      <td>85.0</td>\n",
       "      <td>197.0</td>\n",
       "      <td>112.0</td>\n",
       "      <td>91.0</td>\n",
       "      <td>142.0</td>\n",
       "      <td>3.0</td>\n",
       "      <td>174.0</td>\n",
       "      <td>96.0</td>\n",
       "      <td>72.0</td>\n",
       "    </tr>\n",
       "    <tr>\n",
       "      <th>12</th>\n",
       "      <td>Kepler-1565 b</td>\n",
       "      <td>7.40</td>\n",
       "      <td>4958.0</td>\n",
       "      <td>0.070</td>\n",
       "      <td>96.0</td>\n",
       "      <td>230.0</td>\n",
       "      <td>111.0</td>\n",
       "      <td>85.0</td>\n",
       "      <td>133.0</td>\n",
       "      <td>7.0</td>\n",
       "      <td>174.0</td>\n",
       "      <td>81.0</td>\n",
       "      <td>72.0</td>\n",
       "    </tr>\n",
       "    <tr>\n",
       "      <th>13</th>\n",
       "      <td>Kepler-1521 b</td>\n",
       "      <td>7.82</td>\n",
       "      <td>4806.0</td>\n",
       "      <td>0.080</td>\n",
       "      <td>80.0</td>\n",
       "      <td>207.0</td>\n",
       "      <td>98.0</td>\n",
       "      <td>68.0</td>\n",
       "      <td>117.0</td>\n",
       "      <td>5.0</td>\n",
       "      <td>176.0</td>\n",
       "      <td>79.0</td>\n",
       "      <td>69.0</td>\n",
       "    </tr>\n",
       "    <tr>\n",
       "      <th>15</th>\n",
       "      <td>Kepler-63 b</td>\n",
       "      <td>5.49</td>\n",
       "      <td>5486.0</td>\n",
       "      <td>0.050</td>\n",
       "      <td>82.0</td>\n",
       "      <td>223.0</td>\n",
       "      <td>98.0</td>\n",
       "      <td>92.0</td>\n",
       "      <td>89.0</td>\n",
       "      <td>4.0</td>\n",
       "      <td>542.0</td>\n",
       "      <td>475.0</td>\n",
       "      <td>256.0</td>\n",
       "    </tr>\n",
       "    <tr>\n",
       "      <th>17</th>\n",
       "      <td>Kepler-1467 b</td>\n",
       "      <td>6.31</td>\n",
       "      <td>5252.0</td>\n",
       "      <td>0.060</td>\n",
       "      <td>100.0</td>\n",
       "      <td>230.0</td>\n",
       "      <td>112.0</td>\n",
       "      <td>98.0</td>\n",
       "      <td>122.0</td>\n",
       "      <td>6.0</td>\n",
       "      <td>236.0</td>\n",
       "      <td>151.0</td>\n",
       "      <td>95.0</td>\n",
       "    </tr>\n",
       "    <tr>\n",
       "      <th>19</th>\n",
       "      <td>Kepler-971 b</td>\n",
       "      <td>6.22</td>\n",
       "      <td>5447.0</td>\n",
       "      <td>0.060</td>\n",
       "      <td>89.0</td>\n",
       "      <td>306.0</td>\n",
       "      <td>95.0</td>\n",
       "      <td>115.0</td>\n",
       "      <td>105.0</td>\n",
       "      <td>6.0</td>\n",
       "      <td>366.0</td>\n",
       "      <td>290.0</td>\n",
       "      <td>164.0</td>\n",
       "    </tr>\n",
       "    <tr>\n",
       "      <th>23</th>\n",
       "      <td>Kepler-1312 b</td>\n",
       "      <td>6.13</td>\n",
       "      <td>5584.0</td>\n",
       "      <td>0.060</td>\n",
       "      <td>87.0</td>\n",
       "      <td>357.0</td>\n",
       "      <td>75.0</td>\n",
       "      <td>109.0</td>\n",
       "      <td>86.0</td>\n",
       "      <td>4.0</td>\n",
       "      <td>642.0</td>\n",
       "      <td>617.0</td>\n",
       "      <td>318.0</td>\n",
       "    </tr>\n",
       "    <tr>\n",
       "      <th>24</th>\n",
       "      <td>Kepler-1312 c</td>\n",
       "      <td>6.13</td>\n",
       "      <td>5584.0</td>\n",
       "      <td>0.060</td>\n",
       "      <td>87.0</td>\n",
       "      <td>357.0</td>\n",
       "      <td>75.0</td>\n",
       "      <td>109.0</td>\n",
       "      <td>86.0</td>\n",
       "      <td>4.0</td>\n",
       "      <td>642.0</td>\n",
       "      <td>617.0</td>\n",
       "      <td>318.0</td>\n",
       "    </tr>\n",
       "    <tr>\n",
       "      <th>28</th>\n",
       "      <td>Kepler-1933 b</td>\n",
       "      <td>6.21</td>\n",
       "      <td>5576.0</td>\n",
       "      <td>0.060</td>\n",
       "      <td>90.0</td>\n",
       "      <td>366.0</td>\n",
       "      <td>74.0</td>\n",
       "      <td>109.0</td>\n",
       "      <td>85.0</td>\n",
       "      <td>3.0</td>\n",
       "      <td>642.0</td>\n",
       "      <td>603.0</td>\n",
       "      <td>318.0</td>\n",
       "    </tr>\n",
       "    <tr>\n",
       "      <th>31</th>\n",
       "      <td>Kepler-1532 b</td>\n",
       "      <td>6.48</td>\n",
       "      <td>5554.0</td>\n",
       "      <td>0.060</td>\n",
       "      <td>97.0</td>\n",
       "      <td>397.0</td>\n",
       "      <td>71.0</td>\n",
       "      <td>102.0</td>\n",
       "      <td>90.0</td>\n",
       "      <td>6.0</td>\n",
       "      <td>567.0</td>\n",
       "      <td>545.0</td>\n",
       "      <td>278.0</td>\n",
       "    </tr>\n",
       "    <tr>\n",
       "      <th>32</th>\n",
       "      <td>Kepler-955 b</td>\n",
       "      <td>7.50</td>\n",
       "      <td>5221.0</td>\n",
       "      <td>0.070</td>\n",
       "      <td>92.0</td>\n",
       "      <td>397.0</td>\n",
       "      <td>99.0</td>\n",
       "      <td>131.0</td>\n",
       "      <td>79.0</td>\n",
       "      <td>4.0</td>\n",
       "      <td>536.0</td>\n",
       "      <td>481.0</td>\n",
       "      <td>237.0</td>\n",
       "    </tr>\n",
       "    <tr>\n",
       "      <th>33</th>\n",
       "      <td>Kepler-447 b</td>\n",
       "      <td>6.40</td>\n",
       "      <td>5648.0</td>\n",
       "      <td>0.060</td>\n",
       "      <td>89.0</td>\n",
       "      <td>420.0</td>\n",
       "      <td>64.0</td>\n",
       "      <td>78.0</td>\n",
       "      <td>103.0</td>\n",
       "      <td>3.0</td>\n",
       "      <td>405.0</td>\n",
       "      <td>355.0</td>\n",
       "      <td>203.0</td>\n",
       "    </tr>\n",
       "    <tr>\n",
       "      <th>44</th>\n",
       "      <td>Kepler-67 b</td>\n",
       "      <td>10.39</td>\n",
       "      <td>5126.0</td>\n",
       "      <td>0.100</td>\n",
       "      <td>98.0</td>\n",
       "      <td>878.0</td>\n",
       "      <td>108.0</td>\n",
       "      <td>121.0</td>\n",
       "      <td>83.0</td>\n",
       "      <td>10.0</td>\n",
       "      <td>458.0</td>\n",
       "      <td>451.0</td>\n",
       "      <td>206.0</td>\n",
       "    </tr>\n",
       "  </tbody>\n",
       "</table>\n",
       "</div>"
      ],
      "text/plain": [
       "           Kepler   Prot    Teff  e_Prot  e_Teff  tGyro  E_tGyro  e_tGyro  \\\n",
       "0   Kepler-1627 b   2.62  5357.0   0.026    95.0   81.0    158.0     55.0   \n",
       "1   Kepler-1974 b   2.56  5068.0   0.026    76.0   88.0    183.0     60.0   \n",
       "3   Kepler-1643 b   5.05  4918.0   0.050    83.0   79.0    182.0     54.0   \n",
       "5   Kepler-1529 b   6.43  4974.0   0.060    99.0  109.0    117.0     71.0   \n",
       "8   Kepler-1930 b   7.10  4906.0   0.070    89.0  174.0    106.0     65.0   \n",
       "9   Kepler-1928 b   4.64  5577.0   0.046    86.0  148.0    102.0     87.0   \n",
       "11  Kepler-1313 b   6.13  5236.0   0.060    85.0  197.0    112.0     91.0   \n",
       "12  Kepler-1565 b   7.40  4958.0   0.070    96.0  230.0    111.0     85.0   \n",
       "13  Kepler-1521 b   7.82  4806.0   0.080    80.0  207.0     98.0     68.0   \n",
       "15    Kepler-63 b   5.49  5486.0   0.050    82.0  223.0     98.0     92.0   \n",
       "17  Kepler-1467 b   6.31  5252.0   0.060   100.0  230.0    112.0     98.0   \n",
       "19   Kepler-971 b   6.22  5447.0   0.060    89.0  306.0     95.0    115.0   \n",
       "23  Kepler-1312 b   6.13  5584.0   0.060    87.0  357.0     75.0    109.0   \n",
       "24  Kepler-1312 c   6.13  5584.0   0.060    87.0  357.0     75.0    109.0   \n",
       "28  Kepler-1933 b   6.21  5576.0   0.060    90.0  366.0     74.0    109.0   \n",
       "31  Kepler-1532 b   6.48  5554.0   0.060    97.0  397.0     71.0    102.0   \n",
       "32   Kepler-955 b   7.50  5221.0   0.070    92.0  397.0     99.0    131.0   \n",
       "33   Kepler-447 b   6.40  5648.0   0.060    89.0  420.0     64.0     78.0   \n",
       "44    Kepler-67 b  10.39  5126.0   0.100    98.0  878.0    108.0    121.0   \n",
       "\n",
       "       EW  e_EW    tLi  E_tLi  e_tLi  \n",
       "0   225.0   7.0   51.0   38.0   27.0  \n",
       "1   248.0   4.0   54.0   47.0   25.0  \n",
       "3   120.0   6.0  191.0   92.0   76.0  \n",
       "5   200.0   6.0   90.0   53.0   39.0  \n",
       "8   170.0   4.0  115.0   55.0   49.0  \n",
       "9   137.0   4.0  189.0  150.0   94.0  \n",
       "11  142.0   3.0  174.0   96.0   72.0  \n",
       "12  133.0   7.0  174.0   81.0   72.0  \n",
       "13  117.0   5.0  176.0   79.0   69.0  \n",
       "15   89.0   4.0  542.0  475.0  256.0  \n",
       "17  122.0   6.0  236.0  151.0   95.0  \n",
       "19  105.0   6.0  366.0  290.0  164.0  \n",
       "23   86.0   4.0  642.0  617.0  318.0  \n",
       "24   86.0   4.0  642.0  617.0  318.0  \n",
       "28   85.0   3.0  642.0  603.0  318.0  \n",
       "31   90.0   6.0  567.0  545.0  278.0  \n",
       "32   79.0   4.0  536.0  481.0  237.0  \n",
       "33  103.0   3.0  405.0  355.0  203.0  \n",
       "44   83.0  10.0  458.0  451.0  206.0  "
      ]
     },
     "execution_count": 34,
     "metadata": {},
     "output_type": "execute_result"
    }
   ],
   "source": [
    "df[idx.all(axis=1)]"
   ]
  },
  {
   "cell_type": "markdown",
   "id": "e377d9f1-7183-4fcc-b95c-f8f1005c7e22",
   "metadata": {
    "tags": []
   },
   "source": [
    "## confirm published ages using gyro-interp"
   ]
  },
  {
   "cell_type": "code",
   "execution_count": null,
   "id": "e6040595-f5fb-4ba2-9ed4-6fd28c437b1c",
   "metadata": {},
   "outputs": [
    {
     "data": {
      "text/plain": [
       "Kepler     Kepler-1627 b\n",
       "Prot                2.62\n",
       "Teff              5357.0\n",
       "e_Prot             0.026\n",
       "e_Teff              95.0\n",
       "tGyro               81.0\n",
       "E_tGyro            158.0\n",
       "e_tGyro             55.0\n",
       "tLi                 51.0\n",
       "E_tLi               38.0\n",
       "e_tLi               27.0\n",
       "Name: 0, dtype: object"
      ]
     },
     "execution_count": 16,
     "metadata": {},
     "output_type": "execute_result"
    }
   ],
   "source": [
    "name = \"Kepler-1627 b\"\n",
    "d = df.query(\"Kepler==@name\").squeeze()\n",
    "d"
   ]
  },
  {
   "cell_type": "code",
   "execution_count": null,
   "id": "ad138111-b1a3-4cc3-a92f-b303680d376a",
   "metadata": {},
   "outputs": [],
   "source": [
    "Prot = d.Prot\n",
    "Teff = d.Teff\n",
    "Prot_err = d.e_Prot\n",
    "Teff_err = d.e_Teff"
   ]
  },
  {
   "cell_type": "code",
   "execution_count": null,
   "id": "f91fdd90-5d55-4885-93d6-023e009015d0",
   "metadata": {},
   "outputs": [
    {
     "name": "stderr",
     "output_type": "stream",
     "text": [
      "[W 250327 15:47:40 gyro_posterior:361] WARNING: imposing period uncertainty floor of 0.03d The purpose of this floor is to prevent N_grid from growing too large.  This is justified because the gyro model has no information content on this scale.\n"
     ]
    },
    {
     "name": "stdout",
     "output_type": "stream",
     "text": [
      "Age = 80.79 +158.8 -55.19 Myr.\n"
     ]
    }
   ],
   "source": [
    "import numpy as np\n",
    "from gyrointerp import gyro_age_posterior\n",
    "from gyrointerp import get_summary_statistics\n",
    "\n",
    "# uniformly spaced grid between 0 and 2600 Myr\n",
    "age_grid = np.linspace(0, 2600, 500)\n",
    "\n",
    "# calculate the age posterior - takes ~30 seconds\n",
    "age_posterior = gyro_age_posterior(Prot, \n",
    "                                   Teff, \n",
    "                                   Prot_err=Prot_err, \n",
    "                                   Teff_err=Teff_err, \n",
    "                                   age_grid=age_grid,\n",
    "                                   #bounds_error='4gyrextrap', #for older star\n",
    ")\n",
    "\n",
    "# calculate dictionary of summary statistics\n",
    "result = get_summary_statistics(age_grid, age_posterior)\n",
    "print(f\"Age = {result['median']} +{result['+1sigma']} -{result['-1sigma']} Myr.\")"
   ]
  },
  {
   "cell_type": "code",
   "execution_count": null,
   "id": "48f23ac1-3809-4251-9d9a-6243af215ae0",
   "metadata": {},
   "outputs": [
    {
     "name": "stdout",
     "output_type": "stream",
     "text": [
      "age of Kepler-1627 b = 81.0 +158.0 -55.0Myr\n"
     ]
    }
   ],
   "source": [
    "#compare with published results\n",
    "print(f\"age of {name} = {d['tGyro']} +{d['E_tGyro']} -{d['e_tGyro']}Myr\")"
   ]
  },
  {
   "cell_type": "markdown",
   "id": "66f39fa6-9457-44c7-a4b4-d8fd5024b1cc",
   "metadata": {},
   "source": [
    "## plot age distribution"
   ]
  },
  {
   "cell_type": "code",
   "execution_count": null,
   "id": "99c123ea-0e68-4d24-b574-d460bbf68455",
   "metadata": {},
   "outputs": [],
   "source": [
    "import matplotlib.pyplot as plt\n",
    "\n",
    "def plot_age_posterior(name, Prot, Teff, age_posterior, age_stat, age_grid):\n",
    "    fig, ax = plt.subplots()\n",
    "    \n",
    "    # add vertical lines\n",
    "    x1 = int(age_stat['-1sigma'])\n",
    "    med = int(age_stat['median'])\n",
    "    x2 = int(age_stat['+1sigma'])\n",
    "    lbl = f\"Age = {med} + {x2} - {x1} Myr\"\n",
    "    \n",
    "    ax.plot(age_grid, 1e3*age_posterior, c='k', lw=1, marker='.',label=lbl)\n",
    "    ax.update({\n",
    "        'xlabel': 'Age [Myr]',\n",
    "        'ylabel': 'Probability ($10^{-3}\\,$Myr$^{-1}$)',\n",
    "        'title': f'{name} (Prot = {Prot}d, Teff = {Teff}K)',\n",
    "        'xlim': [0,1000]\n",
    "    })\n",
    "    \n",
    "    for i,v in zip(['-1sigma','median','+1sigma'],[med-x1,med,med+x2]):\n",
    "        ls = '-' if i=='median' else '--'\n",
    "        ax.axvline(v, ls=ls)\n",
    "    ax.legend()\n",
    "    return fig"
   ]
  },
  {
   "cell_type": "code",
   "execution_count": 21,
   "id": "e3a20f25-632e-4587-a0be-cb191fc74868",
   "metadata": {},
   "outputs": [
    {
     "data": {
      "image/png": "[encoded data removed]",
      "text/plain": [
       "<Figure size 640x480 with 1 Axes>"
      ]
     },
     "metadata": {},
     "output_type": "display_data"
    }
   ],
   "source": [
    "fig = plot_age_posterior(name, Prot, Teff, age_posterior, result, age_grid)\n",
    "\n",
    "fp = name.replace(' ','')+'_age_gyro.png'\n",
    "fig.savefig(fp, bbox_inches='tight')"
   ]
  },
  {
   "cell_type": "markdown",
   "id": "219994ff-2718-49ac-96cb-23612e84c5af",
   "metadata": {},
   "source": [
    "## older age"
   ]
  },
  {
   "cell_type": "code",
   "execution_count": 22,
   "id": "687d5412-e55d-4fd6-922f-337eeccd3317",
   "metadata": {},
   "outputs": [],
   "source": [
    "# units: days\n",
    "name = 'Kepler-447 b'\n",
    "d = df.query(\"Kepler==@name\").squeeze()\n",
    "Prot = d.Prot\n",
    "Teff = d.Teff\n",
    "Prot_err = d.e_Prot\n",
    "Teff_err = d.e_Teff\n",
    "\n",
    "# calculate the age posterior at each age in `age_grid`\n",
    "age_posterior = gyro_age_posterior(\n",
    "    Prot, Teff,\n",
    "    Prot_err=Prot_err, Teff_err=Teff_err,\n",
    "    age_grid=age_grid,\n",
    "    # bounds_error='4gyrextrap', #for older star\n",
    ")"
   ]
  },
  {
   "cell_type": "code",
   "execution_count": 23,
   "id": "ea78cfef-786f-46d7-b489-6939da38d8c1",
   "metadata": {},
   "outputs": [
    {
     "data": {
      "image/png": "[encoded data removed]",
      "text/plain": [
       "<Figure size 640x480 with 1 Axes>"
      ]
     },
     "metadata": {},
     "output_type": "display_data"
    }
   ],
   "source": [
    "result = get_summary_statistics(age_grid, age_posterior)\n",
    "fig = plot_age_posterior(name, Prot, Teff, age_posterior, result, age_grid)"
   ]
  },
  {
   "cell_type": "code",
   "execution_count": 24,
   "id": "28000d71-5965-4200-a8aa-75afd4e17eb7",
   "metadata": {},
   "outputs": [
    {
     "name": "stdout",
     "output_type": "stream",
     "text": [
      "age of Kepler-447 b = 420.0 +64.0 -78.0Myr\n"
     ]
    }
   ],
   "source": [
    "#compare with published results\n",
    "print(f\"age of {name} = {d['tGyro']} +{d['E_tGyro']} -{d['e_tGyro']}Myr\")"
   ]
  },
  {
   "cell_type": "markdown",
   "id": "5436180c-1d96-43e1-b196-4bcf13c50408",
   "metadata": {},
   "source": [
    "ages in Bouma+2024b is confirmed."
   ]
  },
  {
   "cell_type": "markdown",
   "id": "553708b8-b6bf-4fac-aa45-93ac9101a705",
   "metadata": {},
   "source": [
    "## Summary\n",
    "\n",
    "* 100<age<1000 Myr posterior looks Gaussian so the age limits are more reliable."
   ]
  },
  {
   "cell_type": "code",
   "execution_count": null,
   "id": "0088c2ab-c2b6-4533-b5c2-95bcba81fc46",
   "metadata": {},
   "outputs": [],
   "source": []
  }
 ],
 "metadata": {
  "kernelspec": {
   "display_name": "gyrointerp",
   "language": "python",
   "name": "gyrointerp"
  },
  "language_info": {
   "codemirror_mode": {
    "name": "ipython",
    "version": 3
   },
   "file_extension": ".py",
   "mimetype": "text/x-python",
   "name": "python",
   "nbconvert_exporter": "python",
   "pygments_lexer": "ipython3",
   "version": "3.10.14"
  }
 },
 "nbformat": 4,
 "nbformat_minor": 5
}
