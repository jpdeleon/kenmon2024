{
 "cells": [
  {
   "cell_type": "markdown",
   "id": "d560b0b5-32a2-4c33-9ef2-25de0688a014",
   "metadata": {},
   "source": [
    "# gyro-interp using nexsci data with single age reference\n",
    "\n",
    "See `code_gyrointerp_nexsci.ipynb` for nexsci table with multiple age references."
   ]
  },
  {
   "cell_type": "code",
   "execution_count": 1,
   "id": "1fc93c31-015e-4d29-99eb-b23959f5dc63",
   "metadata": {},
   "outputs": [],
   "source": [
    "import sys\n",
    "\n",
    "# make sure you are using `gyrointerp` environment\n",
    "assert sys.executable.split('/')[5]=='gyrointerp'"
   ]
  },
  {
   "cell_type": "code",
   "execution_count": 2,
   "id": "c36c769c-af1d-492a-b6d0-142bc7de07fb",
   "metadata": {},
   "outputs": [],
   "source": [
    "# Inside this jupyter lab, do not use `pip install xxx`, instead use:\n",
    "# import sys\n",
    "# !{sys.executable} -m pip install xxx"
   ]
  },
  {
   "cell_type": "code",
   "execution_count": 3,
   "id": "0ca21867-530c-4af2-8371-ab3bba8e4980",
   "metadata": {},
   "outputs": [
    {
     "name": "stdout",
     "output_type": "stream",
     "text": [
      "Name: gyrointerp\n",
      "Version: 0.5\n",
      "Summary: Gyrochronology via interpolation of open cluster rotation sequences.\n",
      "Home-page: https://github.com/lgbouma/gyro-interp\n",
      "Author: Luke Bouma\n",
      "Author-email: bouma.luke@gmail.com\n",
      "License: MIT\n",
      "Location: /mnt_ut3/raid_ut3/home/jerome/github/research/project/ext_tools/gyro-interp\n",
      "Editable project location: /mnt_ut3/raid_ut3/home/jerome/github/research/project/ext_tools/gyro-interp\n",
      "Requires: astropy, matplotlib, numpy, pandas, scipy\n",
      "Required-by: \n"
     ]
    }
   ],
   "source": [
    "# check if package is installed\n",
    "!{sys.executable} -m pip show gyrointerp"
   ]
  },
  {
   "cell_type": "code",
   "execution_count": 4,
   "id": "f9ad1d39-b9a2-4997-bdab-f424eaa408d3",
   "metadata": {},
   "outputs": [],
   "source": [
    "# import custom code from the `code` directory\n",
    "import sys\n",
    "sys.path.insert(0, '../code')"
   ]
  },
  {
   "cell_type": "markdown",
   "id": "cfd4e13c-3061-4f93-a931-5deecc0dfbf5",
   "metadata": {},
   "source": [
    "## load nexsci data"
   ]
  },
  {
   "cell_type": "code",
   "execution_count": 5,
   "id": "fd5f388f-1ac0-4eeb-a2d2-6f1c498f5e4a",
   "metadata": {},
   "outputs": [
    {
     "name": "stdout",
     "output_type": "stream",
     "text": [
      "Column definitions:  https://exoplanetarchive.ipac.caltech.edu/docs/API_PS_columns.html\n",
      "Loaded:  ../data/nexsci_pscomppars.csv\n"
     ]
    },
    {
     "data": {
      "text/html": [
       "<div>\n",
       "<style scoped>\n",
       "    .dataframe tbody tr th:only-of-type {\n",
       "        vertical-align: middle;\n",
       "    }\n",
       "\n",
       "    .dataframe tbody tr th {\n",
       "        vertical-align: top;\n",
       "    }\n",
       "\n",
       "    .dataframe thead th {\n",
       "        text-align: right;\n",
       "    }\n",
       "</style>\n",
       "<table border=\"1\" class=\"dataframe\">\n",
       "  <thead>\n",
       "    <tr style=\"text-align: right;\">\n",
       "      <th></th>\n",
       "      <th>objectid</th>\n",
       "      <th>pl_name</th>\n",
       "      <th>pl_letter</th>\n",
       "      <th>hostid</th>\n",
       "      <th>hostname</th>\n",
       "      <th>hd_name</th>\n",
       "      <th>hip_name</th>\n",
       "      <th>tic_id</th>\n",
       "      <th>disc_pubdate</th>\n",
       "      <th>disc_year</th>\n",
       "      <th>...</th>\n",
       "      <th>pl_angseperr1</th>\n",
       "      <th>pl_angseperr2</th>\n",
       "      <th>pl_angseplim</th>\n",
       "      <th>pl_angsepformat</th>\n",
       "      <th>pl_angsepstr</th>\n",
       "      <th>pl_angsepsymerr</th>\n",
       "      <th>pl_angsep_reflink</th>\n",
       "      <th>pl_ndispec</th>\n",
       "      <th>sky_coord.ra</th>\n",
       "      <th>sky_coord.dec</th>\n",
       "    </tr>\n",
       "  </thead>\n",
       "  <tbody>\n",
       "    <tr>\n",
       "      <th>0</th>\n",
       "      <td>3.34990</td>\n",
       "      <td>Kepler-24 e</td>\n",
       "      <td>e</td>\n",
       "      <td>2.424906</td>\n",
       "      <td>Kepler-24</td>\n",
       "      <td>NaN</td>\n",
       "      <td>NaN</td>\n",
       "      <td>TIC 122376177</td>\n",
       "      <td>2014-03</td>\n",
       "      <td>2014</td>\n",
       "      <td>...</td>\n",
       "      <td>NaN</td>\n",
       "      <td>NaN</td>\n",
       "      <td>0.0</td>\n",
       "      <td>NaN</td>\n",
       "      <td>0.1190</td>\n",
       "      <td>NaN</td>\n",
       "      <td>&lt;a refstr=CALCULATED_VALUE href=/docs/pscp_cal...</td>\n",
       "      <td>0</td>\n",
       "      <td>290.413262</td>\n",
       "      <td>38.343728</td>\n",
       "    </tr>\n",
       "    <tr>\n",
       "      <th>1</th>\n",
       "      <td>3.24410</td>\n",
       "      <td>Kepler-1065 b</td>\n",
       "      <td>b</td>\n",
       "      <td>2.430631</td>\n",
       "      <td>Kepler-1065</td>\n",
       "      <td>NaN</td>\n",
       "      <td>NaN</td>\n",
       "      <td>TIC 378012771</td>\n",
       "      <td>2016-05</td>\n",
       "      <td>2016</td>\n",
       "      <td>...</td>\n",
       "      <td>NaN</td>\n",
       "      <td>NaN</td>\n",
       "      <td>0.0</td>\n",
       "      <td>NaN</td>\n",
       "      <td>0.0405</td>\n",
       "      <td>NaN</td>\n",
       "      <td>&lt;a refstr=CALCULATED_VALUE href=/docs/pscp_cal...</td>\n",
       "      <td>0</td>\n",
       "      <td>294.511319</td>\n",
       "      <td>38.790465</td>\n",
       "    </tr>\n",
       "    <tr>\n",
       "      <th>2</th>\n",
       "      <td>3.12740</td>\n",
       "      <td>TOI-1260 c</td>\n",
       "      <td>c</td>\n",
       "      <td>2.572931</td>\n",
       "      <td>TOI-1260</td>\n",
       "      <td>NaN</td>\n",
       "      <td>NaN</td>\n",
       "      <td>TIC 355867695</td>\n",
       "      <td>2021-08</td>\n",
       "      <td>2021</td>\n",
       "      <td>...</td>\n",
       "      <td>NaN</td>\n",
       "      <td>NaN</td>\n",
       "      <td>0.0</td>\n",
       "      <td>NaN</td>\n",
       "      <td>0.8930</td>\n",
       "      <td>NaN</td>\n",
       "      <td>&lt;a refstr=CALCULATED_VALUE href=/docs/pscp_cal...</td>\n",
       "      <td>0</td>\n",
       "      <td>157.144071</td>\n",
       "      <td>65.854199</td>\n",
       "    </tr>\n",
       "    <tr>\n",
       "      <th>3</th>\n",
       "      <td>3.13149</td>\n",
       "      <td>HD 28109 c</td>\n",
       "      <td>c</td>\n",
       "      <td>2.573080</td>\n",
       "      <td>HD 28109</td>\n",
       "      <td>HD 28109</td>\n",
       "      <td>NaN</td>\n",
       "      <td>TIC 29781292</td>\n",
       "      <td>2022-05</td>\n",
       "      <td>2022</td>\n",
       "      <td>...</td>\n",
       "      <td>NaN</td>\n",
       "      <td>NaN</td>\n",
       "      <td>0.0</td>\n",
       "      <td>NaN</td>\n",
       "      <td>2.2100</td>\n",
       "      <td>NaN</td>\n",
       "      <td>&lt;a refstr=CALCULATED_VALUE href=/docs/pscp_cal...</td>\n",
       "      <td>0</td>\n",
       "      <td>65.238306</td>\n",
       "      <td>-68.102688</td>\n",
       "    </tr>\n",
       "    <tr>\n",
       "      <th>4</th>\n",
       "      <td>3.12788</td>\n",
       "      <td>K2-350 b</td>\n",
       "      <td>b</td>\n",
       "      <td>2.208571</td>\n",
       "      <td>K2-350</td>\n",
       "      <td>NaN</td>\n",
       "      <td>NaN</td>\n",
       "      <td>TIC 294319820</td>\n",
       "      <td>2021-08</td>\n",
       "      <td>2021</td>\n",
       "      <td>...</td>\n",
       "      <td>NaN</td>\n",
       "      <td>NaN</td>\n",
       "      <td>NaN</td>\n",
       "      <td>NaN</td>\n",
       "      <td>NaN</td>\n",
       "      <td>NaN</td>\n",
       "      <td>NaN</td>\n",
       "      <td>0</td>\n",
       "      <td>204.035509</td>\n",
       "      <td>-14.009252</td>\n",
       "    </tr>\n",
       "    <tr>\n",
       "      <th>...</th>\n",
       "      <td>...</td>\n",
       "      <td>...</td>\n",
       "      <td>...</td>\n",
       "      <td>...</td>\n",
       "      <td>...</td>\n",
       "      <td>...</td>\n",
       "      <td>...</td>\n",
       "      <td>...</td>\n",
       "      <td>...</td>\n",
       "      <td>...</td>\n",
       "      <td>...</td>\n",
       "      <td>...</td>\n",
       "      <td>...</td>\n",
       "      <td>...</td>\n",
       "      <td>...</td>\n",
       "      <td>...</td>\n",
       "      <td>...</td>\n",
       "      <td>...</td>\n",
       "      <td>...</td>\n",
       "      <td>...</td>\n",
       "      <td>...</td>\n",
       "    </tr>\n",
       "    <tr>\n",
       "      <th>4355</th>\n",
       "      <td>3.11878</td>\n",
       "      <td>TRAPPIST-1 d</td>\n",
       "      <td>d</td>\n",
       "      <td>2.103803</td>\n",
       "      <td>TRAPPIST-1</td>\n",
       "      <td>NaN</td>\n",
       "      <td>NaN</td>\n",
       "      <td>TIC 278892590</td>\n",
       "      <td>2016-05</td>\n",
       "      <td>2016</td>\n",
       "      <td>...</td>\n",
       "      <td>NaN</td>\n",
       "      <td>NaN</td>\n",
       "      <td>0.0</td>\n",
       "      <td>NaN</td>\n",
       "      <td>1.7900</td>\n",
       "      <td>NaN</td>\n",
       "      <td>&lt;a refstr=CALCULATED_VALUE href=/docs/pscp_cal...</td>\n",
       "      <td>0</td>\n",
       "      <td>346.626392</td>\n",
       "      <td>-5.043462</td>\n",
       "    </tr>\n",
       "    <tr>\n",
       "      <th>4356</th>\n",
       "      <td>3.10200</td>\n",
       "      <td>EPIC 201595106 b</td>\n",
       "      <td>b</td>\n",
       "      <td>2.797590</td>\n",
       "      <td>EPIC 201595106</td>\n",
       "      <td>NaN</td>\n",
       "      <td>NaN</td>\n",
       "      <td>TIC 397052808</td>\n",
       "      <td>2021-08</td>\n",
       "      <td>2021</td>\n",
       "      <td>...</td>\n",
       "      <td>NaN</td>\n",
       "      <td>NaN</td>\n",
       "      <td>0.0</td>\n",
       "      <td>NaN</td>\n",
       "      <td>0.0763</td>\n",
       "      <td>NaN</td>\n",
       "      <td>&lt;a refstr=CALCULATED_VALUE href=/docs/pscp_cal...</td>\n",
       "      <td>0</td>\n",
       "      <td>183.720363</td>\n",
       "      <td>1.968169</td>\n",
       "    </tr>\n",
       "    <tr>\n",
       "      <th>4357</th>\n",
       "      <td>3.19930</td>\n",
       "      <td>Kepler-974 b</td>\n",
       "      <td>b</td>\n",
       "      <td>2.452484</td>\n",
       "      <td>Kepler-974</td>\n",
       "      <td>NaN</td>\n",
       "      <td>NaN</td>\n",
       "      <td>TIC 120418600</td>\n",
       "      <td>2016-05</td>\n",
       "      <td>2016</td>\n",
       "      <td>...</td>\n",
       "      <td>NaN</td>\n",
       "      <td>NaN</td>\n",
       "      <td>0.0</td>\n",
       "      <td>NaN</td>\n",
       "      <td>0.3120</td>\n",
       "      <td>NaN</td>\n",
       "      <td>&lt;a refstr=CALCULATED_VALUE href=/docs/pscp_cal...</td>\n",
       "      <td>0</td>\n",
       "      <td>285.013108</td>\n",
       "      <td>40.220955</td>\n",
       "    </tr>\n",
       "    <tr>\n",
       "      <th>4358</th>\n",
       "      <td>3.20123</td>\n",
       "      <td>KOI-1843.03</td>\n",
       "      <td>c</td>\n",
       "      <td>2.452484</td>\n",
       "      <td>Kepler-974</td>\n",
       "      <td>NaN</td>\n",
       "      <td>NaN</td>\n",
       "      <td>TIC 120418600</td>\n",
       "      <td>2013-08</td>\n",
       "      <td>2013</td>\n",
       "      <td>...</td>\n",
       "      <td>NaN</td>\n",
       "      <td>NaN</td>\n",
       "      <td>0.0</td>\n",
       "      <td>NaN</td>\n",
       "      <td>0.0372</td>\n",
       "      <td>NaN</td>\n",
       "      <td>&lt;a refstr=CALCULATED_VALUE href=/docs/pscp_cal...</td>\n",
       "      <td>0</td>\n",
       "      <td>285.013108</td>\n",
       "      <td>40.220955</td>\n",
       "    </tr>\n",
       "    <tr>\n",
       "      <th>4359</th>\n",
       "      <td>3.20125</td>\n",
       "      <td>TOI-2443 b</td>\n",
       "      <td>b</td>\n",
       "      <td>2.544410</td>\n",
       "      <td>TOI-2443</td>\n",
       "      <td>NaN</td>\n",
       "      <td>HIP 12493</td>\n",
       "      <td>TIC 318753380</td>\n",
       "      <td>2023-01</td>\n",
       "      <td>2023</td>\n",
       "      <td>...</td>\n",
       "      <td>NaN</td>\n",
       "      <td>NaN</td>\n",
       "      <td>0.0</td>\n",
       "      <td>NaN</td>\n",
       "      <td>4.3900</td>\n",
       "      <td>NaN</td>\n",
       "      <td>&lt;a refstr=CALCULATED_VALUE href=/docs/pscp_cal...</td>\n",
       "      <td>0</td>\n",
       "      <td>40.179861</td>\n",
       "      <td>1.199676</td>\n",
       "    </tr>\n",
       "  </tbody>\n",
       "</table>\n",
       "<p>4360 rows × 684 columns</p>\n",
       "</div>"
      ],
      "text/plain": [
       "      objectid           pl_name pl_letter    hostid        hostname  \\\n",
       "0      3.34990       Kepler-24 e         e  2.424906       Kepler-24   \n",
       "1      3.24410     Kepler-1065 b         b  2.430631     Kepler-1065   \n",
       "2      3.12740        TOI-1260 c         c  2.572931        TOI-1260   \n",
       "3      3.13149        HD 28109 c         c  2.573080        HD 28109   \n",
       "4      3.12788          K2-350 b         b  2.208571          K2-350   \n",
       "...        ...               ...       ...       ...             ...   \n",
       "4355   3.11878      TRAPPIST-1 d         d  2.103803      TRAPPIST-1   \n",
       "4356   3.10200  EPIC 201595106 b         b  2.797590  EPIC 201595106   \n",
       "4357   3.19930      Kepler-974 b         b  2.452484      Kepler-974   \n",
       "4358   3.20123       KOI-1843.03         c  2.452484      Kepler-974   \n",
       "4359   3.20125        TOI-2443 b         b  2.544410        TOI-2443   \n",
       "\n",
       "       hd_name   hip_name         tic_id disc_pubdate  disc_year  ...  \\\n",
       "0          NaN        NaN  TIC 122376177      2014-03       2014  ...   \n",
       "1          NaN        NaN  TIC 378012771      2016-05       2016  ...   \n",
       "2          NaN        NaN  TIC 355867695      2021-08       2021  ...   \n",
       "3     HD 28109        NaN   TIC 29781292      2022-05       2022  ...   \n",
       "4          NaN        NaN  TIC 294319820      2021-08       2021  ...   \n",
       "...        ...        ...            ...          ...        ...  ...   \n",
       "4355       NaN        NaN  TIC 278892590      2016-05       2016  ...   \n",
       "4356       NaN        NaN  TIC 397052808      2021-08       2021  ...   \n",
       "4357       NaN        NaN  TIC 120418600      2016-05       2016  ...   \n",
       "4358       NaN        NaN  TIC 120418600      2013-08       2013  ...   \n",
       "4359       NaN  HIP 12493  TIC 318753380      2023-01       2023  ...   \n",
       "\n",
       "     pl_angseperr1 pl_angseperr2 pl_angseplim pl_angsepformat pl_angsepstr  \\\n",
       "0              NaN           NaN          0.0             NaN       0.1190   \n",
       "1              NaN           NaN          0.0             NaN       0.0405   \n",
       "2              NaN           NaN          0.0             NaN       0.8930   \n",
       "3              NaN           NaN          0.0             NaN       2.2100   \n",
       "4              NaN           NaN          NaN             NaN          NaN   \n",
       "...            ...           ...          ...             ...          ...   \n",
       "4355           NaN           NaN          0.0             NaN       1.7900   \n",
       "4356           NaN           NaN          0.0             NaN       0.0763   \n",
       "4357           NaN           NaN          0.0             NaN       0.3120   \n",
       "4358           NaN           NaN          0.0             NaN       0.0372   \n",
       "4359           NaN           NaN          0.0             NaN       4.3900   \n",
       "\n",
       "     pl_angsepsymerr                                  pl_angsep_reflink  \\\n",
       "0                NaN  <a refstr=CALCULATED_VALUE href=/docs/pscp_cal...   \n",
       "1                NaN  <a refstr=CALCULATED_VALUE href=/docs/pscp_cal...   \n",
       "2                NaN  <a refstr=CALCULATED_VALUE href=/docs/pscp_cal...   \n",
       "3                NaN  <a refstr=CALCULATED_VALUE href=/docs/pscp_cal...   \n",
       "4                NaN                                                NaN   \n",
       "...              ...                                                ...   \n",
       "4355             NaN  <a refstr=CALCULATED_VALUE href=/docs/pscp_cal...   \n",
       "4356             NaN  <a refstr=CALCULATED_VALUE href=/docs/pscp_cal...   \n",
       "4357             NaN  <a refstr=CALCULATED_VALUE href=/docs/pscp_cal...   \n",
       "4358             NaN  <a refstr=CALCULATED_VALUE href=/docs/pscp_cal...   \n",
       "4359             NaN  <a refstr=CALCULATED_VALUE href=/docs/pscp_cal...   \n",
       "\n",
       "      pl_ndispec  sky_coord.ra  sky_coord.dec  \n",
       "0              0    290.413262      38.343728  \n",
       "1              0    294.511319      38.790465  \n",
       "2              0    157.144071      65.854199  \n",
       "3              0     65.238306     -68.102688  \n",
       "4              0    204.035509     -14.009252  \n",
       "...          ...           ...            ...  \n",
       "4355           0    346.626392      -5.043462  \n",
       "4356           0    183.720363       1.968169  \n",
       "4357           0    285.013108      40.220955  \n",
       "4358           0    285.013108      40.220955  \n",
       "4359           0     40.179861       1.199676  \n",
       "\n",
       "[4360 rows x 684 columns]"
      ]
     },
     "execution_count": 5,
     "metadata": {},
     "output_type": "execute_result"
    }
   ],
   "source": [
    "from kenmon import get_nexsci_data\n",
    "import numpy as np\n",
    "\n",
    "# set clobber=True to update data (takes > 5 mins)\n",
    "df = get_nexsci_data(table_name='pscomppars', clobber=False)\n",
    "df"
   ]
  },
  {
   "cell_type": "code",
   "execution_count": 6,
   "id": "29d3b729-39b0-443d-9e71-8d5e6ec1ebf7",
   "metadata": {},
   "outputs": [
    {
     "data": {
      "text/plain": [
       "(3305,)"
      ]
     },
     "execution_count": 6,
     "metadata": {},
     "output_type": "execute_result"
    }
   ],
   "source": [
    "df.hostname.unique().shape"
   ]
  },
  {
   "cell_type": "code",
   "execution_count": 7,
   "id": "f1ab46bc-5aff-4dbf-aa19-a56b37f28453",
   "metadata": {},
   "outputs": [
    {
     "data": {
      "text/html": [
       "<div>\n",
       "<style scoped>\n",
       "    .dataframe tbody tr th:only-of-type {\n",
       "        vertical-align: middle;\n",
       "    }\n",
       "\n",
       "    .dataframe tbody tr th {\n",
       "        vertical-align: top;\n",
       "    }\n",
       "\n",
       "    .dataframe thead th {\n",
       "        text-align: right;\n",
       "    }\n",
       "</style>\n",
       "<table border=\"1\" class=\"dataframe\">\n",
       "  <thead>\n",
       "    <tr style=\"text-align: right;\">\n",
       "      <th></th>\n",
       "      <th>st_rotp</th>\n",
       "      <th>st_teff</th>\n",
       "    </tr>\n",
       "  </thead>\n",
       "  <tbody>\n",
       "    <tr>\n",
       "      <th>341</th>\n",
       "      <td>2.91</td>\n",
       "      <td>4941.0</td>\n",
       "    </tr>\n",
       "    <tr>\n",
       "      <th>771</th>\n",
       "      <td>2.91</td>\n",
       "      <td>4941.0</td>\n",
       "    </tr>\n",
       "    <tr>\n",
       "      <th>897</th>\n",
       "      <td>2.91</td>\n",
       "      <td>4941.0</td>\n",
       "    </tr>\n",
       "    <tr>\n",
       "      <th>2414</th>\n",
       "      <td>2.91</td>\n",
       "      <td>4941.0</td>\n",
       "    </tr>\n",
       "  </tbody>\n",
       "</table>\n",
       "</div>"
      ],
      "text/plain": [
       "      st_rotp  st_teff\n",
       "341      2.91   4941.0\n",
       "771      2.91   4941.0\n",
       "897      2.91   4941.0\n",
       "2414     2.91   4941.0"
      ]
     },
     "execution_count": 7,
     "metadata": {},
     "output_type": "execute_result"
    }
   ],
   "source": [
    "name='V1298 Tau'\n",
    "df.query(\"hostname==@name\")[['st_rotp','st_teff']]"
   ]
  },
  {
   "cell_type": "code",
   "execution_count": 8,
   "id": "fb86d2dd-c4bd-42d1-9553-c014758349d4",
   "metadata": {},
   "outputs": [
    {
     "data": {
      "text/plain": [
       "(3305, 684)"
      ]
     },
     "execution_count": 8,
     "metadata": {},
     "output_type": "execute_result"
    }
   ],
   "source": [
    "# keep 1 planet row per hoststar\n",
    "df = df.drop_duplicates(subset='hostname', keep='first')\n",
    "df.shape"
   ]
  },
  {
   "cell_type": "code",
   "execution_count": 9,
   "id": "7d0b1b4b-30aa-48dc-970f-d820d54d663f",
   "metadata": {},
   "outputs": [
    {
     "data": {
      "text/plain": [
       "(320,)"
      ]
     },
     "execution_count": 9,
     "metadata": {},
     "output_type": "execute_result"
    }
   ],
   "source": [
    "# how many stars have st_rotp?\n",
    "df['st_rotp'].dropna().shape"
   ]
  },
  {
   "cell_type": "code",
   "execution_count": 10,
   "id": "89cf7c91-fb7b-479c-b259-7c3e7099274e",
   "metadata": {},
   "outputs": [
    {
     "data": {
      "text/plain": [
       "(3303,)"
      ]
     },
     "execution_count": 10,
     "metadata": {},
     "output_type": "execute_result"
    }
   ],
   "source": [
    "# how many stars have st_teff?\n",
    "df['st_teff'].dropna().shape"
   ]
  },
  {
   "cell_type": "code",
   "execution_count": 11,
   "id": "ceb8560c-d647-47a8-99dc-f8da671a876c",
   "metadata": {},
   "outputs": [
    {
     "data": {
      "text/plain": [
       "(292, 7)"
      ]
     },
     "execution_count": 11,
     "metadata": {},
     "output_type": "execute_result"
    }
   ],
   "source": [
    "cols = ['hostname', \n",
    "        'st_teff','st_tefferr1','st_tefferr2',\n",
    "        'st_rotp','st_rotperr1','st_rotperr2', #there are many references without rotperr\n",
    "        # 'st_teff_reflink', 'st_rotp_reflink'\n",
    "       ]\n",
    "df = df[cols].dropna()\n",
    "df.shape"
   ]
  },
  {
   "cell_type": "code",
   "execution_count": 12,
   "id": "4b850be2-6cd7-4ec1-a1e2-6a4d9453c475",
   "metadata": {},
   "outputs": [
    {
     "data": {
      "text/plain": [
       "np.float64(10.118)"
      ]
     },
     "execution_count": 12,
     "metadata": {},
     "output_type": "execute_result"
    }
   ],
   "source": [
    "# check if rotperr are symmetric\n",
    "df[['st_rotperr1','st_rotperr2']].sum(axis=1).sum()"
   ]
  },
  {
   "cell_type": "code",
   "execution_count": 13,
   "id": "533b8d24-a8dc-4ef7-93b5-f459fbb9c039",
   "metadata": {},
   "outputs": [
    {
     "data": {
      "text/plain": [
       "np.float64(10.118)"
      ]
     },
     "execution_count": 13,
     "metadata": {},
     "output_type": "execute_result"
    }
   ],
   "source": [
    "df.apply(lambda x: x.st_rotperr1+x.st_rotperr2, axis=1).sum()"
   ]
  },
  {
   "cell_type": "code",
   "execution_count": 14,
   "id": "e660a4ff-3612-4a84-8314-d929c6d1ca00",
   "metadata": {},
   "outputs": [
    {
     "data": {
      "text/plain": [
       "(254,)"
      ]
     },
     "execution_count": 14,
     "metadata": {},
     "output_type": "execute_result"
    }
   ],
   "source": [
    "# symmetric rotperr\n",
    "df.apply(lambda x: x.st_rotperr1 if (x.st_rotperr1+x.st_rotperr2) == 0 else np.nan, axis=1).dropna().shape"
   ]
  },
  {
   "cell_type": "code",
   "execution_count": 15,
   "id": "48d9507e-26a9-4380-a758-795cef824fdb",
   "metadata": {},
   "outputs": [
    {
     "data": {
      "text/plain": [
       "(264,)"
      ]
     },
     "execution_count": 15,
     "metadata": {},
     "output_type": "execute_result"
    }
   ],
   "source": [
    "import numpy as np\n",
    "\n",
    "# consistent rotperr within some rtol\n",
    "df.apply(lambda x: x.st_rotperr1 if np.isclose(x.st_rotperr1, abs(x.st_rotperr2), rtol=0.1) > 0 else np.nan, axis=1).dropna().shape"
   ]
  },
  {
   "cell_type": "code",
   "execution_count": 16,
   "id": "35b6adaf-530e-43db-9470-913340ff5f3c",
   "metadata": {},
   "outputs": [],
   "source": [
    "#ADOPTED: compute quadrature sum if err1 and err2 is asymmetric\n",
    "df['st_rotperr'] = df.apply(lambda x: x.st_rotperr1 \n",
    "                            if x.st_rotperr1+x.st_rotperr2==0 \n",
    "                            else np.sqrt(x.st_rotperr1**2 + x.st_rotperr2**2), \n",
    "                            axis=1)"
   ]
  },
  {
   "cell_type": "code",
   "execution_count": 17,
   "id": "1667357f-81aa-4205-9cac-f4c3a721ffb6",
   "metadata": {},
   "outputs": [
    {
     "data": {
      "text/plain": [
       "Text(0.5, 0, 'Rotation period err [d]')"
      ]
     },
     "execution_count": 17,
     "metadata": {},
     "output_type": "execute_result"
    },
    {
     "data": {
      "image/png": "[encoded data removed]",
      "text/plain": [
       "<Figure size 640x480 with 1 Axes>"
      ]
     },
     "metadata": {},
     "output_type": "display_data"
    }
   ],
   "source": [
    "import matplotlib.pyplot as pl\n",
    "\n",
    "# compare \n",
    "pl.hist(df.st_rotperr1, label='upper err', histtype='step', lw=3);\n",
    "pl.hist(df.st_rotperr2.abs(), label='lower err', histtype='step', lw=3);\n",
    "pl.hist(df.st_rotperr, zorder=3, label='quad', histtype='step', lw=3);\n",
    "pl.title('Effect of quad_err=$\\sqrt{err_1^2 + err_2^2}$')\n",
    "pl.legend()\n",
    "pl.xlabel('Rotation period err [d]')"
   ]
  },
  {
   "cell_type": "code",
   "execution_count": 18,
   "id": "87e36b5d-b850-4a4e-83d4-b9cad69b23b6",
   "metadata": {},
   "outputs": [
    {
     "data": {
      "text/plain": [
       "np.float64(0.0)"
      ]
     },
     "execution_count": 18,
     "metadata": {},
     "output_type": "execute_result"
    }
   ],
   "source": [
    "# how much increase in err?\n",
    "np.nanmedian(df.st_rotperr/df.st_rotperr1)-1"
   ]
  },
  {
   "cell_type": "code",
   "execution_count": 19,
   "id": "ab08c9ee-de8e-4990-810f-eb06f83a2859",
   "metadata": {},
   "outputs": [
    {
     "data": {
      "text/plain": [
       "(234,)"
      ]
     },
     "execution_count": 19,
     "metadata": {},
     "output_type": "execute_result"
    }
   ],
   "source": [
    "# symmetric tefferr\n",
    "df.apply(lambda x: x.st_tefferr1 if (x.st_tefferr1+x.st_tefferr2) == 0 else np.nan, axis=1).dropna().shape"
   ]
  },
  {
   "cell_type": "code",
   "execution_count": 20,
   "id": "8274ec19-6f4d-4d94-a47a-6f7ddf31d229",
   "metadata": {},
   "outputs": [
    {
     "data": {
      "text/plain": [
       "(267,)"
      ]
     },
     "execution_count": 20,
     "metadata": {},
     "output_type": "execute_result"
    }
   ],
   "source": [
    "# consistent rotperr within some rtol\n",
    "df.apply(lambda x: x.st_tefferr1 if np.isclose(x.st_tefferr1, abs(x.st_tefferr2), rtol=0.1) > 0 else np.nan, axis=1).dropna().shape"
   ]
  },
  {
   "cell_type": "code",
   "execution_count": 21,
   "id": "f88e508a-a95b-4316-a7dc-695fadb5e5f2",
   "metadata": {},
   "outputs": [],
   "source": [
    "#ADOPTED: compute quadrature sum if err1 and err2 is asymmetric\n",
    "df['st_tefferr'] = df.apply(lambda x: x.st_tefferr1 \n",
    "                            if x.st_tefferr1+x.st_tefferr2==0 \n",
    "                            else np.sqrt(x.st_tefferr1**2 + x.st_tefferr2**2), \n",
    "                            axis=1)"
   ]
  },
  {
   "cell_type": "code",
   "execution_count": 22,
   "id": "3177f06e-5ad8-4d4d-ab81-114f1f3fb121",
   "metadata": {},
   "outputs": [
    {
     "data": {
      "text/plain": [
       "Text(0.5, 0, 'Teff err [K]')"
      ]
     },
     "execution_count": 22,
     "metadata": {},
     "output_type": "execute_result"
    },
    {
     "data": {
      "image/png": "[encoded data removed]",
      "text/plain": [
       "<Figure size 640x480 with 1 Axes>"
      ]
     },
     "metadata": {},
     "output_type": "display_data"
    }
   ],
   "source": [
    "import matplotlib.pyplot as pl\n",
    "\n",
    "# compare \n",
    "pl.hist(df.st_tefferr1, label='upper err', histtype='step', lw=3);\n",
    "pl.hist(df.st_tefferr2.abs(), label='lower err', histtype='step', lw=3);\n",
    "pl.hist(df.st_tefferr, zorder=3, label='quad', histtype='step', lw=3);\n",
    "pl.title('Effect of quad_err=$\\sqrt{err_1^2 + err_2^2}$')\n",
    "pl.legend()\n",
    "pl.xlabel('Teff err [K]')"
   ]
  },
  {
   "cell_type": "code",
   "execution_count": 23,
   "id": "30b410e5-9558-462d-bcb6-7ecde3b50052",
   "metadata": {},
   "outputs": [
    {
     "data": {
      "text/plain": [
       "np.float64(0.0)"
      ]
     },
     "execution_count": 23,
     "metadata": {},
     "output_type": "execute_result"
    }
   ],
   "source": [
    "np.median(df.st_tefferr/df.st_tefferr1)-1"
   ]
  },
  {
   "cell_type": "markdown",
   "id": "758c3b75-0e5d-4074-9af9-6a55c46621a6",
   "metadata": {},
   "source": [
    "## compare tables"
   ]
  },
  {
   "cell_type": "markdown",
   "id": "f83601b9-4b0b-4cfe-98c3-68f4ba8817d0",
   "metadata": {},
   "source": [
    "This data was created in `code_gyrointerp_nexsci.ipynb`."
   ]
  },
  {
   "cell_type": "code",
   "execution_count": 24,
   "id": "ae793794-e9b7-41f7-a932-a7531f41ba69",
   "metadata": {},
   "outputs": [
    {
     "data": {
      "text/html": [
       "<div>\n",
       "<style scoped>\n",
       "    .dataframe tbody tr th:only-of-type {\n",
       "        vertical-align: middle;\n",
       "    }\n",
       "\n",
       "    .dataframe tbody tr th {\n",
       "        vertical-align: top;\n",
       "    }\n",
       "\n",
       "    .dataframe thead th {\n",
       "        text-align: right;\n",
       "    }\n",
       "</style>\n",
       "<table border=\"1\" class=\"dataframe\">\n",
       "  <thead>\n",
       "    <tr style=\"text-align: right;\">\n",
       "      <th></th>\n",
       "      <th>hostname</th>\n",
       "      <th>rotp</th>\n",
       "      <th>rotp_err</th>\n",
       "      <th>note rotp</th>\n",
       "      <th>teff</th>\n",
       "      <th>teff_err</th>\n",
       "      <th>note teff</th>\n",
       "    </tr>\n",
       "  </thead>\n",
       "  <tbody>\n",
       "    <tr>\n",
       "      <th>0</th>\n",
       "      <td>Kepler-462</td>\n",
       "      <td>0.370</td>\n",
       "      <td>0.075</td>\n",
       "      <td>unique</td>\n",
       "      <td>7403.833333</td>\n",
       "      <td>7403.833333</td>\n",
       "      <td>ambiguous</td>\n",
       "    </tr>\n",
       "    <tr>\n",
       "      <th>1</th>\n",
       "      <td>Kepler-1115</td>\n",
       "      <td>0.580</td>\n",
       "      <td>NaN</td>\n",
       "      <td>unique</td>\n",
       "      <td>9115.250000</td>\n",
       "      <td>9115.250000</td>\n",
       "      <td>ambiguous</td>\n",
       "    </tr>\n",
       "    <tr>\n",
       "      <th>2</th>\n",
       "      <td>NGTS-33</td>\n",
       "      <td>0.670</td>\n",
       "      <td>0.000</td>\n",
       "      <td>unique</td>\n",
       "      <td>7072.000000</td>\n",
       "      <td>7072.000000</td>\n",
       "      <td>ambiguous</td>\n",
       "    </tr>\n",
       "    <tr>\n",
       "      <th>3</th>\n",
       "      <td>TOI-540</td>\n",
       "      <td>0.730</td>\n",
       "      <td>0.000</td>\n",
       "      <td>unique</td>\n",
       "      <td>3129.000000</td>\n",
       "      <td>3129.000000</td>\n",
       "      <td>ambiguous</td>\n",
       "    </tr>\n",
       "    <tr>\n",
       "      <th>4</th>\n",
       "      <td>MASCARA-1</td>\n",
       "      <td>0.850</td>\n",
       "      <td>0.020</td>\n",
       "      <td>unique</td>\n",
       "      <td>7645.666667</td>\n",
       "      <td>7645.666667</td>\n",
       "      <td>ambiguous</td>\n",
       "    </tr>\n",
       "    <tr>\n",
       "      <th>...</th>\n",
       "      <td>...</td>\n",
       "      <td>...</td>\n",
       "      <td>...</td>\n",
       "      <td>...</td>\n",
       "      <td>...</td>\n",
       "      <td>...</td>\n",
       "      <td>...</td>\n",
       "    </tr>\n",
       "    <tr>\n",
       "      <th>302</th>\n",
       "      <td>GJ 3929</td>\n",
       "      <td>122.000</td>\n",
       "      <td>13.000</td>\n",
       "      <td>unique</td>\n",
       "      <td>3368.333333</td>\n",
       "      <td>3368.333333</td>\n",
       "      <td>ambiguous</td>\n",
       "    </tr>\n",
       "    <tr>\n",
       "      <th>303</th>\n",
       "      <td>GJ 1132</td>\n",
       "      <td>122.305</td>\n",
       "      <td>122.305</td>\n",
       "      <td>ambiguous</td>\n",
       "      <td>3233.666667</td>\n",
       "      <td>3233.666667</td>\n",
       "      <td>ambiguous</td>\n",
       "    </tr>\n",
       "    <tr>\n",
       "      <th>304</th>\n",
       "      <td>GJ 1214</td>\n",
       "      <td>124.700</td>\n",
       "      <td>4.900</td>\n",
       "      <td>unique</td>\n",
       "      <td>3081.428571</td>\n",
       "      <td>3081.428571</td>\n",
       "      <td>ambiguous</td>\n",
       "    </tr>\n",
       "    <tr>\n",
       "      <th>305</th>\n",
       "      <td>LHS 1140</td>\n",
       "      <td>131.000</td>\n",
       "      <td>5.000</td>\n",
       "      <td>unique</td>\n",
       "      <td>3107.750000</td>\n",
       "      <td>3107.750000</td>\n",
       "      <td>ambiguous</td>\n",
       "    </tr>\n",
       "    <tr>\n",
       "      <th>306</th>\n",
       "      <td>GJ 3473</td>\n",
       "      <td>168.300</td>\n",
       "      <td>4.200</td>\n",
       "      <td>unique</td>\n",
       "      <td>3339.500000</td>\n",
       "      <td>3339.500000</td>\n",
       "      <td>ambiguous</td>\n",
       "    </tr>\n",
       "  </tbody>\n",
       "</table>\n",
       "<p>307 rows × 7 columns</p>\n",
       "</div>"
      ],
      "text/plain": [
       "        hostname     rotp  rotp_err  note rotp         teff     teff_err  \\\n",
       "0     Kepler-462    0.370     0.075     unique  7403.833333  7403.833333   \n",
       "1    Kepler-1115    0.580       NaN     unique  9115.250000  9115.250000   \n",
       "2        NGTS-33    0.670     0.000     unique  7072.000000  7072.000000   \n",
       "3        TOI-540    0.730     0.000     unique  3129.000000  3129.000000   \n",
       "4      MASCARA-1    0.850     0.020     unique  7645.666667  7645.666667   \n",
       "..           ...      ...       ...        ...          ...          ...   \n",
       "302      GJ 3929  122.000    13.000     unique  3368.333333  3368.333333   \n",
       "303      GJ 1132  122.305   122.305  ambiguous  3233.666667  3233.666667   \n",
       "304      GJ 1214  124.700     4.900     unique  3081.428571  3081.428571   \n",
       "305     LHS 1140  131.000     5.000     unique  3107.750000  3107.750000   \n",
       "306      GJ 3473  168.300     4.200     unique  3339.500000  3339.500000   \n",
       "\n",
       "     note teff  \n",
       "0    ambiguous  \n",
       "1    ambiguous  \n",
       "2    ambiguous  \n",
       "3    ambiguous  \n",
       "4    ambiguous  \n",
       "..         ...  \n",
       "302  ambiguous  \n",
       "303  ambiguous  \n",
       "304  ambiguous  \n",
       "305  ambiguous  \n",
       "306  ambiguous  \n",
       "\n",
       "[307 rows x 7 columns]"
      ]
     },
     "execution_count": 24,
     "metadata": {},
     "output_type": "execute_result"
    }
   ],
   "source": [
    "import pandas as pd\n",
    "\n",
    "df2 = pd.read_csv('../data/nexsci_gyro_data.csv')\n",
    "df2"
   ]
  },
  {
   "cell_type": "code",
   "execution_count": 25,
   "id": "94fc2048-10d6-4cdf-b9c8-5b19953f7a12",
   "metadata": {},
   "outputs": [
    {
     "data": {
      "text/html": [
       "<div>\n",
       "<style scoped>\n",
       "    .dataframe tbody tr th:only-of-type {\n",
       "        vertical-align: middle;\n",
       "    }\n",
       "\n",
       "    .dataframe tbody tr th {\n",
       "        vertical-align: top;\n",
       "    }\n",
       "\n",
       "    .dataframe thead th {\n",
       "        text-align: right;\n",
       "    }\n",
       "</style>\n",
       "<table border=\"1\" class=\"dataframe\">\n",
       "  <thead>\n",
       "    <tr style=\"text-align: right;\">\n",
       "      <th></th>\n",
       "      <th>hostname</th>\n",
       "      <th>st_teff</th>\n",
       "      <th>st_tefferr1</th>\n",
       "      <th>st_tefferr2</th>\n",
       "      <th>st_rotp</th>\n",
       "      <th>st_rotperr1</th>\n",
       "      <th>st_rotperr2</th>\n",
       "      <th>st_rotperr</th>\n",
       "      <th>st_tefferr</th>\n",
       "      <th>rotp</th>\n",
       "      <th>rotp_err</th>\n",
       "      <th>note rotp</th>\n",
       "      <th>teff</th>\n",
       "      <th>teff_err</th>\n",
       "      <th>note teff</th>\n",
       "    </tr>\n",
       "  </thead>\n",
       "  <tbody>\n",
       "    <tr>\n",
       "      <th>0</th>\n",
       "      <td>TOI-1260</td>\n",
       "      <td>4227.0</td>\n",
       "      <td>85.0</td>\n",
       "      <td>-85.0</td>\n",
       "      <td>30.63</td>\n",
       "      <td>3.81</td>\n",
       "      <td>-3.81</td>\n",
       "      <td>3.810000</td>\n",
       "      <td>85.000000</td>\n",
       "      <td>30.63</td>\n",
       "      <td>3.81</td>\n",
       "      <td>unique</td>\n",
       "      <td>4226.000000</td>\n",
       "      <td>4226.000000</td>\n",
       "      <td>ambiguous</td>\n",
       "    </tr>\n",
       "    <tr>\n",
       "      <th>1</th>\n",
       "      <td>K2-350</td>\n",
       "      <td>5789.0</td>\n",
       "      <td>46.0</td>\n",
       "      <td>-50.0</td>\n",
       "      <td>8.22</td>\n",
       "      <td>0.47</td>\n",
       "      <td>-0.47</td>\n",
       "      <td>0.470000</td>\n",
       "      <td>67.941151</td>\n",
       "      <td>8.22</td>\n",
       "      <td>0.47</td>\n",
       "      <td>unique</td>\n",
       "      <td>5794.000000</td>\n",
       "      <td>5794.000000</td>\n",
       "      <td>ambiguous</td>\n",
       "    </tr>\n",
       "    <tr>\n",
       "      <th>2</th>\n",
       "      <td>K2-332</td>\n",
       "      <td>3315.0</td>\n",
       "      <td>137.0</td>\n",
       "      <td>-152.0</td>\n",
       "      <td>31.71</td>\n",
       "      <td>3.60</td>\n",
       "      <td>-3.60</td>\n",
       "      <td>3.600000</td>\n",
       "      <td>204.628932</td>\n",
       "      <td>31.71</td>\n",
       "      <td>3.60</td>\n",
       "      <td>unique</td>\n",
       "      <td>3290.500000</td>\n",
       "      <td>3290.500000</td>\n",
       "      <td>ambiguous</td>\n",
       "    </tr>\n",
       "    <tr>\n",
       "      <th>3</th>\n",
       "      <td>TOI-1470</td>\n",
       "      <td>3709.0</td>\n",
       "      <td>11.0</td>\n",
       "      <td>-11.0</td>\n",
       "      <td>29.00</td>\n",
       "      <td>3.00</td>\n",
       "      <td>-3.00</td>\n",
       "      <td>3.000000</td>\n",
       "      <td>11.000000</td>\n",
       "      <td>29.00</td>\n",
       "      <td>3.00</td>\n",
       "      <td>unique</td>\n",
       "      <td>3666.500000</td>\n",
       "      <td>3666.500000</td>\n",
       "      <td>ambiguous</td>\n",
       "    </tr>\n",
       "    <tr>\n",
       "      <th>4</th>\n",
       "      <td>LTT 3780</td>\n",
       "      <td>3358.0</td>\n",
       "      <td>92.0</td>\n",
       "      <td>-92.0</td>\n",
       "      <td>104.00</td>\n",
       "      <td>15.00</td>\n",
       "      <td>-15.00</td>\n",
       "      <td>15.000000</td>\n",
       "      <td>92.000000</td>\n",
       "      <td>104.00</td>\n",
       "      <td>15.00</td>\n",
       "      <td>unique</td>\n",
       "      <td>3344.500000</td>\n",
       "      <td>3344.500000</td>\n",
       "      <td>ambiguous</td>\n",
       "    </tr>\n",
       "    <tr>\n",
       "      <th>...</th>\n",
       "      <td>...</td>\n",
       "      <td>...</td>\n",
       "      <td>...</td>\n",
       "      <td>...</td>\n",
       "      <td>...</td>\n",
       "      <td>...</td>\n",
       "      <td>...</td>\n",
       "      <td>...</td>\n",
       "      <td>...</td>\n",
       "      <td>...</td>\n",
       "      <td>...</td>\n",
       "      <td>...</td>\n",
       "      <td>...</td>\n",
       "      <td>...</td>\n",
       "      <td>...</td>\n",
       "    </tr>\n",
       "    <tr>\n",
       "      <th>234</th>\n",
       "      <td>Wolf 327</td>\n",
       "      <td>3542.0</td>\n",
       "      <td>70.0</td>\n",
       "      <td>-70.0</td>\n",
       "      <td>44.40</td>\n",
       "      <td>0.40</td>\n",
       "      <td>-0.40</td>\n",
       "      <td>0.400000</td>\n",
       "      <td>70.000000</td>\n",
       "      <td>44.40</td>\n",
       "      <td>0.40</td>\n",
       "      <td>unique</td>\n",
       "      <td>3504.000000</td>\n",
       "      <td>3504.000000</td>\n",
       "      <td>ambiguous</td>\n",
       "    </tr>\n",
       "    <tr>\n",
       "      <th>235</th>\n",
       "      <td>TOI-1634</td>\n",
       "      <td>3472.0</td>\n",
       "      <td>70.0</td>\n",
       "      <td>-70.0</td>\n",
       "      <td>77.00</td>\n",
       "      <td>26.00</td>\n",
       "      <td>-20.00</td>\n",
       "      <td>32.802439</td>\n",
       "      <td>70.000000</td>\n",
       "      <td>77.00</td>\n",
       "      <td>23.00</td>\n",
       "      <td>unique</td>\n",
       "      <td>3492.333333</td>\n",
       "      <td>3492.333333</td>\n",
       "      <td>ambiguous</td>\n",
       "    </tr>\n",
       "    <tr>\n",
       "      <th>236</th>\n",
       "      <td>TOI-1107</td>\n",
       "      <td>6311.0</td>\n",
       "      <td>98.0</td>\n",
       "      <td>-98.0</td>\n",
       "      <td>6.20</td>\n",
       "      <td>0.30</td>\n",
       "      <td>-0.30</td>\n",
       "      <td>0.300000</td>\n",
       "      <td>98.000000</td>\n",
       "      <td>6.20</td>\n",
       "      <td>0.30</td>\n",
       "      <td>unique</td>\n",
       "      <td>6406.000000</td>\n",
       "      <td>6406.000000</td>\n",
       "      <td>ambiguous</td>\n",
       "    </tr>\n",
       "    <tr>\n",
       "      <th>237</th>\n",
       "      <td>TRAPPIST-1</td>\n",
       "      <td>2566.0</td>\n",
       "      <td>26.0</td>\n",
       "      <td>-26.0</td>\n",
       "      <td>1.40</td>\n",
       "      <td>0.05</td>\n",
       "      <td>-0.05</td>\n",
       "      <td>0.050000</td>\n",
       "      <td>26.000000</td>\n",
       "      <td>1.40</td>\n",
       "      <td>0.05</td>\n",
       "      <td>unique</td>\n",
       "      <td>3195.000000</td>\n",
       "      <td>3195.000000</td>\n",
       "      <td>ambiguous</td>\n",
       "    </tr>\n",
       "    <tr>\n",
       "      <th>238</th>\n",
       "      <td>WASP-19</td>\n",
       "      <td>5616.0</td>\n",
       "      <td>66.0</td>\n",
       "      <td>-65.0</td>\n",
       "      <td>10.50</td>\n",
       "      <td>0.20</td>\n",
       "      <td>-0.20</td>\n",
       "      <td>0.200000</td>\n",
       "      <td>92.633687</td>\n",
       "      <td>10.50</td>\n",
       "      <td>0.20</td>\n",
       "      <td>unique</td>\n",
       "      <td>5525.400000</td>\n",
       "      <td>5525.400000</td>\n",
       "      <td>ambiguous</td>\n",
       "    </tr>\n",
       "  </tbody>\n",
       "</table>\n",
       "<p>239 rows × 15 columns</p>\n",
       "</div>"
      ],
      "text/plain": [
       "       hostname  st_teff  st_tefferr1  st_tefferr2  st_rotp  st_rotperr1  \\\n",
       "0      TOI-1260   4227.0         85.0        -85.0    30.63         3.81   \n",
       "1        K2-350   5789.0         46.0        -50.0     8.22         0.47   \n",
       "2        K2-332   3315.0        137.0       -152.0    31.71         3.60   \n",
       "3      TOI-1470   3709.0         11.0        -11.0    29.00         3.00   \n",
       "4      LTT 3780   3358.0         92.0        -92.0   104.00        15.00   \n",
       "..          ...      ...          ...          ...      ...          ...   \n",
       "234    Wolf 327   3542.0         70.0        -70.0    44.40         0.40   \n",
       "235    TOI-1634   3472.0         70.0        -70.0    77.00        26.00   \n",
       "236    TOI-1107   6311.0         98.0        -98.0     6.20         0.30   \n",
       "237  TRAPPIST-1   2566.0         26.0        -26.0     1.40         0.05   \n",
       "238     WASP-19   5616.0         66.0        -65.0    10.50         0.20   \n",
       "\n",
       "     st_rotperr2  st_rotperr  st_tefferr    rotp  rotp_err note rotp  \\\n",
       "0          -3.81    3.810000   85.000000   30.63      3.81    unique   \n",
       "1          -0.47    0.470000   67.941151    8.22      0.47    unique   \n",
       "2          -3.60    3.600000  204.628932   31.71      3.60    unique   \n",
       "3          -3.00    3.000000   11.000000   29.00      3.00    unique   \n",
       "4         -15.00   15.000000   92.000000  104.00     15.00    unique   \n",
       "..           ...         ...         ...     ...       ...       ...   \n",
       "234        -0.40    0.400000   70.000000   44.40      0.40    unique   \n",
       "235       -20.00   32.802439   70.000000   77.00     23.00    unique   \n",
       "236        -0.30    0.300000   98.000000    6.20      0.30    unique   \n",
       "237        -0.05    0.050000   26.000000    1.40      0.05    unique   \n",
       "238        -0.20    0.200000   92.633687   10.50      0.20    unique   \n",
       "\n",
       "            teff     teff_err  note teff  \n",
       "0    4226.000000  4226.000000  ambiguous  \n",
       "1    5794.000000  5794.000000  ambiguous  \n",
       "2    3290.500000  3290.500000  ambiguous  \n",
       "3    3666.500000  3666.500000  ambiguous  \n",
       "4    3344.500000  3344.500000  ambiguous  \n",
       "..           ...          ...        ...  \n",
       "234  3504.000000  3504.000000  ambiguous  \n",
       "235  3492.333333  3492.333333  ambiguous  \n",
       "236  6406.000000  6406.000000  ambiguous  \n",
       "237  3195.000000  3195.000000  ambiguous  \n",
       "238  5525.400000  5525.400000  ambiguous  \n",
       "\n",
       "[239 rows x 15 columns]"
      ]
     },
     "execution_count": 25,
     "metadata": {},
     "output_type": "execute_result"
    }
   ],
   "source": [
    "cols = ['hostname', \n",
    "        'st_teff','st_tefferr1','st_tefferr2','st_teff',\n",
    "        'st_rotp','st_rotperr1','st_rotperr2','st_rotperr'\n",
    "       ]\n",
    "df_merge = pd.merge(df, df2[df2['note rotp']=='unique'], on='hostname')\n",
    "df_merge"
   ]
  },
  {
   "cell_type": "code",
   "execution_count": 26,
   "id": "d289e478-0595-4fc7-b71e-665228b9f82b",
   "metadata": {},
   "outputs": [
    {
     "data": {
      "text/plain": [
       "Text(0.5, 0, 'teff diff')"
      ]
     },
     "execution_count": 26,
     "metadata": {},
     "output_type": "execute_result"
    },
    {
     "data": {
      "image/png": "[encoded data removed]",
      "text/plain": [
       "<Figure size 640x480 with 1 Axes>"
      ]
     },
     "metadata": {},
     "output_type": "display_data"
    }
   ],
   "source": [
    "ax = df_merge[['st_teff','teff']].diff(axis=1)['teff'].hist()\n",
    "ax.set_xlabel('teff diff')"
   ]
  },
  {
   "cell_type": "code",
   "execution_count": 27,
   "id": "73997201-7f14-4e99-9d69-ff1b026bd206",
   "metadata": {},
   "outputs": [
    {
     "data": {
      "text/plain": [
       "Text(0.5, 0, 'rotp diff')"
      ]
     },
     "execution_count": 27,
     "metadata": {},
     "output_type": "execute_result"
    },
    {
     "data": {
      "image/png": "[encoded data removed]",
      "text/plain": [
       "<Figure size 640x480 with 1 Axes>"
      ]
     },
     "metadata": {},
     "output_type": "display_data"
    }
   ],
   "source": [
    "ax = df_merge[['st_rotp','rotp']].diff(axis=1)['rotp'].hist()\n",
    "ax.set_xlabel('rotp diff')"
   ]
  },
  {
   "cell_type": "markdown",
   "id": "6bb76ca6-650e-430e-810b-fc89f3ef68f5",
   "metadata": {},
   "source": [
    "## which table to adopt?"
   ]
  },
  {
   "cell_type": "markdown",
   "id": "4d8f9f74-0c76-436a-8b32-bb1634dbbf70",
   "metadata": {},
   "source": [
    "Let's use data from nexsci's `pscompars` table instead of vizier because we can track the `st_rotp` and `st_teff` references."
   ]
  },
  {
   "cell_type": "markdown",
   "id": "b1013881-fb11-4374-bb97-ae058195af0b",
   "metadata": {},
   "source": [
    "## filter data"
   ]
  },
  {
   "cell_type": "markdown",
   "id": "334775f2-388e-4e0e-865e-81d1493d621b",
   "metadata": {},
   "source": [
    "Use only values of st_rotp and st_teff applicable for gyro-interp model"
   ]
  },
  {
   "cell_type": "code",
   "execution_count": 29,
   "id": "a9e3c270-e8c5-4086-b5f6-46886d895c5f",
   "metadata": {},
   "outputs": [
    {
     "name": "stdout",
     "output_type": "stream",
     "text": [
      "Column definitions:  https://exoplanetarchive.ipac.caltech.edu/docs/API_PS_columns.html\n",
      "Loaded:  ../data/nexsci_pscomppars.csv\n"
     ]
    },
    {
     "data": {
      "text/plain": [
       "(292, 9)"
      ]
     },
     "execution_count": 29,
     "metadata": {},
     "output_type": "execute_result"
    }
   ],
   "source": [
    "from kenmon import get_nexsci_data\n",
    "import numpy as np\n",
    "\n",
    "# set clobber=True to update data (takes > 5 mins)\n",
    "df = get_nexsci_data(table_name='pscomppars', clobber=False)\n",
    "df = df.drop_duplicates(subset='hostname', keep='first')\n",
    "cols = ['hostname', \n",
    "        'st_teff','st_tefferr1','st_tefferr2',\n",
    "        'st_rotp','st_rotperr1','st_rotperr2', \n",
    "       ]\n",
    "df = df[cols].dropna()\n",
    "df['st_rotperr'] = df.apply(lambda x: x.st_rotperr1 \n",
    "                            if x.st_rotperr1+x.st_rotperr2==0 \n",
    "                            else np.sqrt(x.st_rotperr1**2 + x.st_rotperr2**2), \n",
    "                            axis=1)\n",
    "df['st_tefferr'] = df.apply(lambda x: x.st_tefferr1 \n",
    "                            if x.st_tefferr1+x.st_tefferr2==0 \n",
    "                            else np.sqrt(x.st_tefferr1**2 + x.st_tefferr2**2), \n",
    "                            axis=1)\n",
    "df = df.reset_index(drop=True)\n",
    "df.shape"
   ]
  },
  {
   "cell_type": "raw",
   "id": "c62a30e6-cfd4-445f-837a-c07f3a9d3d51",
   "metadata": {},
   "source": [
    "# we gyro model rotp limit\n",
    "short_period = df2.rotp<=15\n",
    "# gyro-interp is only useful for FGK type stars\n",
    "fgk_star = (df2.teff>=3500) & (df2.teff<6500)\n",
    "# very small rotp_err is unrealistic\n",
    "minimum_rotp_err = df2.rotp_err>0.03\n",
    "# use only precise rotp values\n",
    "precise_rotp = (df2.rotp_err/df2.rotp)<0.1\n",
    "# focus on unique rotp for now\n",
    "unique = df2['note rotp']=='unique'\n",
    "\n",
    "# apply filter\n",
    "df_final = df2[short_period & fgk_star & precise_rotp & minimum_rotp_err & unique]\n",
    "df_final.shape  #34 host stars"
   ]
  },
  {
   "cell_type": "code",
   "execution_count": 30,
   "id": "b49d92cd-1eee-4af2-a961-544efdf69754",
   "metadata": {},
   "outputs": [
    {
     "data": {
      "text/plain": [
       "(69, 9)"
      ]
     },
     "execution_count": 30,
     "metadata": {},
     "output_type": "execute_result"
    }
   ],
   "source": [
    "# we gyro model rotp limit\n",
    "short_period = df.st_rotp<=15\n",
    "# gyro-interp is only useful for FGK type stars\n",
    "fgk_star = (df.st_teff>=3500) & (df.st_teff<6500)\n",
    "# very small rotp_err is unrealistic\n",
    "minimum_rotp_err = df.st_rotperr>0.03\n",
    "# use only precise rotp values\n",
    "precise_rotp = (df.st_rotperr/df.st_rotp)<0.1\n",
    "\n",
    "# apply filter\n",
    "df_final = df[short_period & fgk_star & precise_rotp & minimum_rotp_err]\n",
    "df_final.shape #34 host stars"
   ]
  },
  {
   "cell_type": "code",
   "execution_count": 31,
   "id": "1ccbd12b-536d-4259-a452-f3b25a5229ae",
   "metadata": {},
   "outputs": [
    {
     "data": {
      "text/plain": [
       "hostname         XO-7\n",
       "st_teff        6250.0\n",
       "st_tefferr1     100.0\n",
       "st_tefferr2    -100.0\n",
       "st_rotp          3.62\n",
       "st_rotperr1      0.12\n",
       "st_rotperr2     -0.12\n",
       "st_rotperr       0.12\n",
       "st_tefferr      100.0\n",
       "Name: 49, dtype: object"
      ]
     },
     "execution_count": 31,
     "metadata": {},
     "output_type": "execute_result"
    }
   ],
   "source": [
    "# check values\n",
    "hostname = 'XO-7'\n",
    "d = df_final.query(\"hostname==@hostname\").squeeze()\n",
    "d"
   ]
  },
  {
   "cell_type": "markdown",
   "id": "9b26cf40-2a26-4a90-9814-c1973982a39f",
   "metadata": {},
   "source": [
    "It's OK that teff is ambiguous as long as rotp is unique."
   ]
  },
  {
   "cell_type": "markdown",
   "id": "47ef2b1f-f5ce-46a4-bc18-aaf080225dfb",
   "metadata": {},
   "source": [
    "## Run gyro-interp using filtered values"
   ]
  },
  {
   "cell_type": "raw",
   "id": "ff143ff5-ed9e-488b-95cc-d7421a4c8db1",
   "metadata": {},
   "source": [
    "from gyrointerp import gyro_age_posterior_list\n",
    "\n",
    "gyro_age_posterior_list??"
   ]
  },
  {
   "cell_type": "raw",
   "id": "40014c52-325a-4619-8e46-a73a3e337870",
   "metadata": {},
   "source": [
    "!rm -rf /ut3/jerome/.gyrointerp_cache/nexsci/"
   ]
  },
  {
   "cell_type": "code",
   "execution_count": 33,
   "id": "4554b62e-ed5c-462f-b1b9-1ceb170a2b1b",
   "metadata": {
    "tags": []
   },
   "outputs": [
    {
     "name": "stderr",
     "output_type": "stream",
     "text": [
      "[I 250329 13:30:20 gyro_posterior:751] Got N_tasks=69...\n",
      "[I 250329 13:30:20 gyro_posterior:752] 2025-03-29T13:30:20.482245 beginning gyro_age_posterior_list\n"
     ]
    },
    {
     "name": "stdout",
     "output_type": "stream",
     "text": [
      "Running 69 targets...\n"
     ]
    },
    {
     "name": "stderr",
     "output_type": "stream",
     "text": [
      "[W 250329 13:30:21 gyro_posterior:355] WARNING: Teff uncertainties below 50 K are probably overly optimistic. Only do this if you have good reason to.\n",
      "[W 250329 13:30:21 gyro_posterior:355] WARNING: Teff uncertainties below 50 K are probably overly optimistic. Only do this if you have good reason to.\n",
      "[W 250329 13:30:21 gyro_posterior:355] WARNING: Teff uncertainties below 50 K are probably overly optimistic. Only do this if you have good reason to.\n",
      "[W 250329 13:30:21 gyro_posterior:355] WARNING: Teff uncertainties below 50 K are probably overly optimistic. Only do this if you have good reason to.\n",
      "[W 250329 13:30:21 gyro_posterior:355] WARNING: Teff uncertainties below 50 K are probably overly optimistic. Only do this if you have good reason to.\n",
      "[W 250329 13:30:21 gyro_posterior:355] WARNING: Teff uncertainties below 50 K are probably overly optimistic. Only do this if you have good reason to.\n",
      "[I 250329 13:30:21 gyro_posterior:518] Wrote /ut3/jerome/.gyrointerp_cache/nexsci/K2-290_Prot6.6300_Teff6302.0_limitgrid_defaultparameters_posterior.csv\n",
      "[I 250329 13:30:21 gyro_posterior:518] Wrote /ut3/jerome/.gyrointerp_cache/nexsci/K2-104_Prot9.3000_Teff3712.0_limitgrid_defaultparameters_posterior.csv\n",
      "[I 250329 13:30:21 gyro_posterior:518] Wrote /ut3/jerome/.gyrointerp_cache/nexsci/XO-7_Prot3.6200_Teff6250.0_limitgrid_defaultparameters_posterior.csv\n",
      "[I 250329 13:30:21 gyro_posterior:518] Wrote /ut3/jerome/.gyrointerp_cache/nexsci/TOI-4364_Prot10.5700_Teff3528.0_limitgrid_defaultparameters_posterior.csv\n",
      "[I 250329 13:30:21 gyro_posterior:518] Wrote /ut3/jerome/.gyrointerp_cache/nexsci/WASP-136_Prot5.4000_Teff6250.0_limitgrid_defaultparameters_posterior.csv\n",
      "[I 250329 13:30:21 gyro_posterior:525] Wrote /ut3/jerome/.gyrointerp_cache/nexsci/K2-290_Prot6.6300_Teff6302.0_limitgrid_defaultparameters.csv\n",
      "[I 250329 13:30:21 gyro_posterior:518] Wrote /ut3/jerome/.gyrointerp_cache/nexsci/TOI-622_Prot3.7700_Teff6400.0_limitgrid_defaultparameters_posterior.csv\n",
      "[I 250329 13:30:21 gyro_posterior:525] Wrote /ut3/jerome/.gyrointerp_cache/nexsci/K2-104_Prot9.3000_Teff3712.0_limitgrid_defaultparameters.csv\n",
      "[I 250329 13:30:21 gyro_posterior:518] Wrote /ut3/jerome/.gyrointerp_cache/nexsci/HD 73344_Prot9.0880_Teff6252.6_limitgrid_defaultparameters_posterior.csv\n",
      "[I 250329 13:30:21 gyro_posterior:518] Wrote /ut3/jerome/.gyrointerp_cache/nexsci/Kepler-39_Prot4.5000_Teff6350.0_limitgrid_defaultparameters_posterior.csv\n",
      "[I 250329 13:30:21 gyro_posterior:525] Wrote /ut3/jerome/.gyrointerp_cache/nexsci/XO-7_Prot3.6200_Teff6250.0_limitgrid_defaultparameters.csv\n",
      "[I 250329 13:30:21 gyro_posterior:525] Wrote /ut3/jerome/.gyrointerp_cache/nexsci/TOI-4364_Prot10.5700_Teff3528.0_limitgrid_defaultparameters.csv\n",
      "[I 250329 13:30:21 gyro_posterior:518] Wrote /ut3/jerome/.gyrointerp_cache/nexsci/TOI-1333_Prot5.3000_Teff6274.0_limitgrid_defaultparameters_posterior.csv\n",
      "[I 250329 13:30:21 gyro_posterior:525] Wrote /ut3/jerome/.gyrointerp_cache/nexsci/TOI-622_Prot3.7700_Teff6400.0_limitgrid_defaultparameters.csv\n",
      "[I 250329 13:30:21 gyro_posterior:525] Wrote /ut3/jerome/.gyrointerp_cache/nexsci/WASP-136_Prot5.4000_Teff6250.0_limitgrid_defaultparameters.csv\n",
      "[I 250329 13:30:21 gyro_posterior:525] Wrote /ut3/jerome/.gyrointerp_cache/nexsci/HD 73344_Prot9.0880_Teff6252.6_limitgrid_defaultparameters.csv\n",
      "[I 250329 13:30:21 gyro_posterior:518] Wrote /ut3/jerome/.gyrointerp_cache/nexsci/Kepler-21_Prot13.4200_Teff6305.0_limitgrid_defaultparameters_posterior.csv\n",
      "[I 250329 13:30:21 gyro_posterior:518] Wrote /ut3/jerome/.gyrointerp_cache/nexsci/TOI-1295_Prot11.0000_Teff6280.0_limitgrid_defaultparameters_posterior.csv\n",
      "[I 250329 13:30:21 gyro_posterior:518] Wrote /ut3/jerome/.gyrointerp_cache/nexsci/K2-33_Prot6.2900_Teff3540.0_limitgrid_defaultparameters_posterior.csv\n",
      "[I 250329 13:30:21 gyro_posterior:525] Wrote /ut3/jerome/.gyrointerp_cache/nexsci/Kepler-39_Prot4.5000_Teff6350.0_limitgrid_defaultparameters.csv\n",
      "[I 250329 13:30:21 gyro_posterior:525] Wrote /ut3/jerome/.gyrointerp_cache/nexsci/TOI-1333_Prot5.3000_Teff6274.0_limitgrid_defaultparameters.csv\n",
      "[I 250329 13:30:21 gyro_posterior:518] Wrote /ut3/jerome/.gyrointerp_cache/nexsci/Qatar-7_Prot5.9000_Teff6387.0_limitgrid_defaultparameters_posterior.csv\n",
      "[I 250329 13:30:21 gyro_posterior:518] Wrote /ut3/jerome/.gyrointerp_cache/nexsci/TOI-1107_Prot6.2000_Teff6311.0_limitgrid_defaultparameters_posterior.csv\n",
      "[I 250329 13:30:21 gyro_posterior:525] Wrote /ut3/jerome/.gyrointerp_cache/nexsci/K2-33_Prot6.2900_Teff3540.0_limitgrid_defaultparameters.csv\n",
      "[I 250329 13:30:21 gyro_posterior:525] Wrote /ut3/jerome/.gyrointerp_cache/nexsci/TOI-1295_Prot11.0000_Teff6280.0_limitgrid_defaultparameters.csv\n",
      "[I 250329 13:30:21 gyro_posterior:525] Wrote /ut3/jerome/.gyrointerp_cache/nexsci/Qatar-7_Prot5.9000_Teff6387.0_limitgrid_defaultparameters.csv\n",
      "[I 250329 13:30:21 gyro_posterior:525] Wrote /ut3/jerome/.gyrointerp_cache/nexsci/Kepler-21_Prot13.4200_Teff6305.0_limitgrid_defaultparameters.csv\n",
      "[I 250329 13:30:21 gyro_posterior:525] Wrote /ut3/jerome/.gyrointerp_cache/nexsci/TOI-1107_Prot6.2000_Teff6311.0_limitgrid_defaultparameters.csv\n",
      "[W 250329 13:30:21 gyro_posterior:355] WARNING: Teff uncertainties below 50 K are probably overly optimistic. Only do this if you have good reason to.\n",
      "[I 250329 13:30:31 gyro_posterior:518] Wrote /ut3/jerome/.gyrointerp_cache/nexsci/TOI-1842_Prot13.4000_Teff6039.0_limitgrid_defaultparameters_posterior.csv\n",
      "[I 250329 13:30:31 gyro_posterior:525] Wrote /ut3/jerome/.gyrointerp_cache/nexsci/TOI-1842_Prot13.4000_Teff6039.0_limitgrid_defaultparameters.csv\n",
      "[I 250329 13:30:32 gyro_posterior:518] Wrote /ut3/jerome/.gyrointerp_cache/nexsci/K2-136_Prot15.0000_Teff4500.0_limitgrid_defaultparameters_posterior.csv\n",
      "[I 250329 13:30:32 gyro_posterior:525] Wrote /ut3/jerome/.gyrointerp_cache/nexsci/K2-136_Prot15.0000_Teff4500.0_limitgrid_defaultparameters.csv\n",
      "[I 250329 13:30:32 gyro_posterior:518] Wrote /ut3/jerome/.gyrointerp_cache/nexsci/K2-339_Prot11.1300_Teff4857.0_limitgrid_defaultparameters_posterior.csv\n",
      "[I 250329 13:30:32 gyro_posterior:525] Wrote /ut3/jerome/.gyrointerp_cache/nexsci/K2-339_Prot11.1300_Teff4857.0_limitgrid_defaultparameters.csv\n",
      "[I 250329 13:30:33 gyro_posterior:518] Wrote /ut3/jerome/.gyrointerp_cache/nexsci/TOI-2025_Prot13.2000_Teff5977.0_limitgrid_defaultparameters_posterior.csv\n",
      "[I 250329 13:30:33 gyro_posterior:525] Wrote /ut3/jerome/.gyrointerp_cache/nexsci/TOI-2025_Prot13.2000_Teff5977.0_limitgrid_defaultparameters.csv\n",
      "[I 250329 13:30:33 gyro_posterior:518] Wrote /ut3/jerome/.gyrointerp_cache/nexsci/WASP-32_Prot11.6000_Teff6140.0_limitgrid_defaultparameters_posterior.csv\n",
      "[I 250329 13:30:33 gyro_posterior:525] Wrote /ut3/jerome/.gyrointerp_cache/nexsci/WASP-32_Prot11.6000_Teff6140.0_limitgrid_defaultparameters.csv\n",
      "[I 250329 13:30:33 gyro_posterior:518] Wrote /ut3/jerome/.gyrointerp_cache/nexsci/Kepler-1410_Prot14.0900_Teff4092.0_limitgrid_defaultparameters_posterior.csv\n",
      "[I 250329 13:30:33 gyro_posterior:525] Wrote /ut3/jerome/.gyrointerp_cache/nexsci/Kepler-1410_Prot14.0900_Teff4092.0_limitgrid_defaultparameters.csv\n",
      "[I 250329 13:30:33 gyro_posterior:518] Wrote /ut3/jerome/.gyrointerp_cache/nexsci/K2-331_Prot9.9800_Teff5994.0_limitgrid_defaultparameters_posterior.csv\n",
      "[I 250329 13:30:33 gyro_posterior:525] Wrote /ut3/jerome/.gyrointerp_cache/nexsci/K2-331_Prot9.9800_Teff5994.0_limitgrid_defaultparameters.csv\n",
      "[I 250329 13:30:34 gyro_posterior:518] Wrote /ut3/jerome/.gyrointerp_cache/nexsci/TOI-712_Prot12.4540_Teff4622.0_limitgrid_defaultparameters_posterior.csv\n",
      "[I 250329 13:30:34 gyro_posterior:525] Wrote /ut3/jerome/.gyrointerp_cache/nexsci/TOI-712_Prot12.4540_Teff4622.0_limitgrid_defaultparameters.csv\n",
      "[I 250329 13:30:34 gyro_posterior:518] Wrote /ut3/jerome/.gyrointerp_cache/nexsci/TOI-2076_Prot6.8400_Teff5192.0_limitgrid_defaultparameters_posterior.csv\n",
      "[I 250329 13:30:34 gyro_posterior:525] Wrote /ut3/jerome/.gyrointerp_cache/nexsci/TOI-2076_Prot6.8400_Teff5192.0_limitgrid_defaultparameters.csv\n",
      "[I 250329 13:30:34 gyro_posterior:518] Wrote /ut3/jerome/.gyrointerp_cache/nexsci/Kepler-970_Prot9.2300_Teff4290.0_limitgrid_defaultparameters_posterior.csv\n",
      "[I 250329 13:30:34 gyro_posterior:525] Wrote /ut3/jerome/.gyrointerp_cache/nexsci/Kepler-970_Prot9.2300_Teff4290.0_limitgrid_defaultparameters.csv\n",
      "[I 250329 13:30:35 gyro_posterior:518] Wrote /ut3/jerome/.gyrointerp_cache/nexsci/K2-101_Prot10.6000_Teff4927.0_limitgrid_defaultparameters_posterior.csv\n",
      "[I 250329 13:30:35 gyro_posterior:525] Wrote /ut3/jerome/.gyrointerp_cache/nexsci/K2-101_Prot10.6000_Teff4927.0_limitgrid_defaultparameters.csv\n",
      "[I 250329 13:30:35 gyro_posterior:518] Wrote /ut3/jerome/.gyrointerp_cache/nexsci/K2-350_Prot8.2200_Teff5789.0_limitgrid_defaultparameters_posterior.csv\n",
      "[I 250329 13:30:35 gyro_posterior:518] Wrote /ut3/jerome/.gyrointerp_cache/nexsci/TOI-1268_Prot10.9000_Teff5300.0_limitgrid_defaultparameters_posterior.csv\n",
      "[I 250329 13:30:35 gyro_posterior:525] Wrote /ut3/jerome/.gyrointerp_cache/nexsci/K2-350_Prot8.2200_Teff5789.0_limitgrid_defaultparameters.csv\n",
      "[I 250329 13:30:35 gyro_posterior:525] Wrote /ut3/jerome/.gyrointerp_cache/nexsci/TOI-1268_Prot10.9000_Teff5300.0_limitgrid_defaultparameters.csv\n",
      "[I 250329 13:30:35 gyro_posterior:518] Wrote /ut3/jerome/.gyrointerp_cache/nexsci/CoRoT-6_Prot6.4000_Teff6090.0_limitgrid_defaultparameters_posterior.csv\n",
      "[I 250329 13:30:35 gyro_posterior:525] Wrote /ut3/jerome/.gyrointerp_cache/nexsci/CoRoT-6_Prot6.4000_Teff6090.0_limitgrid_defaultparameters.csv\n",
      "[I 250329 13:30:37 gyro_posterior:518] Wrote /ut3/jerome/.gyrointerp_cache/nexsci/WASP-166_Prot12.1000_Teff6050.0_limitgrid_defaultparameters_posterior.csv\n",
      "[I 250329 13:30:37 gyro_posterior:525] Wrote /ut3/jerome/.gyrointerp_cache/nexsci/WASP-166_Prot12.1000_Teff6050.0_limitgrid_defaultparameters.csv\n",
      "[I 250329 13:30:37 gyro_posterior:518] Wrote /ut3/jerome/.gyrointerp_cache/nexsci/HD 109833_Prot5.1110_Teff5881.0_limitgrid_defaultparameters_posterior.csv\n",
      "[I 250329 13:30:37 gyro_posterior:518] Wrote /ut3/jerome/.gyrointerp_cache/nexsci/TOI-6016_Prot9.1000_Teff6110.0_limitgrid_defaultparameters_posterior.csv\n",
      "[I 250329 13:30:37 gyro_posterior:525] Wrote /ut3/jerome/.gyrointerp_cache/nexsci/HD 109833_Prot5.1110_Teff5881.0_limitgrid_defaultparameters.csv\n",
      "[I 250329 13:30:37 gyro_posterior:525] Wrote /ut3/jerome/.gyrointerp_cache/nexsci/TOI-6016_Prot9.1000_Teff6110.0_limitgrid_defaultparameters.csv\n",
      "[I 250329 13:30:37 gyro_posterior:518] Wrote /ut3/jerome/.gyrointerp_cache/nexsci/EPIC 211822797_Prot14.6000_Teff4057.0_limitgrid_defaultparameters_posterior.csv\n",
      "[I 250329 13:30:37 gyro_posterior:518] Wrote /ut3/jerome/.gyrointerp_cache/nexsci/TOI-6130_Prot11.1000_Teff6110.0_limitgrid_defaultparameters_posterior.csv\n",
      "[I 250329 13:30:37 gyro_posterior:525] Wrote /ut3/jerome/.gyrointerp_cache/nexsci/EPIC 211822797_Prot14.6000_Teff4057.0_limitgrid_defaultparameters.csv\n",
      "[I 250329 13:30:37 gyro_posterior:525] Wrote /ut3/jerome/.gyrointerp_cache/nexsci/TOI-6130_Prot11.1000_Teff6110.0_limitgrid_defaultparameters.csv\n",
      "[I 250329 13:30:37 gyro_posterior:518] Wrote /ut3/jerome/.gyrointerp_cache/nexsci/K2-102_Prot11.5000_Teff4695.0_limitgrid_defaultparameters_posterior.csv\n",
      "[I 250329 13:30:37 gyro_posterior:525] Wrote /ut3/jerome/.gyrointerp_cache/nexsci/K2-102_Prot11.5000_Teff4695.0_limitgrid_defaultparameters.csv\n",
      "[I 250329 13:30:37 gyro_posterior:518] Wrote /ut3/jerome/.gyrointerp_cache/nexsci/K2-284_Prot8.8800_Teff4140.0_limitgrid_defaultparameters_posterior.csv\n",
      "[I 250329 13:30:37 gyro_posterior:525] Wrote /ut3/jerome/.gyrointerp_cache/nexsci/K2-284_Prot8.8800_Teff4140.0_limitgrid_defaultparameters.csv\n",
      "[I 250329 13:30:38 gyro_posterior:518] Wrote /ut3/jerome/.gyrointerp_cache/nexsci/CoRoT-18_Prot5.4000_Teff5440.0_limitgrid_defaultparameters_posterior.csv\n",
      "[I 250329 13:30:38 gyro_posterior:525] Wrote /ut3/jerome/.gyrointerp_cache/nexsci/CoRoT-18_Prot5.4000_Teff5440.0_limitgrid_defaultparameters.csv\n",
      "[I 250329 13:30:38 gyro_posterior:518] Wrote /ut3/jerome/.gyrointerp_cache/nexsci/HD 77946_Prot13.5600_Teff6007.0_limitgrid_defaultparameters_posterior.csv\n",
      "[I 250329 13:30:38 gyro_posterior:525] Wrote /ut3/jerome/.gyrointerp_cache/nexsci/HD 77946_Prot13.5600_Teff6007.0_limitgrid_defaultparameters.csv\n",
      "[I 250329 13:30:38 gyro_posterior:518] Wrote /ut3/jerome/.gyrointerp_cache/nexsci/HATS-18_Prot9.8000_Teff5600.0_limitgrid_defaultparameters_posterior.csv\n",
      "[I 250329 13:30:38 gyro_posterior:525] Wrote /ut3/jerome/.gyrointerp_cache/nexsci/HATS-18_Prot9.8000_Teff5600.0_limitgrid_defaultparameters.csv\n",
      "[I 250329 13:30:39 gyro_posterior:518] Wrote /ut3/jerome/.gyrointerp_cache/nexsci/WASP-84_Prot14.3600_Teff5238.0_limitgrid_defaultparameters_posterior.csv\n",
      "[I 250329 13:30:39 gyro_posterior:525] Wrote /ut3/jerome/.gyrointerp_cache/nexsci/WASP-84_Prot14.3600_Teff5238.0_limitgrid_defaultparameters.csv\n",
      "[I 250329 13:30:43 gyro_posterior:518] Wrote /ut3/jerome/.gyrointerp_cache/nexsci/TOI-2580_Prot12.4000_Teff6120.0_limitgrid_defaultparameters_posterior.csv\n",
      "[I 250329 13:30:43 gyro_posterior:525] Wrote /ut3/jerome/.gyrointerp_cache/nexsci/TOI-2580_Prot12.4000_Teff6120.0_limitgrid_defaultparameters.csv\n",
      "[I 250329 13:30:44 gyro_posterior:518] Wrote /ut3/jerome/.gyrointerp_cache/nexsci/Kepler-43_Prot12.9500_Teff6041.0_limitgrid_defaultparameters_posterior.csv\n",
      "[I 250329 13:30:44 gyro_posterior:525] Wrote /ut3/jerome/.gyrointerp_cache/nexsci/Kepler-43_Prot12.9500_Teff6041.0_limitgrid_defaultparameters.csv\n",
      "[I 250329 13:30:45 gyro_posterior:518] Wrote /ut3/jerome/.gyrointerp_cache/nexsci/HIP 113103_Prot9.9200_Teff4930.0_limitgrid_defaultparameters_posterior.csv\n",
      "[I 250329 13:30:45 gyro_posterior:525] Wrote /ut3/jerome/.gyrointerp_cache/nexsci/HIP 113103_Prot9.9200_Teff4930.0_limitgrid_defaultparameters.csv\n",
      "[I 250329 13:30:47 gyro_posterior:518] Wrote /ut3/jerome/.gyrointerp_cache/nexsci/TOI-2048_Prot7.9700_Teff5185.0_limitgrid_defaultparameters_posterior.csv\n",
      "[I 250329 13:30:47 gyro_posterior:518] Wrote /ut3/jerome/.gyrointerp_cache/nexsci/HD 73583_Prot12.2000_Teff4511.0_limitgrid_defaultparameters_posterior.csv\n",
      "[I 250329 13:30:47 gyro_posterior:525] Wrote /ut3/jerome/.gyrointerp_cache/nexsci/HD 73583_Prot12.2000_Teff4511.0_limitgrid_defaultparameters.csv\n",
      "[I 250329 13:30:47 gyro_posterior:525] Wrote /ut3/jerome/.gyrointerp_cache/nexsci/TOI-2048_Prot7.9700_Teff5185.0_limitgrid_defaultparameters.csv\n",
      "[I 250329 13:30:47 gyro_posterior:518] Wrote /ut3/jerome/.gyrointerp_cache/nexsci/WASP-19_Prot10.5000_Teff5616.0_limitgrid_defaultparameters_posterior.csv\n",
      "[I 250329 13:30:48 gyro_posterior:525] Wrote /ut3/jerome/.gyrointerp_cache/nexsci/WASP-19_Prot10.5000_Teff5616.0_limitgrid_defaultparameters.csv\n",
      "[I 250329 13:30:52 gyro_posterior:518] Wrote /ut3/jerome/.gyrointerp_cache/nexsci/Kepler-17_Prot12.0100_Teff5781.0_limitgrid_defaultparameters_posterior.csv\n",
      "[I 250329 13:30:52 gyro_posterior:525] Wrote /ut3/jerome/.gyrointerp_cache/nexsci/Kepler-17_Prot12.0100_Teff5781.0_limitgrid_defaultparameters.csv\n",
      "[I 250329 13:30:53 gyro_posterior:518] Wrote /ut3/jerome/.gyrointerp_cache/nexsci/HATS-47_Prot6.4200_Teff4512.0_limitgrid_defaultparameters_posterior.csv\n",
      "[I 250329 13:30:53 gyro_posterior:525] Wrote /ut3/jerome/.gyrointerp_cache/nexsci/HATS-47_Prot6.4200_Teff4512.0_limitgrid_defaultparameters.csv\n",
      "[I 250329 13:31:00 gyro_posterior:518] Wrote /ut3/jerome/.gyrointerp_cache/nexsci/Kepler-78_Prot12.9200_Teff5058.0_limitgrid_defaultparameters_posterior.csv\n",
      "[I 250329 13:31:00 gyro_posterior:525] Wrote /ut3/jerome/.gyrointerp_cache/nexsci/Kepler-78_Prot12.9200_Teff5058.0_limitgrid_defaultparameters.csv\n",
      "[I 250329 13:31:00 gyro_posterior:518] Wrote /ut3/jerome/.gyrointerp_cache/nexsci/HD 207496_Prot12.3600_Teff4819.0_limitgrid_defaultparameters_posterior.csv\n",
      "[I 250329 13:31:01 gyro_posterior:525] Wrote /ut3/jerome/.gyrointerp_cache/nexsci/HD 207496_Prot12.3600_Teff4819.0_limitgrid_defaultparameters.csv\n",
      "[I 250329 13:31:02 gyro_posterior:518] Wrote /ut3/jerome/.gyrointerp_cache/nexsci/HD 235088_Prot12.0000_Teff5037.0_limitgrid_defaultparameters_posterior.csv\n",
      "[I 250329 13:31:02 gyro_posterior:525] Wrote /ut3/jerome/.gyrointerp_cache/nexsci/HD 235088_Prot12.0000_Teff5037.0_limitgrid_defaultparameters.csv\n",
      "[I 250329 13:31:02 gyro_posterior:518] Wrote /ut3/jerome/.gyrointerp_cache/nexsci/HIP 94235_Prot2.2400_Teff5991.0_limitgrid_defaultparameters_posterior.csv\n",
      "[I 250329 13:31:02 gyro_posterior:525] Wrote /ut3/jerome/.gyrointerp_cache/nexsci/HIP 94235_Prot2.2400_Teff5991.0_limitgrid_defaultparameters.csv\n",
      "[I 250329 13:31:07 gyro_posterior:518] Wrote /ut3/jerome/.gyrointerp_cache/nexsci/TOI-1807_Prot8.8000_Teff4914.0_limitgrid_defaultparameters_posterior.csv\n",
      "[I 250329 13:31:07 gyro_posterior:525] Wrote /ut3/jerome/.gyrointerp_cache/nexsci/TOI-1807_Prot8.8000_Teff4914.0_limitgrid_defaultparameters.csv\n",
      "[I 250329 13:31:07 gyro_posterior:518] Wrote /ut3/jerome/.gyrointerp_cache/nexsci/K2-100_Prot4.3000_Teff5945.0_limitgrid_defaultparameters_posterior.csv\n",
      "[I 250329 13:31:07 gyro_posterior:525] Wrote /ut3/jerome/.gyrointerp_cache/nexsci/K2-100_Prot4.3000_Teff5945.0_limitgrid_defaultparameters.csv\n",
      "[I 250329 13:31:07 gyro_posterior:518] Wrote /ut3/jerome/.gyrointerp_cache/nexsci/K2-240_Prot10.8000_Teff3810.0_limitgrid_defaultparameters_posterior.csv\n",
      "[I 250329 13:31:07 gyro_posterior:525] Wrote /ut3/jerome/.gyrointerp_cache/nexsci/K2-240_Prot10.8000_Teff3810.0_limitgrid_defaultparameters.csv\n",
      "[I 250329 13:31:08 gyro_posterior:518] Wrote /ut3/jerome/.gyrointerp_cache/nexsci/TOI-451_Prot5.1000_Teff5550.0_limitgrid_defaultparameters_posterior.csv\n",
      "[I 250329 13:31:08 gyro_posterior:525] Wrote /ut3/jerome/.gyrointerp_cache/nexsci/TOI-451_Prot5.1000_Teff5550.0_limitgrid_defaultparameters.csv\n",
      "[I 250329 13:31:09 gyro_posterior:518] Wrote /ut3/jerome/.gyrointerp_cache/nexsci/TOI-4562_Prot3.8600_Teff6096.0_limitgrid_defaultparameters_posterior.csv\n",
      "[I 250329 13:31:09 gyro_posterior:525] Wrote /ut3/jerome/.gyrointerp_cache/nexsci/TOI-4562_Prot3.8600_Teff6096.0_limitgrid_defaultparameters.csv\n",
      "[I 250329 13:31:24 gyro_posterior:518] Wrote /ut3/jerome/.gyrointerp_cache/nexsci/HD 110082_Prot2.3400_Teff6200.0_limitgrid_defaultparameters_posterior.csv\n",
      "[I 250329 13:31:24 gyro_posterior:525] Wrote /ut3/jerome/.gyrointerp_cache/nexsci/HD 110082_Prot2.3400_Teff6200.0_limitgrid_defaultparameters.csv\n",
      "[I 250329 13:31:24 gyro_posterior:518] Wrote /ut3/jerome/.gyrointerp_cache/nexsci/HD 18599_Prot8.7300_Teff5145.0_limitgrid_defaultparameters_posterior.csv\n",
      "[I 250329 13:31:24 gyro_posterior:525] Wrote /ut3/jerome/.gyrointerp_cache/nexsci/HD 18599_Prot8.7300_Teff5145.0_limitgrid_defaultparameters.csv\n",
      "[I 250329 13:31:28 gyro_posterior:518] Wrote /ut3/jerome/.gyrointerp_cache/nexsci/K2-131_Prot9.1940_Teff5120.0_limitgrid_defaultparameters_posterior.csv\n",
      "[I 250329 13:31:28 gyro_posterior:525] Wrote /ut3/jerome/.gyrointerp_cache/nexsci/K2-131_Prot9.1940_Teff5120.0_limitgrid_defaultparameters.csv\n",
      "[I 250329 13:31:28 gyro_posterior:518] Wrote /ut3/jerome/.gyrointerp_cache/nexsci/DS Tuc A_Prot2.8500_Teff5428.0_limitgrid_defaultparameters_posterior.csv\n",
      "[I 250329 13:31:28 gyro_posterior:525] Wrote /ut3/jerome/.gyrointerp_cache/nexsci/DS Tuc A_Prot2.8500_Teff5428.0_limitgrid_defaultparameters.csv\n",
      "[I 250329 13:31:33 gyro_posterior:518] Wrote /ut3/jerome/.gyrointerp_cache/nexsci/IRAS 04125+2902_Prot11.3100_Teff4080.0_limitgrid_defaultparameters_posterior.csv\n",
      "[I 250329 13:31:33 gyro_posterior:525] Wrote /ut3/jerome/.gyrointerp_cache/nexsci/IRAS 04125+2902_Prot11.3100_Teff4080.0_limitgrid_defaultparameters.csv\n",
      "[I 250329 13:31:35 gyro_posterior:518] Wrote /ut3/jerome/.gyrointerp_cache/nexsci/TOI-1860_Prot4.4300_Teff5752.0_limitgrid_defaultparameters_posterior.csv\n",
      "[I 250329 13:31:35 gyro_posterior:525] Wrote /ut3/jerome/.gyrointerp_cache/nexsci/TOI-1860_Prot4.4300_Teff5752.0_limitgrid_defaultparameters.csv\n",
      "[I 250329 13:31:45 gyro_posterior:518] Wrote /ut3/jerome/.gyrointerp_cache/nexsci/TOI-5398_Prot7.3400_Teff6000.0_limitgrid_defaultparameters_posterior.csv\n",
      "[I 250329 13:31:45 gyro_posterior:525] Wrote /ut3/jerome/.gyrointerp_cache/nexsci/TOI-5398_Prot7.3400_Teff6000.0_limitgrid_defaultparameters.csv\n",
      "[I 250329 13:31:46 gyro_posterior:518] Wrote /ut3/jerome/.gyrointerp_cache/nexsci/HD 63433_Prot6.4500_Teff5688.0_limitgrid_defaultparameters_posterior.csv\n",
      "[I 250329 13:31:46 gyro_posterior:525] Wrote /ut3/jerome/.gyrointerp_cache/nexsci/HD 63433_Prot6.4500_Teff5688.0_limitgrid_defaultparameters.csv\n",
      "[I 250329 13:31:56 gyro_posterior:518] Wrote /ut3/jerome/.gyrointerp_cache/nexsci/Kepler-1643_Prot5.1060_Teff4916.0_limitgrid_defaultparameters_posterior.csv\n",
      "[I 250329 13:31:56 gyro_posterior:525] Wrote /ut3/jerome/.gyrointerp_cache/nexsci/Kepler-1643_Prot5.1060_Teff4916.0_limitgrid_defaultparameters.csv\n",
      "[I 250329 13:32:06 gyro_posterior:518] Wrote /ut3/jerome/.gyrointerp_cache/nexsci/Kepler-1928_Prot4.6900_Teff5720.0_limitgrid_defaultparameters_posterior.csv\n",
      "[I 250329 13:32:07 gyro_posterior:525] Wrote /ut3/jerome/.gyrointerp_cache/nexsci/Kepler-1928_Prot4.6900_Teff5720.0_limitgrid_defaultparameters.csv\n",
      "[I 250329 13:32:11 gyro_posterior:518] Wrote /ut3/jerome/.gyrointerp_cache/nexsci/KOI-7368_Prot2.6060_Teff5241.0_limitgrid_defaultparameters_posterior.csv\n",
      "[I 250329 13:32:11 gyro_posterior:525] Wrote /ut3/jerome/.gyrointerp_cache/nexsci/KOI-7368_Prot2.6060_Teff5241.0_limitgrid_defaultparameters.csv\n",
      "[I 250329 13:32:11 gyro_posterior:518] Wrote /ut3/jerome/.gyrointerp_cache/nexsci/K2-233_Prot9.7540_Teff5033.0_limitgrid_defaultparameters_posterior.csv\n",
      "[I 250329 13:32:11 gyro_posterior:525] Wrote /ut3/jerome/.gyrointerp_cache/nexsci/K2-233_Prot9.7540_Teff5033.0_limitgrid_defaultparameters.csv\n",
      "[I 250329 13:32:15 gyro_posterior:518] Wrote /ut3/jerome/.gyrointerp_cache/nexsci/HATS-57_Prot12.7100_Teff5587.0_limitgrid_defaultparameters_posterior.csv\n",
      "[I 250329 13:32:15 gyro_posterior:525] Wrote /ut3/jerome/.gyrointerp_cache/nexsci/HATS-57_Prot12.7100_Teff5587.0_limitgrid_defaultparameters.csv\n",
      "[I 250329 13:32:15 gyro_posterior:769] 2025-03-29T13:32:15.209438 end gyro_age_posterior_list\n",
      "[I 250329 13:32:15 gyro_posterior:775] Returning N=69 paths to posteriors.\n"
     ]
    }
   ],
   "source": [
    "from gyrointerp import gyro_age_posterior_list, get_summary_statistics\n",
    "import numpy as np\n",
    "\n",
    "Teffs = df_final.st_teff\n",
    "Teff_errs = df_final.st_tefferr\n",
    "Prots = df_final.st_rotp\n",
    "Prot_errs =df_final.st_rotperr\n",
    "# Let's pass optional star IDs to name the posterior csv files.\n",
    "star_ids = df_final.hostname\n",
    "\n",
    "# The output posteriors will be cached at ~/.gyrointerp_cache/{cache_id}\n",
    "cache_id = 'nexsci'\n",
    "\n",
    "#typically, Prot<17 has age < 1 Gy \n",
    "# but let's extrend the grid and bounds_error as per `code_gyro_interp.ipynb`\n",
    "age_grid = np.linspace(0, 5000, 500)\n",
    "\n",
    "print(f\"Running {len(star_ids)} targets...\")\n",
    "\n",
    "# This function will compute the posteriors, and cache them to CSV files\n",
    "csvpaths = gyro_age_posterior_list(\n",
    "    cache_id, \n",
    "    Prots, \n",
    "    Teffs, \n",
    "    Prot_errs=Prot_errs, \n",
    "    Teff_errs=Teff_errs,\n",
    "    star_ids=star_ids, \n",
    "    age_grid=age_grid, \n",
    "    bounds_error=\"4gyrextrap\",#\"4gyrlimit\",\n",
    "    interp_method=\"pchip_m67\"\n",
    ")"
   ]
  },
  {
   "cell_type": "code",
   "execution_count": 34,
   "id": "2463abf9-dd54-4ba3-882c-115e2e50254a",
   "metadata": {},
   "outputs": [],
   "source": [
    "# import custom code from the `code` directory\n",
    "import sys\n",
    "sys.path.insert(0, '../code')\n",
    "\n",
    "from kenmon import plot_age_posterior"
   ]
  },
  {
   "cell_type": "code",
   "execution_count": 143,
   "id": "6115711f-30ba-4be0-acca-2fe08a78ac99",
   "metadata": {},
   "outputs": [
    {
     "data": {
      "text/plain": [
       "[PosixPath('/ut3/jerome/.gyrointerp_cache/nexsci/HD 63433_Prot6.4500_Teff5688.0_limitgrid_defaultparameters_posterior.csv'),\n",
       " PosixPath('/ut3/jerome/.gyrointerp_cache/nexsci/K2-101_Prot10.6000_Teff4927.0_limitgrid_defaultparameters_posterior.csv'),\n",
       " PosixPath('/ut3/jerome/.gyrointerp_cache/nexsci/TOI-1295_Prot11.0000_Teff6280.0_limitgrid_defaultparameters_posterior.csv')]"
      ]
     },
     "execution_count": 143,
     "metadata": {},
     "output_type": "execute_result"
    }
   ],
   "source": [
    "from pathlib import Path\n",
    "\n",
    "outdir = 'nexsci'\n",
    "csvpaths = list(Path(f'/ut3/jerome/.gyrointerp_cache/{outdir}/').glob('*_posterior.csv'))\n",
    "csvpaths[:3]"
   ]
  },
  {
   "cell_type": "markdown",
   "id": "efe7375c-1664-4031-b4f5-e429dc25e03d",
   "metadata": {},
   "source": [
    "## read posteriors"
   ]
  },
  {
   "cell_type": "code",
   "execution_count": 112,
   "id": "3498d4e0-8c7a-4efe-ba06-753586fa34cc",
   "metadata": {},
   "outputs": [],
   "source": [
    "from kenmon import plot_age_posterior\n",
    "from gyrointerp import get_summary_statistics\n",
    "import numpy as np\n",
    "import pandas as pd\n",
    "import traceback\n",
    "\n",
    "outdir = 'nexsci'\n",
    "# Read the posteriors and print their summary statistics.\n",
    "results = {}\n",
    "for csvpath in sorted(csvpaths):\n",
    "    try:\n",
    "        parts = csvpath.name.split('/')[-1].split('_')\n",
    "        name = parts[0]\n",
    "        Prot = float(parts[1][4:])\n",
    "        Teff = float(parts[2][4:])\n",
    "        # read data\n",
    "        df = pd.read_csv(csvpath)\n",
    "        age_grid = df.age_grid.values\n",
    "        age_post = df.age_post.values\n",
    "        r = get_summary_statistics(age_grid, age_post)\n",
    "        if np.isfinite(r['median']):            \n",
    "            results[name] = {'Prot': Prot,\n",
    "                             'Teff': Teff,\n",
    "                             'age_med': r['median'],\n",
    "                             'age_lo': r['-1sigma'],\n",
    "                             'age_hi': r['+1sigma']\n",
    "            }\n",
    "            if True:\n",
    "                # plot\n",
    "                xlim = (r['median']-r['-3sigma'], r['median']+r['+3sigma'])\n",
    "                # msg = f\"Age = {r['median']} +{r['+1sigma']} -{r['-1sigma']} Myr.\"\n",
    "                # print(f\"Teff {int(Teff)} Prot {Prot:.2f} {msg}\")\n",
    "\n",
    "                fig = plot_age_posterior(name, Prot, Teff, age_post, r, age_grid, xlim=xlim)\n",
    "                # save plot\n",
    "                fp = f'{outdir}/{name}_age_gyro.png'\n",
    "                fig.savefig(fp, bbox_inches='tight')     \n",
    "                plt.close(fig)\n",
    "        results = pd.DataFrame(results)\n",
    "    except Exception as e:\n",
    "        print(name,e)\n",
    "        print(traceback.format_exc())\n",
    "        break"
   ]
  },
  {
   "cell_type": "code",
   "execution_count": 113,
   "id": "f1e2a3f1-e7a5-4275-8d5f-6dc12c9c5a56",
   "metadata": {},
   "outputs": [
    {
     "data": {
      "text/html": [
       "<div>\n",
       "<style scoped>\n",
       "    .dataframe tbody tr th:only-of-type {\n",
       "        vertical-align: middle;\n",
       "    }\n",
       "\n",
       "    .dataframe tbody tr th {\n",
       "        vertical-align: top;\n",
       "    }\n",
       "\n",
       "    .dataframe thead th {\n",
       "        text-align: right;\n",
       "    }\n",
       "</style>\n",
       "<table border=\"1\" class=\"dataframe\">\n",
       "  <thead>\n",
       "    <tr style=\"text-align: right;\">\n",
       "      <th></th>\n",
       "      <th>Prot</th>\n",
       "      <th>Teff</th>\n",
       "      <th>age_med</th>\n",
       "      <th>age_lo</th>\n",
       "      <th>age_hi</th>\n",
       "    </tr>\n",
       "  </thead>\n",
       "  <tbody>\n",
       "    <tr>\n",
       "      <th>CoRoT-18</th>\n",
       "      <td>5.40</td>\n",
       "      <td>5440.0</td>\n",
       "      <td>201.19</td>\n",
       "      <td>104.99</td>\n",
       "      <td>117.39</td>\n",
       "    </tr>\n",
       "    <tr>\n",
       "      <th>CoRoT-6</th>\n",
       "      <td>6.40</td>\n",
       "      <td>6090.0</td>\n",
       "      <td>1163.29</td>\n",
       "      <td>428.57</td>\n",
       "      <td>642.75</td>\n",
       "    </tr>\n",
       "    <tr>\n",
       "      <th>DS Tuc A</th>\n",
       "      <td>2.85</td>\n",
       "      <td>5428.0</td>\n",
       "      <td>77.28</td>\n",
       "      <td>52.77</td>\n",
       "      <td>147.72</td>\n",
       "    </tr>\n",
       "    <tr>\n",
       "      <th>EPIC 211822797</th>\n",
       "      <td>14.60</td>\n",
       "      <td>4057.0</td>\n",
       "      <td>1179.63</td>\n",
       "      <td>510.55</td>\n",
       "      <td>475.60</td>\n",
       "    </tr>\n",
       "    <tr>\n",
       "      <th>HATS-18</th>\n",
       "      <td>9.80</td>\n",
       "      <td>5600.0</td>\n",
       "      <td>844.68</td>\n",
       "      <td>100.44</td>\n",
       "      <td>120.39</td>\n",
       "    </tr>\n",
       "  </tbody>\n",
       "</table>\n",
       "</div>"
      ],
      "text/plain": [
       "                 Prot    Teff  age_med  age_lo  age_hi\n",
       "CoRoT-18         5.40  5440.0   201.19  104.99  117.39\n",
       "CoRoT-6          6.40  6090.0  1163.29  428.57  642.75\n",
       "DS Tuc A         2.85  5428.0    77.28   52.77  147.72\n",
       "EPIC 211822797  14.60  4057.0  1179.63  510.55  475.60\n",
       "HATS-18          9.80  5600.0   844.68  100.44  120.39"
      ]
     },
     "execution_count": 113,
     "metadata": {},
     "output_type": "execute_result"
    }
   ],
   "source": [
    "results.T.head()"
   ]
  },
  {
   "cell_type": "code",
   "execution_count": 114,
   "id": "78072382-a96a-4f16-9be0-c2bb814bfb30",
   "metadata": {},
   "outputs": [],
   "source": [
    "results.T.to_csv(f'{outdir}/{outdir}_gyro_results.csv')"
   ]
  },
  {
   "cell_type": "markdown",
   "id": "3114fdbf-e87b-42a2-831e-a9ae1f7c1481",
   "metadata": {},
   "source": [
    "## Exercise"
   ]
  },
  {
   "cell_type": "markdown",
   "id": "1cf3e819-1cb6-4e65-8fe3-c8403dcc0813",
   "metadata": {},
   "source": [
    "* compare the age from gyro-interp with results from other methods"
   ]
  },
  {
   "cell_type": "code",
   "execution_count": 116,
   "id": "e2a27ed5-b1d5-4e28-957d-f1e664665f71",
   "metadata": {},
   "outputs": [
    {
     "name": "stdout",
     "output_type": "stream",
     "text": [
      "Column definitions:  https://exoplanetarchive.ipac.caltech.edu/docs/API_PS_columns.html\n",
      "Loaded:  ../data/nexsci_pscomppars.csv\n"
     ]
    },
    {
     "data": {
      "text/html": [
       "<div>\n",
       "<style scoped>\n",
       "    .dataframe tbody tr th:only-of-type {\n",
       "        vertical-align: middle;\n",
       "    }\n",
       "\n",
       "    .dataframe tbody tr th {\n",
       "        vertical-align: top;\n",
       "    }\n",
       "\n",
       "    .dataframe thead th {\n",
       "        text-align: right;\n",
       "    }\n",
       "</style>\n",
       "<table border=\"1\" class=\"dataframe\">\n",
       "  <thead>\n",
       "    <tr style=\"text-align: right;\">\n",
       "      <th></th>\n",
       "      <th>hostname</th>\n",
       "      <th>st_teff</th>\n",
       "      <th>st_tefferr1</th>\n",
       "      <th>st_tefferr2</th>\n",
       "      <th>st_rotp</th>\n",
       "      <th>st_rotperr1</th>\n",
       "      <th>st_rotperr2</th>\n",
       "      <th>st_age</th>\n",
       "      <th>st_ageerr1</th>\n",
       "      <th>st_ageerr2</th>\n",
       "      <th>st_age_reflink</th>\n",
       "      <th>st_rotperr</th>\n",
       "      <th>st_tefferr</th>\n",
       "    </tr>\n",
       "  </thead>\n",
       "  <tbody>\n",
       "    <tr>\n",
       "      <th>0</th>\n",
       "      <td>TOI-1260</td>\n",
       "      <td>4227.0</td>\n",
       "      <td>85.00</td>\n",
       "      <td>-85.00</td>\n",
       "      <td>30.630</td>\n",
       "      <td>3.810</td>\n",
       "      <td>-3.810</td>\n",
       "      <td>6.70</td>\n",
       "      <td>5.10</td>\n",
       "      <td>-5.20</td>\n",
       "      <td>&lt;a refstr=LAM_ET_AL__2022 href=https://ui.adsa...</td>\n",
       "      <td>3.810</td>\n",
       "      <td>85.000000</td>\n",
       "    </tr>\n",
       "    <tr>\n",
       "      <th>1</th>\n",
       "      <td>K2-350</td>\n",
       "      <td>5789.0</td>\n",
       "      <td>46.00</td>\n",
       "      <td>-50.00</td>\n",
       "      <td>8.220</td>\n",
       "      <td>0.470</td>\n",
       "      <td>-0.470</td>\n",
       "      <td>NaN</td>\n",
       "      <td>NaN</td>\n",
       "      <td>NaN</td>\n",
       "      <td>NaN</td>\n",
       "      <td>0.470</td>\n",
       "      <td>67.941151</td>\n",
       "    </tr>\n",
       "    <tr>\n",
       "      <th>2</th>\n",
       "      <td>K2-332</td>\n",
       "      <td>3315.0</td>\n",
       "      <td>137.00</td>\n",
       "      <td>-152.00</td>\n",
       "      <td>31.710</td>\n",
       "      <td>3.600</td>\n",
       "      <td>-3.600</td>\n",
       "      <td>NaN</td>\n",
       "      <td>NaN</td>\n",
       "      <td>NaN</td>\n",
       "      <td>NaN</td>\n",
       "      <td>3.600</td>\n",
       "      <td>204.628932</td>\n",
       "    </tr>\n",
       "    <tr>\n",
       "      <th>3</th>\n",
       "      <td>TOI-1470</td>\n",
       "      <td>3709.0</td>\n",
       "      <td>11.00</td>\n",
       "      <td>-11.00</td>\n",
       "      <td>29.000</td>\n",
       "      <td>3.000</td>\n",
       "      <td>-3.000</td>\n",
       "      <td>1.30</td>\n",
       "      <td>0.70</td>\n",
       "      <td>-0.70</td>\n",
       "      <td>&lt;a refstr=GONZ_AACUTE_LEZ__AACUTE_LVAREZ_ET_AL...</td>\n",
       "      <td>3.000</td>\n",
       "      <td>11.000000</td>\n",
       "    </tr>\n",
       "    <tr>\n",
       "      <th>4</th>\n",
       "      <td>LTT 3780</td>\n",
       "      <td>3358.0</td>\n",
       "      <td>92.00</td>\n",
       "      <td>-92.00</td>\n",
       "      <td>104.000</td>\n",
       "      <td>15.000</td>\n",
       "      <td>-15.000</td>\n",
       "      <td>3.10</td>\n",
       "      <td>6.20</td>\n",
       "      <td>-0.98</td>\n",
       "      <td>&lt;a refstr=BONFANTI_ET_AL__2024 href=https://ui...</td>\n",
       "      <td>15.000</td>\n",
       "      <td>92.000000</td>\n",
       "    </tr>\n",
       "    <tr>\n",
       "      <th>...</th>\n",
       "      <td>...</td>\n",
       "      <td>...</td>\n",
       "      <td>...</td>\n",
       "      <td>...</td>\n",
       "      <td>...</td>\n",
       "      <td>...</td>\n",
       "      <td>...</td>\n",
       "      <td>...</td>\n",
       "      <td>...</td>\n",
       "      <td>...</td>\n",
       "      <td>...</td>\n",
       "      <td>...</td>\n",
       "      <td>...</td>\n",
       "    </tr>\n",
       "    <tr>\n",
       "      <th>287</th>\n",
       "      <td>HD 15337</td>\n",
       "      <td>5131.0</td>\n",
       "      <td>74.00</td>\n",
       "      <td>-74.00</td>\n",
       "      <td>36.528</td>\n",
       "      <td>0.022</td>\n",
       "      <td>-0.022</td>\n",
       "      <td>9.60</td>\n",
       "      <td>3.80</td>\n",
       "      <td>-3.90</td>\n",
       "      <td>&lt;a refstr=ROS_AMP_AACUTE_RIO_ET_AL__2024 href=...</td>\n",
       "      <td>0.022</td>\n",
       "      <td>74.000000</td>\n",
       "    </tr>\n",
       "    <tr>\n",
       "      <th>288</th>\n",
       "      <td>TRAPPIST-1</td>\n",
       "      <td>2566.0</td>\n",
       "      <td>26.00</td>\n",
       "      <td>-26.00</td>\n",
       "      <td>1.400</td>\n",
       "      <td>0.050</td>\n",
       "      <td>-0.050</td>\n",
       "      <td>0.50</td>\n",
       "      <td>NaN</td>\n",
       "      <td>NaN</td>\n",
       "      <td>&lt;a refstr=GILLON_ET_AL__2016 href=https://ui.a...</td>\n",
       "      <td>0.050</td>\n",
       "      <td>26.000000</td>\n",
       "    </tr>\n",
       "    <tr>\n",
       "      <th>289</th>\n",
       "      <td>WASP-19</td>\n",
       "      <td>5616.0</td>\n",
       "      <td>66.00</td>\n",
       "      <td>-65.00</td>\n",
       "      <td>10.500</td>\n",
       "      <td>0.200</td>\n",
       "      <td>-0.200</td>\n",
       "      <td>6.40</td>\n",
       "      <td>4.10</td>\n",
       "      <td>-3.50</td>\n",
       "      <td>&lt;a refstr=CORT_EACUTE_S_ZULETA_ET_AL__2020 hre...</td>\n",
       "      <td>0.200</td>\n",
       "      <td>92.633687</td>\n",
       "    </tr>\n",
       "    <tr>\n",
       "      <th>290</th>\n",
       "      <td>EPIC 201595106</td>\n",
       "      <td>5679.0</td>\n",
       "      <td>60.00</td>\n",
       "      <td>-39.00</td>\n",
       "      <td>28.000</td>\n",
       "      <td>1.400</td>\n",
       "      <td>-1.400</td>\n",
       "      <td>6.00</td>\n",
       "      <td>2.60</td>\n",
       "      <td>-2.90</td>\n",
       "      <td>&lt;a refstr=LIVINGSTON_ET_AL__2024 href=https://...</td>\n",
       "      <td>1.400</td>\n",
       "      <td>71.561163</td>\n",
       "    </tr>\n",
       "    <tr>\n",
       "      <th>291</th>\n",
       "      <td>Kepler-974</td>\n",
       "      <td>3687.0</td>\n",
       "      <td>38.83</td>\n",
       "      <td>-36.96</td>\n",
       "      <td>34.500</td>\n",
       "      <td>1.000</td>\n",
       "      <td>-1.000</td>\n",
       "      <td>4.37</td>\n",
       "      <td>5.75</td>\n",
       "      <td>-2.62</td>\n",
       "      <td>&lt;a refstr=MORTON_ET_AL__2016 href=https://ui.a...</td>\n",
       "      <td>1.000</td>\n",
       "      <td>53.607933</td>\n",
       "    </tr>\n",
       "  </tbody>\n",
       "</table>\n",
       "<p>292 rows × 13 columns</p>\n",
       "</div>"
      ],
      "text/plain": [
       "           hostname  st_teff  st_tefferr1  st_tefferr2  st_rotp  st_rotperr1  \\\n",
       "0          TOI-1260   4227.0        85.00       -85.00   30.630        3.810   \n",
       "1            K2-350   5789.0        46.00       -50.00    8.220        0.470   \n",
       "2            K2-332   3315.0       137.00      -152.00   31.710        3.600   \n",
       "3          TOI-1470   3709.0        11.00       -11.00   29.000        3.000   \n",
       "4          LTT 3780   3358.0        92.00       -92.00  104.000       15.000   \n",
       "..              ...      ...          ...          ...      ...          ...   \n",
       "287        HD 15337   5131.0        74.00       -74.00   36.528        0.022   \n",
       "288      TRAPPIST-1   2566.0        26.00       -26.00    1.400        0.050   \n",
       "289         WASP-19   5616.0        66.00       -65.00   10.500        0.200   \n",
       "290  EPIC 201595106   5679.0        60.00       -39.00   28.000        1.400   \n",
       "291      Kepler-974   3687.0        38.83       -36.96   34.500        1.000   \n",
       "\n",
       "     st_rotperr2  st_age  st_ageerr1  st_ageerr2  \\\n",
       "0         -3.810    6.70        5.10       -5.20   \n",
       "1         -0.470     NaN         NaN         NaN   \n",
       "2         -3.600     NaN         NaN         NaN   \n",
       "3         -3.000    1.30        0.70       -0.70   \n",
       "4        -15.000    3.10        6.20       -0.98   \n",
       "..           ...     ...         ...         ...   \n",
       "287       -0.022    9.60        3.80       -3.90   \n",
       "288       -0.050    0.50         NaN         NaN   \n",
       "289       -0.200    6.40        4.10       -3.50   \n",
       "290       -1.400    6.00        2.60       -2.90   \n",
       "291       -1.000    4.37        5.75       -2.62   \n",
       "\n",
       "                                        st_age_reflink  st_rotperr  st_tefferr  \n",
       "0    <a refstr=LAM_ET_AL__2022 href=https://ui.adsa...       3.810   85.000000  \n",
       "1                                                  NaN       0.470   67.941151  \n",
       "2                                                  NaN       3.600  204.628932  \n",
       "3    <a refstr=GONZ_AACUTE_LEZ__AACUTE_LVAREZ_ET_AL...       3.000   11.000000  \n",
       "4    <a refstr=BONFANTI_ET_AL__2024 href=https://ui...      15.000   92.000000  \n",
       "..                                                 ...         ...         ...  \n",
       "287  <a refstr=ROS_AMP_AACUTE_RIO_ET_AL__2024 href=...       0.022   74.000000  \n",
       "288  <a refstr=GILLON_ET_AL__2016 href=https://ui.a...       0.050   26.000000  \n",
       "289  <a refstr=CORT_EACUTE_S_ZULETA_ET_AL__2020 hre...       0.200   92.633687  \n",
       "290  <a refstr=LIVINGSTON_ET_AL__2024 href=https://...       1.400   71.561163  \n",
       "291  <a refstr=MORTON_ET_AL__2016 href=https://ui.a...       1.000   53.607933  \n",
       "\n",
       "[292 rows x 13 columns]"
      ]
     },
     "execution_count": 116,
     "metadata": {},
     "output_type": "execute_result"
    }
   ],
   "source": [
    "from kenmon import get_nexsci_data\n",
    "import numpy as np\n",
    "\n",
    "df = get_nexsci_data(table_name='pscomppars', clobber=False)\n",
    "df = df.drop_duplicates(subset='hostname', keep='first')\n",
    "cols = ['hostname', \n",
    "        'st_teff','st_tefferr1','st_tefferr2',\n",
    "        'st_rotp','st_rotperr1','st_rotperr2',\n",
    "       ]\n",
    "cols2 = ['st_age', 'st_ageerr1', 'st_ageerr2', 'st_age_reflink']\n",
    "df = df.dropna(subset=cols)[cols+cols2]\n",
    "df['st_rotperr'] = df.apply(lambda x: x.st_rotperr1 \n",
    "                            if x.st_rotperr1+x.st_rotperr2==0 \n",
    "                            else np.sqrt(x.st_rotperr1**2 + x.st_rotperr2**2), \n",
    "                            axis=1)\n",
    "df['st_tefferr'] = df.apply(lambda x: x.st_tefferr1 \n",
    "                            if x.st_tefferr1+x.st_tefferr2==0 \n",
    "                            else np.sqrt(x.st_tefferr1**2 + x.st_tefferr2**2), \n",
    "                            axis=1)\n",
    "df = df.reset_index(drop=True)\n",
    "df"
   ]
  },
  {
   "cell_type": "code",
   "execution_count": 117,
   "id": "93d56074-1409-4cbb-a5fe-863b3072a5f9",
   "metadata": {},
   "outputs": [
    {
     "data": {
      "text/plain": [
       "(55, 6)"
      ]
     },
     "execution_count": 117,
     "metadata": {},
     "output_type": "execute_result"
    }
   ],
   "source": [
    "outdir = 'nexsci'\n",
    "gyro_age = pd.read_csv(f'{outdir}/{outdir}_gyro_results.csv', index_col=0)\n",
    "gyro_age = gyro_age.reset_index(names='hostname')\n",
    "gyro_age.shape"
   ]
  },
  {
   "cell_type": "code",
   "execution_count": 118,
   "id": "9a8a89e1-c59e-4ffb-9e71-f88c13271e40",
   "metadata": {},
   "outputs": [
    {
     "data": {
      "text/plain": [
       "(55, 13)"
      ]
     },
     "execution_count": 118,
     "metadata": {},
     "output_type": "execute_result"
    }
   ],
   "source": [
    "# filter\n",
    "df = df[df.hostname.isin(gyro_age.hostname)]\n",
    "df.shape"
   ]
  },
  {
   "cell_type": "code",
   "execution_count": 128,
   "id": "58f2326f-3b2e-4898-bd51-2c90710a55d8",
   "metadata": {},
   "outputs": [],
   "source": [
    "# make sure \n",
    "assert len(gyro_age[~gyro_age.hostname.isin(df.hostname)])==0"
   ]
  },
  {
   "cell_type": "code",
   "execution_count": 119,
   "id": "68178ea9-4837-4d20-b31d-ec403904e411",
   "metadata": {},
   "outputs": [
    {
     "data": {
      "text/plain": [
       "(55,)"
      ]
     },
     "execution_count": 119,
     "metadata": {},
     "output_type": "execute_result"
    }
   ],
   "source": [
    "df.hostname.unique().shape"
   ]
  },
  {
   "cell_type": "code",
   "execution_count": 120,
   "id": "5ecc1e0e-f55f-4af5-af0f-d140d6c36d7f",
   "metadata": {},
   "outputs": [
    {
     "data": {
      "text/html": [
       "<div>\n",
       "<style scoped>\n",
       "    .dataframe tbody tr th:only-of-type {\n",
       "        vertical-align: middle;\n",
       "    }\n",
       "\n",
       "    .dataframe tbody tr th {\n",
       "        vertical-align: top;\n",
       "    }\n",
       "\n",
       "    .dataframe thead th {\n",
       "        text-align: right;\n",
       "    }\n",
       "</style>\n",
       "<table border=\"1\" class=\"dataframe\">\n",
       "  <thead>\n",
       "    <tr style=\"text-align: right;\">\n",
       "      <th></th>\n",
       "      <th>hostname</th>\n",
       "      <th>Prot</th>\n",
       "      <th>Teff</th>\n",
       "      <th>age_med</th>\n",
       "      <th>age_lo</th>\n",
       "      <th>age_hi</th>\n",
       "    </tr>\n",
       "  </thead>\n",
       "  <tbody>\n",
       "    <tr>\n",
       "      <th>0</th>\n",
       "      <td>CoRoT-18</td>\n",
       "      <td>5.40</td>\n",
       "      <td>5440.0</td>\n",
       "      <td>201.19</td>\n",
       "      <td>104.99</td>\n",
       "      <td>117.39</td>\n",
       "    </tr>\n",
       "    <tr>\n",
       "      <th>1</th>\n",
       "      <td>CoRoT-6</td>\n",
       "      <td>6.40</td>\n",
       "      <td>6090.0</td>\n",
       "      <td>1163.29</td>\n",
       "      <td>428.57</td>\n",
       "      <td>642.75</td>\n",
       "    </tr>\n",
       "    <tr>\n",
       "      <th>2</th>\n",
       "      <td>DS Tuc A</td>\n",
       "      <td>2.85</td>\n",
       "      <td>5428.0</td>\n",
       "      <td>77.28</td>\n",
       "      <td>52.77</td>\n",
       "      <td>147.72</td>\n",
       "    </tr>\n",
       "    <tr>\n",
       "      <th>3</th>\n",
       "      <td>EPIC 211822797</td>\n",
       "      <td>14.60</td>\n",
       "      <td>4057.0</td>\n",
       "      <td>1179.63</td>\n",
       "      <td>510.55</td>\n",
       "      <td>475.60</td>\n",
       "    </tr>\n",
       "    <tr>\n",
       "      <th>4</th>\n",
       "      <td>HATS-18</td>\n",
       "      <td>9.80</td>\n",
       "      <td>5600.0</td>\n",
       "      <td>844.68</td>\n",
       "      <td>100.44</td>\n",
       "      <td>120.39</td>\n",
       "    </tr>\n",
       "  </tbody>\n",
       "</table>\n",
       "</div>"
      ],
      "text/plain": [
       "         hostname   Prot    Teff  age_med  age_lo  age_hi\n",
       "0        CoRoT-18   5.40  5440.0   201.19  104.99  117.39\n",
       "1         CoRoT-6   6.40  6090.0  1163.29  428.57  642.75\n",
       "2        DS Tuc A   2.85  5428.0    77.28   52.77  147.72\n",
       "3  EPIC 211822797  14.60  4057.0  1179.63  510.55  475.60\n",
       "4         HATS-18   9.80  5600.0   844.68  100.44  120.39"
      ]
     },
     "execution_count": 120,
     "metadata": {},
     "output_type": "execute_result"
    }
   ],
   "source": [
    "gyro_age.head()"
   ]
  },
  {
   "cell_type": "raw",
   "id": "000323a0-6f26-49ef-a4e4-51580ee5ca3b",
   "metadata": {},
   "source": [
    "cols = ['hostname','st_age','st_ageerr1','st_ageerr2','st_age_reflink']\n",
    "df[cols].head()"
   ]
  },
  {
   "cell_type": "code",
   "execution_count": 121,
   "id": "e7317fb2-5058-40fe-a5cd-aff6857f3076",
   "metadata": {},
   "outputs": [
    {
     "data": {
      "text/html": [
       "<div>\n",
       "<style scoped>\n",
       "    .dataframe tbody tr th:only-of-type {\n",
       "        vertical-align: middle;\n",
       "    }\n",
       "\n",
       "    .dataframe tbody tr th {\n",
       "        vertical-align: top;\n",
       "    }\n",
       "\n",
       "    .dataframe thead th {\n",
       "        text-align: right;\n",
       "    }\n",
       "</style>\n",
       "<table border=\"1\" class=\"dataframe\">\n",
       "  <thead>\n",
       "    <tr style=\"text-align: right;\">\n",
       "      <th></th>\n",
       "      <th>hostname</th>\n",
       "      <th>st_teff</th>\n",
       "      <th>st_tefferr1</th>\n",
       "      <th>st_tefferr2</th>\n",
       "      <th>st_rotp</th>\n",
       "      <th>st_rotperr1</th>\n",
       "      <th>st_rotperr2</th>\n",
       "    </tr>\n",
       "  </thead>\n",
       "  <tbody>\n",
       "    <tr>\n",
       "      <th>235</th>\n",
       "      <td>K2-100</td>\n",
       "      <td>5945.0</td>\n",
       "      <td>110.0</td>\n",
       "      <td>-110.0</td>\n",
       "      <td>4.3</td>\n",
       "      <td>0.1</td>\n",
       "      <td>-0.1</td>\n",
       "    </tr>\n",
       "  </tbody>\n",
       "</table>\n",
       "</div>"
      ],
      "text/plain": [
       "    hostname  st_teff  st_tefferr1  st_tefferr2  st_rotp  st_rotperr1  \\\n",
       "235   K2-100   5945.0        110.0       -110.0      4.3          0.1   \n",
       "\n",
       "     st_rotperr2  \n",
       "235         -0.1  "
      ]
     },
     "execution_count": 121,
     "metadata": {},
     "output_type": "execute_result"
    }
   ],
   "source": [
    "df.query(\"hostname=='K2-100'\")[cols]"
   ]
  },
  {
   "cell_type": "code",
   "execution_count": 122,
   "id": "b790dc5f-48e5-4a73-8cb6-9ccee10c186f",
   "metadata": {},
   "outputs": [
    {
     "data": {
      "text/plain": [
       "(55, 13)"
      ]
     },
     "execution_count": 122,
     "metadata": {},
     "output_type": "execute_result"
    }
   ],
   "source": [
    "df.shape"
   ]
  },
  {
   "cell_type": "raw",
   "id": "597aed53-399a-47eb-b5ae-2fbac2549b19",
   "metadata": {},
   "source": [
    "pd.merge(gyro_age,df,on='hostname')[['Teff','st_teff']]"
   ]
  },
  {
   "cell_type": "code",
   "execution_count": 123,
   "id": "6d9e9249-1f8d-458f-8af0-cf7f22c7109e",
   "metadata": {},
   "outputs": [
    {
     "data": {
      "image/png": "[encoded data removed]",
      "text/plain": [
       "<Figure size 640x480 with 1 Axes>"
      ]
     },
     "metadata": {},
     "output_type": "display_data"
    }
   ],
   "source": [
    "import matplotlib.pyplot as plt\n",
    "\n",
    "x = df.hostname\n",
    "y = df.st_age\n",
    "yerr1 = abs(df.st_ageerr2)\n",
    "yerr2 = df.st_ageerr1 \n",
    "plt.errorbar(x, y, yerr=[yerr1, yerr2], marker='o', ls='')\n",
    "plt.xticks(rotation=90);\n",
    "# plt.yscale('log')\n",
    "plt.ylabel('Age [Gyr]')\n",
    "plt.ylim(0.01, 3)\n",
    "plt.grid()"
   ]
  },
  {
   "cell_type": "code",
   "execution_count": 82,
   "id": "beb66f69-68e0-4600-97f0-effcdd638365",
   "metadata": {},
   "outputs": [
    {
     "data": {
      "image/png": "[encoded data removed]",
      "text/plain": [
       "<Figure size 640x480 with 1 Axes>"
      ]
     },
     "metadata": {},
     "output_type": "display_data"
    }
   ],
   "source": [
    "x = gyro_age.hostname\n",
    "y = gyro_age.age_med/1e3\n",
    "yerr1 = gyro_age.age_lo/1e3\n",
    "yerr2 = gyro_age.age_hi/1e3\n",
    "plt.errorbar(x, y, yerr=[yerr1, yerr2], marker='o', ls='')\n",
    "plt.xticks(rotation=90);\n",
    "plt.ylabel('Age [Gyr]')\n",
    "plt.ylim(0.01, 3)\n",
    "plt.grid()"
   ]
  },
  {
   "cell_type": "markdown",
   "id": "222e0017-6268-4c99-a01e-82f5b5580e13",
   "metadata": {},
   "source": [
    "## comparison"
   ]
  },
  {
   "cell_type": "code",
   "execution_count": 137,
   "id": "8bc54db4-7235-440b-96cd-8ae1b7637ee3",
   "metadata": {},
   "outputs": [
    {
     "data": {
      "text/plain": [
       "<matplotlib.legend.Legend at 0x7fe1bb42a800>"
      ]
     },
     "execution_count": 137,
     "metadata": {},
     "output_type": "execute_result"
    },
    {
     "data": {
      "image/png": "[encoded data removed]",
      "text/plain": [
       "<Figure size 1000x600 with 1 Axes>"
      ]
     },
     "metadata": {},
     "output_type": "display_data"
    }
   ],
   "source": [
    "import numpy as np\n",
    "import matplotlib.pyplot as plt\n",
    "\n",
    "fig = plt.figure(figsize=(10, 6))\n",
    "\n",
    "# Combine hostnames and create x-axis positions\n",
    "all_hostnames = np.unique(np.concatenate([df.hostname, gyro_age.hostname]))\n",
    "x_pos = {name: i for i, name in enumerate(all_hostnames)}\n",
    "\n",
    "# nexsci\n",
    "x_vals_nexsci = np.array([x_pos[name] for name in df.hostname])\n",
    "y = df.st_age\n",
    "yerr1 = abs(df.st_ageerr2)\n",
    "yerr2 = df.st_ageerr1\n",
    "plt.errorbar(x_vals_nexsci - 0.1, y, yerr=[yerr1, yerr2], marker='o', ls='', label='nexsci')\n",
    "\n",
    "# this work\n",
    "x_vals_gyro = np.array([x_pos[name] for name in gyro_age.hostname])\n",
    "y = gyro_age.age_med / 1e3\n",
    "yerr1 = gyro_age.age_lo / 1e3\n",
    "yerr2 = gyro_age.age_hi / 1e3\n",
    "plt.errorbar(x_vals_gyro + 0.1, y, yerr=[yerr1, yerr2], marker='o', ls='', label='gyro')\n",
    "\n",
    "# Adjust x-axis labels\n",
    "plt.xticks(range(len(all_hostnames)), all_hostnames, rotation=90)\n",
    "plt.ylabel('Age [Gyr]')\n",
    "plt.ylim(0.01, 5)\n",
    "plt.grid()\n",
    "plt.legend()"
   ]
  },
  {
   "cell_type": "code",
   "execution_count": 138,
   "id": "cf48a149-1e29-431a-8887-15a2bc41451a",
   "metadata": {},
   "outputs": [
    {
     "data": {
      "image/png": "[encoded data removed]",
      "text/plain": [
       "<Figure size 640x480 with 1 Axes>"
      ]
     },
     "metadata": {},
     "output_type": "display_data"
    }
   ],
   "source": [
    "ax = pd.merge(df, gyro_age, on='hostname')[['st_age','age_med']].diff()['age_med'].hist()\n",
    "ax.set_xlabel('Age diff [Myr]');"
   ]
  },
  {
   "cell_type": "code",
   "execution_count": 139,
   "id": "7aff5132-e060-4d4b-bea5-8ddfb182e0d9",
   "metadata": {},
   "outputs": [
    {
     "data": {
      "text/html": [
       "<div>\n",
       "<style scoped>\n",
       "    .dataframe tbody tr th:only-of-type {\n",
       "        vertical-align: middle;\n",
       "    }\n",
       "\n",
       "    .dataframe tbody tr th {\n",
       "        vertical-align: top;\n",
       "    }\n",
       "\n",
       "    .dataframe thead th {\n",
       "        text-align: right;\n",
       "    }\n",
       "</style>\n",
       "<table border=\"1\" class=\"dataframe\">\n",
       "  <thead>\n",
       "    <tr style=\"text-align: right;\">\n",
       "      <th></th>\n",
       "      <th>hostname</th>\n",
       "      <th>st_teff</th>\n",
       "      <th>st_tefferr1</th>\n",
       "      <th>st_tefferr2</th>\n",
       "      <th>st_rotp</th>\n",
       "      <th>st_rotperr1</th>\n",
       "      <th>st_rotperr2</th>\n",
       "    </tr>\n",
       "  </thead>\n",
       "  <tbody>\n",
       "    <tr>\n",
       "      <th>235</th>\n",
       "      <td>K2-100</td>\n",
       "      <td>5945.0</td>\n",
       "      <td>110.0</td>\n",
       "      <td>-110.0</td>\n",
       "      <td>4.3</td>\n",
       "      <td>0.1</td>\n",
       "      <td>-0.1</td>\n",
       "    </tr>\n",
       "  </tbody>\n",
       "</table>\n",
       "</div>"
      ],
      "text/plain": [
       "    hostname  st_teff  st_tefferr1  st_tefferr2  st_rotp  st_rotperr1  \\\n",
       "235   K2-100   5945.0        110.0       -110.0      4.3          0.1   \n",
       "\n",
       "     st_rotperr2  \n",
       "235         -0.1  "
      ]
     },
     "execution_count": 139,
     "metadata": {},
     "output_type": "execute_result"
    }
   ],
   "source": [
    "name = 'K2-100'\n",
    "df.query(\"hostname==@name\")[cols]"
   ]
  },
  {
   "cell_type": "code",
   "execution_count": 140,
   "id": "5e33adc2-97f3-419e-b78b-84180b525fdf",
   "metadata": {},
   "outputs": [
    {
     "data": {
      "text/html": [
       "<div>\n",
       "<style scoped>\n",
       "    .dataframe tbody tr th:only-of-type {\n",
       "        vertical-align: middle;\n",
       "    }\n",
       "\n",
       "    .dataframe tbody tr th {\n",
       "        vertical-align: top;\n",
       "    }\n",
       "\n",
       "    .dataframe thead th {\n",
       "        text-align: right;\n",
       "    }\n",
       "</style>\n",
       "<table border=\"1\" class=\"dataframe\">\n",
       "  <thead>\n",
       "    <tr style=\"text-align: right;\">\n",
       "      <th></th>\n",
       "      <th>hostname</th>\n",
       "      <th>age_med</th>\n",
       "      <th>age_lo</th>\n",
       "      <th>age_hi</th>\n",
       "    </tr>\n",
       "  </thead>\n",
       "  <tbody>\n",
       "    <tr>\n",
       "      <th>18</th>\n",
       "      <td>K2-100</td>\n",
       "      <td>298.71</td>\n",
       "      <td>102.59</td>\n",
       "      <td>131.42</td>\n",
       "    </tr>\n",
       "  </tbody>\n",
       "</table>\n",
       "</div>"
      ],
      "text/plain": [
       "   hostname  age_med  age_lo  age_hi\n",
       "18   K2-100   298.71  102.59  131.42"
      ]
     },
     "execution_count": 140,
     "metadata": {},
     "output_type": "execute_result"
    }
   ],
   "source": [
    "cols2 = ['hostname','age_med','age_lo','age_hi']\n",
    "gyro_age.query(\"hostname==@name\")[cols2]"
   ]
  },
  {
   "cell_type": "code",
   "execution_count": 141,
   "id": "361febaf-4045-4697-944d-eba7c834a7aa",
   "metadata": {},
   "outputs": [
    {
     "data": {
      "text/plain": [
       "<matplotlib.legend.Legend at 0x7fe1bff36fe0>"
      ]
     },
     "execution_count": 141,
     "metadata": {},
     "output_type": "execute_result"
    },
    {
     "data": {
      "image/png": "[encoded data removed]",
      "text/plain": [
       "<Figure size 640x480 with 2 Axes>"
      ]
     },
     "metadata": {},
     "output_type": "display_data"
    }
   ],
   "source": [
    "from gyrointerp.models import slow_sequence\n",
    "from matplotlib.colors import ListedColormap\n",
    "import numpy as np\n",
    "\n",
    "tmin, tmax = gyro_age.age_med.min(), gyro_age.age_med.max()\n",
    "Tmin, Tmax = 3800, 6200\n",
    "slow_seq_ages = [round(tmin/100)*100,\n",
    "                 500,\n",
    "                 1000,\n",
    "                 round(tmax/1000)*1000]\n",
    "Nages = len(slow_seq_ages)\n",
    "Teff = np.linspace(Tmin, Tmax, 100)\n",
    "colors = ListedColormap(plt.cm.viridis(np.linspace(tmin/tmax, 1, Nages))).colors\n",
    "\n",
    "fig, ax = plt.subplots()\n",
    "\n",
    "for i,slow_seq_age in enumerate(slow_seq_ages):\n",
    "    Prot = slow_sequence(\n",
    "        Teff, slow_seq_age, poly_order=7,\n",
    "        interp_method='pchip_m67'\n",
    "    )\n",
    "    ax.plot(\n",
    "        Teff, Prot, color=colors[i], linewidth=3, zorder=-1, label=f\"{slow_seq_age}\"\n",
    "    )\n",
    "\n",
    "# this work\n",
    "s = ax.scatter(gyro_age.Teff, gyro_age.Prot, marker='.', c=gyro_age.age_med)\n",
    "# yerr = gyro_age.Prot_\n",
    "# s = ax.errorbar(gyro_age.Teff, gyro_age.Prot, yerr=[yerrf], xerr=xerr, marker='.', c=gyro_age.age_med)\n",
    "fig.colorbar(s, label='Age [Myr]')\n",
    "ax.update({\n",
    "    'xlabel': 'Teff [K]',\n",
    "    'ylabel': 'Rotation period [days]',\n",
    "    'title': 'Gyro Ages of Known Host Stars',\n",
    "    'xlim': [3500, 6500],\n",
    "    });\n",
    "ax.xaxis.set_inverted(True)\n",
    "ax.legend(title='Age [Myr]', loc='upper left')"
   ]
  },
  {
   "cell_type": "raw",
   "id": "7075f541-0d94-4956-a9f8-c3e844e01fdd",
   "metadata": {},
   "source": [
    "idx = (gyro_age.Teff>6000) & (gyro_age.Prot>10)\n",
    "gyro_age[idx]"
   ]
  }
 ],
 "metadata": {
  "kernelspec": {
   "display_name": "gyrointerp",
   "language": "python",
   "name": "gyrointerp"
  },
  "language_info": {
   "codemirror_mode": {
    "name": "ipython",
    "version": 3
   },
   "file_extension": ".py",
   "mimetype": "text/x-python",
   "name": "python",
   "nbconvert_exporter": "python",
   "pygments_lexer": "ipython3",
   "version": "3.10.14"
  }
 },
 "nbformat": 4,
 "nbformat_minor": 5
}
