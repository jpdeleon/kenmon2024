{
 "cells": [
  {
   "cell_type": "markdown",
   "id": "a6500e5b-503a-4697-aa5c-50404f0b736a",
   "metadata": {},
   "source": [
    "## comparing ages from different nexsci tables"
   ]
  },
  {
   "cell_type": "markdown",
   "id": "3d972875-b1e5-4cfc-aa75-1bedc2892f6c",
   "metadata": {},
   "source": [
    "https://exoplanetarchive.ipac.caltech.edu/docs/API_PS_columns.html#choose"
   ]
  },
  {
   "cell_type": "code",
   "execution_count": 7,
   "id": "50d8ff94-ad1d-4caa-8a2e-a8024b1f4239",
   "metadata": {},
   "outputs": [
    {
     "name": "stdout",
     "output_type": "stream",
     "text": [
      "Column definitions:  https://exoplanetarchive.ipac.caltech.edu/docs/API_PS_columns.html\n",
      "Downloading NExSci ps table...\n"
     ]
    },
    {
     "name": "stderr",
     "output_type": "stream",
     "text": [
      "WARNING: Unrecognized unit: 'hour' for column pl_trandur. [astroquery.ipac.nexsci.nasa_exoplanet_archive.core]\n",
      "WARNING: Unrecognized unit: 'hour' for column pl_trandurerr1. [astroquery.ipac.nexsci.nasa_exoplanet_archive.core]\n",
      "WARNING: Unrecognized unit: 'hour' for column pl_trandurerr2. [astroquery.ipac.nexsci.nasa_exoplanet_archive.core]\n",
      "WARNING: column st_lum has a unit but is kept as a MaskedColumn as an attempt to convert it to Quantity failed with:\n",
      "UnitTypeError(\"MaskedQuantity instances require normal units, not <class 'astropy.units.function.logarithmic.DexUnit'> instances.\") [astropy.table.table]\n",
      "WARNING: column st_lumerr1 has a unit but is kept as a MaskedColumn as an attempt to convert it to Quantity failed with:\n",
      "UnitTypeError(\"MaskedQuantity instances require normal units, not <class 'astropy.units.function.logarithmic.DexUnit'> instances.\") [astropy.table.table]\n",
      "WARNING: column st_lumerr2 has a unit but is kept as a MaskedColumn as an attempt to convert it to Quantity failed with:\n",
      "UnitTypeError(\"MaskedQuantity instances require normal units, not <class 'astropy.units.function.logarithmic.DexUnit'> instances.\") [astropy.table.table]\n",
      "WARNING: column st_logg has a unit but is kept as a MaskedColumn as an attempt to convert it to Quantity failed with:\n",
      "UnitTypeError(\"MaskedQuantity instances require normal units, not <class 'astropy.units.function.logarithmic.DexUnit'> instances.\") [astropy.table.table]\n",
      "WARNING: column st_loggerr1 has a unit but is kept as a MaskedColumn as an attempt to convert it to Quantity failed with:\n",
      "UnitTypeError(\"MaskedQuantity instances require normal units, not <class 'astropy.units.function.logarithmic.DexUnit'> instances.\") [astropy.table.table]\n",
      "WARNING: column st_loggerr2 has a unit but is kept as a MaskedColumn as an attempt to convert it to Quantity failed with:\n",
      "UnitTypeError(\"MaskedQuantity instances require normal units, not <class 'astropy.units.function.logarithmic.DexUnit'> instances.\") [astropy.table.table]\n"
     ]
    },
    {
     "name": "stdout",
     "output_type": "stream",
     "text": [
      "Saved:  ../data/nexsci_ps.csv\n"
     ]
    },
    {
     "data": {
      "text/html": [
       "<div>\n",
       "<style scoped>\n",
       "    .dataframe tbody tr th:only-of-type {\n",
       "        vertical-align: middle;\n",
       "    }\n",
       "\n",
       "    .dataframe tbody tr th {\n",
       "        vertical-align: top;\n",
       "    }\n",
       "\n",
       "    .dataframe thead th {\n",
       "        text-align: right;\n",
       "    }\n",
       "</style>\n",
       "<table border=\"1\" class=\"dataframe\">\n",
       "  <thead>\n",
       "    <tr style=\"text-align: right;\">\n",
       "      <th></th>\n",
       "      <th>pl_name</th>\n",
       "      <th>pl_letter</th>\n",
       "      <th>hostname</th>\n",
       "      <th>hd_name</th>\n",
       "      <th>hip_name</th>\n",
       "      <th>tic_id</th>\n",
       "      <th>gaia_id</th>\n",
       "      <th>default_flag</th>\n",
       "      <th>pl_refname</th>\n",
       "      <th>sy_refname</th>\n",
       "      <th>...</th>\n",
       "      <th>sy_jmagstr</th>\n",
       "      <th>sy_hmag</th>\n",
       "      <th>sy_hmagerr1</th>\n",
       "      <th>sy_hmagerr2</th>\n",
       "      <th>sy_hmagstr</th>\n",
       "      <th>sy_kmag</th>\n",
       "      <th>sy_kmagerr1</th>\n",
       "      <th>sy_kmagerr2</th>\n",
       "      <th>sky_coord.ra</th>\n",
       "      <th>sky_coord.dec</th>\n",
       "    </tr>\n",
       "  </thead>\n",
       "  <tbody>\n",
       "    <tr>\n",
       "      <th>0</th>\n",
       "      <td>Kepler-6 b</td>\n",
       "      <td>b</td>\n",
       "      <td>Kepler-6</td>\n",
       "      <td></td>\n",
       "      <td></td>\n",
       "      <td>TIC 27916356</td>\n",
       "      <td>Gaia DR2 2086636884980514304</td>\n",
       "      <td>0</td>\n",
       "      <td>&lt;a refstr=MORTON_ET_AL__2016 href=https://ui.a...</td>\n",
       "      <td>&lt;a refstr=STASSUN_ET_AL__2019 href=https://ui....</td>\n",
       "      <td>...</td>\n",
       "      <td>12.001&amp;plusmn;0.021</td>\n",
       "      <td>11.706</td>\n",
       "      <td>0.019</td>\n",
       "      <td>-0.019</td>\n",
       "      <td>11.706&amp;plusmn;0.019</td>\n",
       "      <td>11.634</td>\n",
       "      <td>0.019</td>\n",
       "      <td>-0.019</td>\n",
       "      <td>296.837247</td>\n",
       "      <td>48.23997</td>\n",
       "    </tr>\n",
       "    <tr>\n",
       "      <th>1</th>\n",
       "      <td>Kepler-6 b</td>\n",
       "      <td>b</td>\n",
       "      <td>Kepler-6</td>\n",
       "      <td></td>\n",
       "      <td></td>\n",
       "      <td>TIC 27916356</td>\n",
       "      <td>Gaia DR2 2086636884980514304</td>\n",
       "      <td>0</td>\n",
       "      <td>&lt;a refstr=EXOFOP_TESS_TOI href=https://exofop....</td>\n",
       "      <td>&lt;a refstr=STASSUN_ET_AL__2019 href=https://ui....</td>\n",
       "      <td>...</td>\n",
       "      <td>12.001&amp;plusmn;0.021</td>\n",
       "      <td>11.706</td>\n",
       "      <td>0.019</td>\n",
       "      <td>-0.019</td>\n",
       "      <td>11.706&amp;plusmn;0.019</td>\n",
       "      <td>11.634</td>\n",
       "      <td>0.019</td>\n",
       "      <td>-0.019</td>\n",
       "      <td>296.837247</td>\n",
       "      <td>48.23997</td>\n",
       "    </tr>\n",
       "    <tr>\n",
       "      <th>2</th>\n",
       "      <td>Kepler-6 b</td>\n",
       "      <td>b</td>\n",
       "      <td>Kepler-6</td>\n",
       "      <td></td>\n",
       "      <td></td>\n",
       "      <td>TIC 27916356</td>\n",
       "      <td>Gaia DR2 2086636884980514304</td>\n",
       "      <td>1</td>\n",
       "      <td>&lt;a refstr=ESTEVES_ET_AL__2015 href=https://ui....</td>\n",
       "      <td>&lt;a refstr=STASSUN_ET_AL__2019 href=https://ui....</td>\n",
       "      <td>...</td>\n",
       "      <td>12.001&amp;plusmn;0.021</td>\n",
       "      <td>11.706</td>\n",
       "      <td>0.019</td>\n",
       "      <td>-0.019</td>\n",
       "      <td>11.706&amp;plusmn;0.019</td>\n",
       "      <td>11.634</td>\n",
       "      <td>0.019</td>\n",
       "      <td>-0.019</td>\n",
       "      <td>296.837247</td>\n",
       "      <td>48.23997</td>\n",
       "    </tr>\n",
       "    <tr>\n",
       "      <th>3</th>\n",
       "      <td>Kepler-6 b</td>\n",
       "      <td>b</td>\n",
       "      <td>Kepler-6</td>\n",
       "      <td></td>\n",
       "      <td></td>\n",
       "      <td>TIC 27916356</td>\n",
       "      <td>Gaia DR2 2086636884980514304</td>\n",
       "      <td>0</td>\n",
       "      <td>&lt;a refstr=Q1_Q12_KOI_TABLE href=https://exopla...</td>\n",
       "      <td>&lt;a refstr=STASSUN_ET_AL__2019 href=https://ui....</td>\n",
       "      <td>...</td>\n",
       "      <td>12.001&amp;plusmn;0.021</td>\n",
       "      <td>11.706</td>\n",
       "      <td>0.019</td>\n",
       "      <td>-0.019</td>\n",
       "      <td>11.706&amp;plusmn;0.019</td>\n",
       "      <td>11.634</td>\n",
       "      <td>0.019</td>\n",
       "      <td>-0.019</td>\n",
       "      <td>296.837247</td>\n",
       "      <td>48.23997</td>\n",
       "    </tr>\n",
       "    <tr>\n",
       "      <th>4</th>\n",
       "      <td>Kepler-6 b</td>\n",
       "      <td>b</td>\n",
       "      <td>Kepler-6</td>\n",
       "      <td></td>\n",
       "      <td></td>\n",
       "      <td>TIC 27916356</td>\n",
       "      <td>Gaia DR2 2086636884980514304</td>\n",
       "      <td>0</td>\n",
       "      <td>&lt;a refstr=Q1_Q16_KOI_TABLE href=https://exopla...</td>\n",
       "      <td>&lt;a refstr=STASSUN_ET_AL__2019 href=https://ui....</td>\n",
       "      <td>...</td>\n",
       "      <td>12.001&amp;plusmn;0.021</td>\n",
       "      <td>11.706</td>\n",
       "      <td>0.019</td>\n",
       "      <td>-0.019</td>\n",
       "      <td>11.706&amp;plusmn;0.019</td>\n",
       "      <td>11.634</td>\n",
       "      <td>0.019</td>\n",
       "      <td>-0.019</td>\n",
       "      <td>296.837247</td>\n",
       "      <td>48.23997</td>\n",
       "    </tr>\n",
       "  </tbody>\n",
       "</table>\n",
       "<p>5 rows × 356 columns</p>\n",
       "</div>"
      ],
      "text/plain": [
       "      pl_name pl_letter  hostname hd_name hip_name        tic_id  \\\n",
       "0  Kepler-6 b         b  Kepler-6                   TIC 27916356   \n",
       "1  Kepler-6 b         b  Kepler-6                   TIC 27916356   \n",
       "2  Kepler-6 b         b  Kepler-6                   TIC 27916356   \n",
       "3  Kepler-6 b         b  Kepler-6                   TIC 27916356   \n",
       "4  Kepler-6 b         b  Kepler-6                   TIC 27916356   \n",
       "\n",
       "                        gaia_id  default_flag  \\\n",
       "0  Gaia DR2 2086636884980514304             0   \n",
       "1  Gaia DR2 2086636884980514304             0   \n",
       "2  Gaia DR2 2086636884980514304             1   \n",
       "3  Gaia DR2 2086636884980514304             0   \n",
       "4  Gaia DR2 2086636884980514304             0   \n",
       "\n",
       "                                          pl_refname  \\\n",
       "0  <a refstr=MORTON_ET_AL__2016 href=https://ui.a...   \n",
       "1  <a refstr=EXOFOP_TESS_TOI href=https://exofop....   \n",
       "2  <a refstr=ESTEVES_ET_AL__2015 href=https://ui....   \n",
       "3  <a refstr=Q1_Q12_KOI_TABLE href=https://exopla...   \n",
       "4  <a refstr=Q1_Q16_KOI_TABLE href=https://exopla...   \n",
       "\n",
       "                                          sy_refname  ...  \\\n",
       "0  <a refstr=STASSUN_ET_AL__2019 href=https://ui....  ...   \n",
       "1  <a refstr=STASSUN_ET_AL__2019 href=https://ui....  ...   \n",
       "2  <a refstr=STASSUN_ET_AL__2019 href=https://ui....  ...   \n",
       "3  <a refstr=STASSUN_ET_AL__2019 href=https://ui....  ...   \n",
       "4  <a refstr=STASSUN_ET_AL__2019 href=https://ui....  ...   \n",
       "\n",
       "            sy_jmagstr  sy_hmag sy_hmagerr1 sy_hmagerr2           sy_hmagstr  \\\n",
       "0  12.001&plusmn;0.021   11.706       0.019      -0.019  11.706&plusmn;0.019   \n",
       "1  12.001&plusmn;0.021   11.706       0.019      -0.019  11.706&plusmn;0.019   \n",
       "2  12.001&plusmn;0.021   11.706       0.019      -0.019  11.706&plusmn;0.019   \n",
       "3  12.001&plusmn;0.021   11.706       0.019      -0.019  11.706&plusmn;0.019   \n",
       "4  12.001&plusmn;0.021   11.706       0.019      -0.019  11.706&plusmn;0.019   \n",
       "\n",
       "  sy_kmag sy_kmagerr1 sy_kmagerr2  sky_coord.ra sky_coord.dec  \n",
       "0  11.634       0.019      -0.019    296.837247      48.23997  \n",
       "1  11.634       0.019      -0.019    296.837247      48.23997  \n",
       "2  11.634       0.019      -0.019    296.837247      48.23997  \n",
       "3  11.634       0.019      -0.019    296.837247      48.23997  \n",
       "4  11.634       0.019      -0.019    296.837247      48.23997  \n",
       "\n",
       "[5 rows x 356 columns]"
      ]
     },
     "execution_count": 7,
     "metadata": {},
     "output_type": "execute_result"
    }
   ],
   "source": [
    "import sys\n",
    "sys.path.insert(0, '../code/')\n",
    "from kenmon import get_nexsci_data\n",
    "\n",
    "df1 = get_nexsci_data(table_name=\"ps\", clobber=False)\n",
    "df1.head()"
   ]
  },
  {
   "cell_type": "code",
   "execution_count": 8,
   "id": "062a21a3-4ca6-47bc-903e-aed0eba6ab73",
   "metadata": {},
   "outputs": [
    {
     "data": {
      "text/plain": [
       "(34507, 356)"
      ]
     },
     "execution_count": 8,
     "metadata": {},
     "output_type": "execute_result"
    }
   ],
   "source": [
    "df1.shape"
   ]
  },
  {
   "cell_type": "code",
   "execution_count": 9,
   "id": "1fb642f3-ae14-4d03-96ea-3978d0d6ea8b",
   "metadata": {},
   "outputs": [
    {
     "name": "stdout",
     "output_type": "stream",
     "text": [
      "Column definitions:  https://exoplanetarchive.ipac.caltech.edu/docs/API_PS_columns.html\n",
      "Loaded:  ../data/nexsci_pscomppars.csv\n"
     ]
    },
    {
     "data": {
      "text/html": [
       "<div>\n",
       "<style scoped>\n",
       "    .dataframe tbody tr th:only-of-type {\n",
       "        vertical-align: middle;\n",
       "    }\n",
       "\n",
       "    .dataframe tbody tr th {\n",
       "        vertical-align: top;\n",
       "    }\n",
       "\n",
       "    .dataframe thead th {\n",
       "        text-align: right;\n",
       "    }\n",
       "</style>\n",
       "<table border=\"1\" class=\"dataframe\">\n",
       "  <thead>\n",
       "    <tr style=\"text-align: right;\">\n",
       "      <th></th>\n",
       "      <th>objectid</th>\n",
       "      <th>pl_name</th>\n",
       "      <th>pl_letter</th>\n",
       "      <th>hostid</th>\n",
       "      <th>hostname</th>\n",
       "      <th>hd_name</th>\n",
       "      <th>hip_name</th>\n",
       "      <th>tic_id</th>\n",
       "      <th>disc_pubdate</th>\n",
       "      <th>disc_year</th>\n",
       "      <th>...</th>\n",
       "      <th>pl_angseperr1</th>\n",
       "      <th>pl_angseperr2</th>\n",
       "      <th>pl_angseplim</th>\n",
       "      <th>pl_angsepformat</th>\n",
       "      <th>pl_angsepstr</th>\n",
       "      <th>pl_angsepsymerr</th>\n",
       "      <th>pl_angsep_reflink</th>\n",
       "      <th>pl_ndispec</th>\n",
       "      <th>sky_coord.ra</th>\n",
       "      <th>sky_coord.dec</th>\n",
       "    </tr>\n",
       "  </thead>\n",
       "  <tbody>\n",
       "    <tr>\n",
       "      <th>0</th>\n",
       "      <td>3.34990</td>\n",
       "      <td>Kepler-24 e</td>\n",
       "      <td>e</td>\n",
       "      <td>2.424906</td>\n",
       "      <td>Kepler-24</td>\n",
       "      <td>NaN</td>\n",
       "      <td>NaN</td>\n",
       "      <td>TIC 122376177</td>\n",
       "      <td>2014-03</td>\n",
       "      <td>2014</td>\n",
       "      <td>...</td>\n",
       "      <td>NaN</td>\n",
       "      <td>NaN</td>\n",
       "      <td>0.0</td>\n",
       "      <td>NaN</td>\n",
       "      <td>0.1190</td>\n",
       "      <td>NaN</td>\n",
       "      <td>&lt;a refstr=CALCULATED_VALUE href=/docs/pscp_cal...</td>\n",
       "      <td>0</td>\n",
       "      <td>290.413262</td>\n",
       "      <td>38.343728</td>\n",
       "    </tr>\n",
       "    <tr>\n",
       "      <th>1</th>\n",
       "      <td>3.24410</td>\n",
       "      <td>Kepler-1065 b</td>\n",
       "      <td>b</td>\n",
       "      <td>2.430631</td>\n",
       "      <td>Kepler-1065</td>\n",
       "      <td>NaN</td>\n",
       "      <td>NaN</td>\n",
       "      <td>TIC 378012771</td>\n",
       "      <td>2016-05</td>\n",
       "      <td>2016</td>\n",
       "      <td>...</td>\n",
       "      <td>NaN</td>\n",
       "      <td>NaN</td>\n",
       "      <td>0.0</td>\n",
       "      <td>NaN</td>\n",
       "      <td>0.0405</td>\n",
       "      <td>NaN</td>\n",
       "      <td>&lt;a refstr=CALCULATED_VALUE href=/docs/pscp_cal...</td>\n",
       "      <td>0</td>\n",
       "      <td>294.511319</td>\n",
       "      <td>38.790465</td>\n",
       "    </tr>\n",
       "    <tr>\n",
       "      <th>2</th>\n",
       "      <td>3.12740</td>\n",
       "      <td>TOI-1260 c</td>\n",
       "      <td>c</td>\n",
       "      <td>2.572931</td>\n",
       "      <td>TOI-1260</td>\n",
       "      <td>NaN</td>\n",
       "      <td>NaN</td>\n",
       "      <td>TIC 355867695</td>\n",
       "      <td>2021-08</td>\n",
       "      <td>2021</td>\n",
       "      <td>...</td>\n",
       "      <td>NaN</td>\n",
       "      <td>NaN</td>\n",
       "      <td>0.0</td>\n",
       "      <td>NaN</td>\n",
       "      <td>0.8930</td>\n",
       "      <td>NaN</td>\n",
       "      <td>&lt;a refstr=CALCULATED_VALUE href=/docs/pscp_cal...</td>\n",
       "      <td>0</td>\n",
       "      <td>157.144071</td>\n",
       "      <td>65.854199</td>\n",
       "    </tr>\n",
       "    <tr>\n",
       "      <th>3</th>\n",
       "      <td>3.13149</td>\n",
       "      <td>HD 28109 c</td>\n",
       "      <td>c</td>\n",
       "      <td>2.573080</td>\n",
       "      <td>HD 28109</td>\n",
       "      <td>HD 28109</td>\n",
       "      <td>NaN</td>\n",
       "      <td>TIC 29781292</td>\n",
       "      <td>2022-05</td>\n",
       "      <td>2022</td>\n",
       "      <td>...</td>\n",
       "      <td>NaN</td>\n",
       "      <td>NaN</td>\n",
       "      <td>0.0</td>\n",
       "      <td>NaN</td>\n",
       "      <td>2.2100</td>\n",
       "      <td>NaN</td>\n",
       "      <td>&lt;a refstr=CALCULATED_VALUE href=/docs/pscp_cal...</td>\n",
       "      <td>0</td>\n",
       "      <td>65.238306</td>\n",
       "      <td>-68.102688</td>\n",
       "    </tr>\n",
       "    <tr>\n",
       "      <th>4</th>\n",
       "      <td>3.12788</td>\n",
       "      <td>K2-350 b</td>\n",
       "      <td>b</td>\n",
       "      <td>2.208571</td>\n",
       "      <td>K2-350</td>\n",
       "      <td>NaN</td>\n",
       "      <td>NaN</td>\n",
       "      <td>TIC 294319820</td>\n",
       "      <td>2021-08</td>\n",
       "      <td>2021</td>\n",
       "      <td>...</td>\n",
       "      <td>NaN</td>\n",
       "      <td>NaN</td>\n",
       "      <td>NaN</td>\n",
       "      <td>NaN</td>\n",
       "      <td>NaN</td>\n",
       "      <td>NaN</td>\n",
       "      <td>NaN</td>\n",
       "      <td>0</td>\n",
       "      <td>204.035509</td>\n",
       "      <td>-14.009252</td>\n",
       "    </tr>\n",
       "  </tbody>\n",
       "</table>\n",
       "<p>5 rows × 684 columns</p>\n",
       "</div>"
      ],
      "text/plain": [
       "   objectid        pl_name pl_letter    hostid     hostname   hd_name  \\\n",
       "0   3.34990    Kepler-24 e         e  2.424906    Kepler-24       NaN   \n",
       "1   3.24410  Kepler-1065 b         b  2.430631  Kepler-1065       NaN   \n",
       "2   3.12740     TOI-1260 c         c  2.572931     TOI-1260       NaN   \n",
       "3   3.13149     HD 28109 c         c  2.573080     HD 28109  HD 28109   \n",
       "4   3.12788       K2-350 b         b  2.208571       K2-350       NaN   \n",
       "\n",
       "  hip_name         tic_id disc_pubdate  disc_year  ... pl_angseperr1  \\\n",
       "0      NaN  TIC 122376177      2014-03       2014  ...           NaN   \n",
       "1      NaN  TIC 378012771      2016-05       2016  ...           NaN   \n",
       "2      NaN  TIC 355867695      2021-08       2021  ...           NaN   \n",
       "3      NaN   TIC 29781292      2022-05       2022  ...           NaN   \n",
       "4      NaN  TIC 294319820      2021-08       2021  ...           NaN   \n",
       "\n",
       "  pl_angseperr2 pl_angseplim pl_angsepformat pl_angsepstr pl_angsepsymerr  \\\n",
       "0           NaN          0.0             NaN       0.1190             NaN   \n",
       "1           NaN          0.0             NaN       0.0405             NaN   \n",
       "2           NaN          0.0             NaN       0.8930             NaN   \n",
       "3           NaN          0.0             NaN       2.2100             NaN   \n",
       "4           NaN          NaN             NaN          NaN             NaN   \n",
       "\n",
       "                                   pl_angsep_reflink  pl_ndispec  \\\n",
       "0  <a refstr=CALCULATED_VALUE href=/docs/pscp_cal...           0   \n",
       "1  <a refstr=CALCULATED_VALUE href=/docs/pscp_cal...           0   \n",
       "2  <a refstr=CALCULATED_VALUE href=/docs/pscp_cal...           0   \n",
       "3  <a refstr=CALCULATED_VALUE href=/docs/pscp_cal...           0   \n",
       "4                                                NaN           0   \n",
       "\n",
       "   sky_coord.ra  sky_coord.dec  \n",
       "0    290.413262      38.343728  \n",
       "1    294.511319      38.790465  \n",
       "2    157.144071      65.854199  \n",
       "3     65.238306     -68.102688  \n",
       "4    204.035509     -14.009252  \n",
       "\n",
       "[5 rows x 684 columns]"
      ]
     },
     "execution_count": 9,
     "metadata": {},
     "output_type": "execute_result"
    }
   ],
   "source": [
    "df2 = get_nexsci_data(table_name=\"pscomppars\", clobber=False)\n",
    "df2.head()"
   ]
  },
  {
   "cell_type": "code",
   "execution_count": 10,
   "id": "25ab5b14-2db1-4cc0-a1d7-5253b79bc050",
   "metadata": {},
   "outputs": [
    {
     "data": {
      "text/plain": [
       "(4360, 684)"
      ]
     },
     "execution_count": 10,
     "metadata": {},
     "output_type": "execute_result"
    }
   ],
   "source": [
    "df2.shape"
   ]
  },
  {
   "cell_type": "code",
   "execution_count": 11,
   "id": "c87735ff-bc09-4ded-8470-ba32e68323fb",
   "metadata": {},
   "outputs": [
    {
     "data": {
      "text/plain": [
       "3305"
      ]
     },
     "execution_count": 11,
     "metadata": {},
     "output_type": "execute_result"
    }
   ],
   "source": [
    "len(df1.hostname.unique())"
   ]
  },
  {
   "cell_type": "code",
   "execution_count": 12,
   "id": "0fc2fac8-478a-4e68-a2dc-96667873bea4",
   "metadata": {},
   "outputs": [
    {
     "data": {
      "text/plain": [
       "3305"
      ]
     },
     "execution_count": 12,
     "metadata": {},
     "output_type": "execute_result"
    }
   ],
   "source": [
    "len(df2.hostname.unique())"
   ]
  },
  {
   "cell_type": "code",
   "execution_count": 13,
   "id": "8dd646e1-1574-4843-9433-365f44f7491e",
   "metadata": {},
   "outputs": [
    {
     "data": {
      "text/plain": [
       "(4360,)"
      ]
     },
     "execution_count": 13,
     "metadata": {},
     "output_type": "execute_result"
    }
   ],
   "source": [
    "df2.st_age.shape"
   ]
  },
  {
   "cell_type": "code",
   "execution_count": 15,
   "id": "6e388f30-40eb-4684-8a66-174fad0991ce",
   "metadata": {},
   "outputs": [
    {
     "data": {
      "text/plain": [
       "(2303,)"
      ]
     },
     "execution_count": 15,
     "metadata": {},
     "output_type": "execute_result"
    }
   ],
   "source": [
    "df1[df1.default_flag==1].st_age.dropna().shape"
   ]
  },
  {
   "cell_type": "code",
   "execution_count": 16,
   "id": "8d5a1ae3-5318-4d13-a948-e8b361515916",
   "metadata": {},
   "outputs": [
    {
     "data": {
      "text/plain": [
       "(3710,)"
      ]
     },
     "execution_count": 16,
     "metadata": {},
     "output_type": "execute_result"
    }
   ],
   "source": [
    "df2.st_age.dropna().shape"
   ]
  },
  {
   "cell_type": "code",
   "execution_count": 19,
   "id": "f35e2905-5f4f-4932-b040-c75c025062bb",
   "metadata": {},
   "outputs": [
    {
     "data": {
      "text/html": [
       "<div>\n",
       "<style scoped>\n",
       "    .dataframe tbody tr th:only-of-type {\n",
       "        vertical-align: middle;\n",
       "    }\n",
       "\n",
       "    .dataframe tbody tr th {\n",
       "        vertical-align: top;\n",
       "    }\n",
       "\n",
       "    .dataframe thead th {\n",
       "        text-align: right;\n",
       "    }\n",
       "</style>\n",
       "<table border=\"1\" class=\"dataframe\">\n",
       "  <thead>\n",
       "    <tr style=\"text-align: right;\">\n",
       "      <th></th>\n",
       "      <th>st_age</th>\n",
       "      <th>st_age_reflink</th>\n",
       "    </tr>\n",
       "  </thead>\n",
       "  <tbody>\n",
       "    <tr>\n",
       "      <th>0</th>\n",
       "      <td>3.02</td>\n",
       "      <td>&lt;a refstr=FULTON__AMP__PETIGURA_2018 href=http...</td>\n",
       "    </tr>\n",
       "    <tr>\n",
       "      <th>1</th>\n",
       "      <td>4.47</td>\n",
       "      <td>&lt;a refstr=MORTON_ET_AL__2016 href=https://ui.a...</td>\n",
       "    </tr>\n",
       "    <tr>\n",
       "      <th>2</th>\n",
       "      <td>6.70</td>\n",
       "      <td>&lt;a refstr=LAM_ET_AL__2022 href=https://ui.adsa...</td>\n",
       "    </tr>\n",
       "    <tr>\n",
       "      <th>3</th>\n",
       "      <td>1.10</td>\n",
       "      <td>&lt;a refstr=DRANSFIELD_ET_AL__2022 href=https://...</td>\n",
       "    </tr>\n",
       "    <tr>\n",
       "      <th>9</th>\n",
       "      <td>6.35</td>\n",
       "      <td>&lt;a refstr=GHACHOUI_ET_AL__2024 href=https://ui...</td>\n",
       "    </tr>\n",
       "    <tr>\n",
       "      <th>...</th>\n",
       "      <td>...</td>\n",
       "      <td>...</td>\n",
       "    </tr>\n",
       "    <tr>\n",
       "      <th>4355</th>\n",
       "      <td>0.50</td>\n",
       "      <td>&lt;a refstr=GILLON_ET_AL__2016 href=https://ui.a...</td>\n",
       "    </tr>\n",
       "    <tr>\n",
       "      <th>4356</th>\n",
       "      <td>6.00</td>\n",
       "      <td>&lt;a refstr=LIVINGSTON_ET_AL__2024 href=https://...</td>\n",
       "    </tr>\n",
       "    <tr>\n",
       "      <th>4357</th>\n",
       "      <td>4.37</td>\n",
       "      <td>&lt;a refstr=MORTON_ET_AL__2016 href=https://ui.a...</td>\n",
       "    </tr>\n",
       "    <tr>\n",
       "      <th>4358</th>\n",
       "      <td>13.80</td>\n",
       "      <td>&lt;a refstr=Q1_Q8_KOI_TABLE href=https://exoplan...</td>\n",
       "    </tr>\n",
       "    <tr>\n",
       "      <th>4359</th>\n",
       "      <td>7.50</td>\n",
       "      <td>&lt;a refstr=NAPONIELLO_ET_AL__2025 href=https://...</td>\n",
       "    </tr>\n",
       "  </tbody>\n",
       "</table>\n",
       "<p>3710 rows × 2 columns</p>\n",
       "</div>"
      ],
      "text/plain": [
       "      st_age                                     st_age_reflink\n",
       "0       3.02  <a refstr=FULTON__AMP__PETIGURA_2018 href=http...\n",
       "1       4.47  <a refstr=MORTON_ET_AL__2016 href=https://ui.a...\n",
       "2       6.70  <a refstr=LAM_ET_AL__2022 href=https://ui.adsa...\n",
       "3       1.10  <a refstr=DRANSFIELD_ET_AL__2022 href=https://...\n",
       "9       6.35  <a refstr=GHACHOUI_ET_AL__2024 href=https://ui...\n",
       "...      ...                                                ...\n",
       "4355    0.50  <a refstr=GILLON_ET_AL__2016 href=https://ui.a...\n",
       "4356    6.00  <a refstr=LIVINGSTON_ET_AL__2024 href=https://...\n",
       "4357    4.37  <a refstr=MORTON_ET_AL__2016 href=https://ui.a...\n",
       "4358   13.80  <a refstr=Q1_Q8_KOI_TABLE href=https://exoplan...\n",
       "4359    7.50  <a refstr=NAPONIELLO_ET_AL__2025 href=https://...\n",
       "\n",
       "[3710 rows x 2 columns]"
      ]
     },
     "execution_count": 19,
     "metadata": {},
     "output_type": "execute_result"
    }
   ],
   "source": [
    "cols =['st_age','st_age_reflink']\n",
    "df2.dropna(subset='st_age')[cols]"
   ]
  },
  {
   "cell_type": "markdown",
   "id": "d639f70c-db7c-43d2-93db-0d4881aca81b",
   "metadata": {},
   "source": [
    "## Summary"
   ]
  },
  {
   "cell_type": "markdown",
   "id": "0743c539-822e-492f-be60-892497f65ead",
   "metadata": {},
   "source": [
    "* use `table_name=\"pscomppars\"` since it has more age data\n",
    "* Information on how the age was derived/ which method used is not explicit in the table. We have to check the paper to know."
   ]
  },
  {
   "cell_type": "code",
   "execution_count": null,
   "id": "dfef81bc-c953-4eb3-8a07-3af4848b3d41",
   "metadata": {},
   "outputs": [],
   "source": []
  }
 ],
 "metadata": {
  "kernelspec": {
   "display_name": "wakai",
   "language": "python",
   "name": "wakai"
  },
  "language_info": {
   "codemirror_mode": {
    "name": "ipython",
    "version": 3
   },
   "file_extension": ".py",
   "mimetype": "text/x-python",
   "name": "python",
   "nbconvert_exporter": "python",
   "pygments_lexer": "ipython3",
   "version": "3.12.4"
  }
 },
 "nbformat": 4,
 "nbformat_minor": 5
}
